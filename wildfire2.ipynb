{
 "cells": [
  {
   "cell_type": "code",
   "execution_count": 1,
   "id": "8b501ed3",
   "metadata": {},
   "outputs": [
    {
     "name": "stderr",
     "output_type": "stream",
     "text": [
      "2023-05-07 07:34:36.417625: I tensorflow/core/platform/cpu_feature_guard.cc:194] This TensorFlow binary is optimized with oneAPI Deep Neural Network Library (oneDNN) to use the following CPU instructions in performance-critical operations:  SSE3 SSE4.1 SSE4.2 AVX\n",
      "To enable them in other operations, rebuild TensorFlow with the appropriate compiler flags.\n"
     ]
    },
    {
     "name": "stdout",
     "output_type": "stream",
     "text": [
      "[PhysicalDevice(name='/physical_device:GPU:0', device_type='GPU')]\n"
     ]
    }
   ],
   "source": [
    "import math\n",
    "import tensorflow as tf\n",
    "import tensorflow.keras\n",
    "from tensorflow.keras import layers, models, losses, optimizers\n",
    "import numpy as np\n",
    "import xarray as xr\n",
    "import matplotlib.pyplot as plt\n",
    "from sklearn.preprocessing import StandardScaler\n",
    "from sklearn.metrics import confusion_matrix, ConfusionMatrixDisplay\n",
    "import warnings\n",
    "print(tf.config.list_physical_devices('GPU'))"
   ]
  },
  {
   "cell_type": "code",
   "execution_count": 2,
   "id": "fde88894",
   "metadata": {},
   "outputs": [
    {
     "name": "stderr",
     "output_type": "stream",
     "text": [
      "/usr/local/lib/python3.8/dist-packages/xarray/backends/plugins.py:71: RuntimeWarning: Engine 'cfgrib' loading failed:\n",
      "Cannot find the ecCodes library\n",
      "  warnings.warn(f\"Engine {name!r} loading failed:\\n{ex}\", RuntimeWarning)\n"
     ]
    }
   ],
   "source": [
    "# import dataset\n",
    "datapath = \"../wildfire_dataset.nc\"\n",
    "wildfire_dataset = xr.open_dataset(datapath, engine=\"netcdf4\")\n",
    "# print(wildfire_dataset)\n",
    "feature_list = wildfire_dataset.data_vars\n",
    "feature_nums = len(feature_list)\n",
    "\n",
    "# maybe predict more than one thing later, but for not only try to predict burned areas\n",
    "remove_label = [\"burned_areas\", \"ignition_points\", \"number_of_fires\", \"POP_DENS_2009\", \"POP_DENS_2010\", \"POP_DENS_2011\", \"POP_DENS_2012\", \"POP_DENS_2013\", \"POP_DENS_2014\", \"POP_DENS_2015\", \"POP_DENS_2016\", \"POP_DENS_2017\", \"POP_DENS_2018\", \"POP_DENS_2019\", \"POP_DENS_2020\", \"POP_DENS_2021\", \"ROAD_DISTANCE\"]\n",
    "X_label = [label for label in feature_list if label not in remove_label]\n",
    "y_label = \"burned_areas\"\n",
    "Xy_label = X_label\n",
    "Xy_label.append(y_label)"
   ]
  },
  {
   "cell_type": "code",
   "execution_count": 3,
   "id": "e1cf2fe9",
   "metadata": {},
   "outputs": [],
   "source": [
    "start_timestep = 100\n",
    "num_samples = 10\n",
    "timesteps_per_sample = 2\n",
    "width_limit = 100\n",
    "height_limit = 100\n",
    "timestep_samples = num_samples*timesteps_per_sample\n",
    "train_size = 0.7"
   ]
  },
  {
   "cell_type": "code",
   "execution_count": 4,
   "id": "2b6db8c9",
   "metadata": {},
   "outputs": [],
   "source": [
    "# DATA PROCESSING\n",
    "# 1) Train Test Split\n",
    "# 2) Convert train, test sets into np array\n",
    "# 3) For the train set, weight/multiply the fire dataset and combine it with the non fire dataset (Class weighting)\n",
    "# 4) Leave the test set as is (No need for class weighting because only used for testing)\n",
    "\n",
    "# partial dataset (limit x and y coords)\n",
    "# train_dataset = wildfire_dataset.isel(time=slice(None,math.floor(timestep_samples*train_size)), x=slice(None,width_limit), y=slice(None,height_limit))\n",
    "# train_dataset = train_dataset[Xy_label]\n",
    "# test_dataset = wildfire_dataset.isel(time=slice(math.floor(timestep_samples*train_size),timestep_samples), x=slice(None,width_limit), y=slice(None,height_limit))\n",
    "# test_dataset = test_dataset[Xy_label]"
   ]
  },
  {
   "cell_type": "code",
   "execution_count": 5,
   "id": "61c5052e",
   "metadata": {},
   "outputs": [],
   "source": [
    "# full dataset\n",
    "train_dataset = wildfire_dataset.isel(time=slice(start_timestep, start_timestep+timestep_samples))\n",
    "train_dataset = train_dataset[Xy_label]"
   ]
  },
  {
   "cell_type": "code",
   "execution_count": 6,
   "id": "e3a94094",
   "metadata": {},
   "outputs": [],
   "source": [
    "# axis_2_size is the timesteps for the dataset\n",
    "def dataset_to_np(dataset, axis_2_size):\n",
    "    # # Create the X into a numpy matrix of shape (time, x, y)\n",
    "    ds_np = dataset[list(dataset.data_vars)[0]].to_numpy()\n",
    "    ds_np = np.transpose(ds_np, (0,2,1))\n",
    "    ds_np = np.expand_dims(ds_np, 3)\n",
    "\n",
    "    for index, feature in enumerate(list(dataset.data_vars)):\n",
    "        print(feature)\n",
    "        if(index > 0):\n",
    "            # Since wf_dataset_X_np is already initiaklized with the first element, skip\n",
    "            new_np_arr = dataset[feature].to_numpy()\n",
    "            print(\"new_np_arr.shape: \", new_np_arr.shape)\n",
    "            # print(\"new_np_arr shape: \",new_np_arr.shape)\n",
    "            if(len(new_np_arr.shape) == 2):\n",
    "                # If a feature doesn't contain a time dimension (n), we extend the 2d matrix to 3d with copy of matrix n times\n",
    "                # Might be able to use numpy broadcast instead\n",
    "                new_np_arr = np.repeat(new_np_arr[:, :, np.newaxis], axis_2_size, axis=2)\n",
    "                # Transpose feature to \"time\", \"x\", \"y\" format\n",
    "                new_np_arr = np.transpose(new_np_arr)\n",
    "            else:\n",
    "                # Transpose feature to \"time\", \"x\", \"y\" format\n",
    "                new_np_arr = np.transpose(new_np_arr, (0,2,1))\n",
    "            if (np.isnan(new_np_arr).all()):\n",
    "                # Precaution to alert if a feature has all NaN values\n",
    "                warnings.warn(str(feature) + \" feature's values are all NaNs\")\n",
    "            if (np.isnan(new_np_arr).any()):\n",
    "                # Precaution to alert if a feature has all NaN values\n",
    "                warnings.warn(str(feature) + \" feature's values has NaNs\")\n",
    "            # print(new_np_arr.shape)\n",
    "            ds_np = np.concatenate((ds_np, np.expand_dims(new_np_arr, axis=3)), axis=3)\n",
    "        print(ds_np.shape)\n",
    "    return ds_np"
   ]
  },
  {
   "cell_type": "code",
   "execution_count": 7,
   "id": "d67ad747",
   "metadata": {
    "scrolled": true
   },
   "outputs": [
    {
     "name": "stdout",
     "output_type": "stream",
     "text": [
      "ndvi\n",
      "(20, 1253, 983, 1)\n",
      "evi\n",
      "new_np_arr.shape:  (20, 983, 1253)\n",
      "(20, 1253, 983, 2)\n",
      "et\n"
     ]
    },
    {
     "name": "stderr",
     "output_type": "stream",
     "text": [
      "/tmp/ipykernel_410/1721584199.py:29: UserWarning: evi feature's values has NaNs\n",
      "  warnings.warn(str(feature) + \" feature's values has NaNs\")\n"
     ]
    },
    {
     "name": "stdout",
     "output_type": "stream",
     "text": [
      "new_np_arr.shape:  (20, 983, 1253)\n",
      "(20, 1253, 983, 3)\n",
      "lst_day\n",
      "new_np_arr.shape:  (20, 983, 1253)\n"
     ]
    },
    {
     "name": "stderr",
     "output_type": "stream",
     "text": [
      "/tmp/ipykernel_410/1721584199.py:29: UserWarning: lst_day feature's values has NaNs\n",
      "  warnings.warn(str(feature) + \" feature's values has NaNs\")\n"
     ]
    },
    {
     "name": "stdout",
     "output_type": "stream",
     "text": [
      "(20, 1253, 983, 4)\n",
      "lst_night\n",
      "new_np_arr.shape:  (20, 983, 1253)\n"
     ]
    },
    {
     "name": "stderr",
     "output_type": "stream",
     "text": [
      "/tmp/ipykernel_410/1721584199.py:29: UserWarning: lst_night feature's values has NaNs\n",
      "  warnings.warn(str(feature) + \" feature's values has NaNs\")\n"
     ]
    },
    {
     "name": "stdout",
     "output_type": "stream",
     "text": [
      "(20, 1253, 983, 5)\n",
      "fapar\n",
      "new_np_arr.shape:  (20, 983, 1253)\n"
     ]
    },
    {
     "name": "stderr",
     "output_type": "stream",
     "text": [
      "/tmp/ipykernel_410/1721584199.py:29: UserWarning: fapar feature's values has NaNs\n",
      "  warnings.warn(str(feature) + \" feature's values has NaNs\")\n"
     ]
    },
    {
     "name": "stdout",
     "output_type": "stream",
     "text": [
      "(20, 1253, 983, 6)\n",
      "lai\n",
      "new_np_arr.shape:  (20, 983, 1253)\n"
     ]
    },
    {
     "name": "stderr",
     "output_type": "stream",
     "text": [
      "/tmp/ipykernel_410/1721584199.py:29: UserWarning: lai feature's values has NaNs\n",
      "  warnings.warn(str(feature) + \" feature's values has NaNs\")\n"
     ]
    },
    {
     "name": "stdout",
     "output_type": "stream",
     "text": [
      "(20, 1253, 983, 7)\n",
      "max_u10\n",
      "new_np_arr.shape:  (20, 983, 1253)\n"
     ]
    },
    {
     "name": "stderr",
     "output_type": "stream",
     "text": [
      "/tmp/ipykernel_410/1721584199.py:29: UserWarning: max_u10 feature's values has NaNs\n",
      "  warnings.warn(str(feature) + \" feature's values has NaNs\")\n"
     ]
    },
    {
     "name": "stdout",
     "output_type": "stream",
     "text": [
      "(20, 1253, 983, 8)\n",
      "max_v10\n",
      "new_np_arr.shape:  (20, 983, 1253)\n"
     ]
    },
    {
     "name": "stderr",
     "output_type": "stream",
     "text": [
      "/tmp/ipykernel_410/1721584199.py:29: UserWarning: max_v10 feature's values has NaNs\n",
      "  warnings.warn(str(feature) + \" feature's values has NaNs\")\n"
     ]
    },
    {
     "name": "stdout",
     "output_type": "stream",
     "text": [
      "(20, 1253, 983, 9)\n",
      "max_d2m\n",
      "new_np_arr.shape:  (20, 983, 1253)\n"
     ]
    },
    {
     "name": "stderr",
     "output_type": "stream",
     "text": [
      "/tmp/ipykernel_410/1721584199.py:29: UserWarning: max_d2m feature's values has NaNs\n",
      "  warnings.warn(str(feature) + \" feature's values has NaNs\")\n"
     ]
    },
    {
     "name": "stdout",
     "output_type": "stream",
     "text": [
      "(20, 1253, 983, 10)\n",
      "max_t2m\n",
      "new_np_arr.shape:  (20, 983, 1253)\n"
     ]
    },
    {
     "name": "stderr",
     "output_type": "stream",
     "text": [
      "/tmp/ipykernel_410/1721584199.py:29: UserWarning: max_t2m feature's values has NaNs\n",
      "  warnings.warn(str(feature) + \" feature's values has NaNs\")\n"
     ]
    },
    {
     "name": "stdout",
     "output_type": "stream",
     "text": [
      "(20, 1253, 983, 11)\n",
      "max_sp\n",
      "new_np_arr.shape:  (20, 983, 1253)\n"
     ]
    },
    {
     "name": "stderr",
     "output_type": "stream",
     "text": [
      "/tmp/ipykernel_410/1721584199.py:29: UserWarning: max_sp feature's values has NaNs\n",
      "  warnings.warn(str(feature) + \" feature's values has NaNs\")\n"
     ]
    },
    {
     "name": "stdout",
     "output_type": "stream",
     "text": [
      "(20, 1253, 983, 12)\n",
      "max_tp\n",
      "new_np_arr.shape:  (20, 983, 1253)\n"
     ]
    },
    {
     "name": "stderr",
     "output_type": "stream",
     "text": [
      "/tmp/ipykernel_410/1721584199.py:29: UserWarning: max_tp feature's values has NaNs\n",
      "  warnings.warn(str(feature) + \" feature's values has NaNs\")\n"
     ]
    },
    {
     "name": "stdout",
     "output_type": "stream",
     "text": [
      "(20, 1253, 983, 13)\n",
      "min_u10\n",
      "new_np_arr.shape:  (20, 983, 1253)\n"
     ]
    },
    {
     "name": "stderr",
     "output_type": "stream",
     "text": [
      "/tmp/ipykernel_410/1721584199.py:29: UserWarning: min_u10 feature's values has NaNs\n",
      "  warnings.warn(str(feature) + \" feature's values has NaNs\")\n"
     ]
    },
    {
     "name": "stdout",
     "output_type": "stream",
     "text": [
      "(20, 1253, 983, 14)\n",
      "min_v10\n",
      "new_np_arr.shape:  (20, 983, 1253)\n"
     ]
    },
    {
     "name": "stderr",
     "output_type": "stream",
     "text": [
      "/tmp/ipykernel_410/1721584199.py:29: UserWarning: min_v10 feature's values has NaNs\n",
      "  warnings.warn(str(feature) + \" feature's values has NaNs\")\n"
     ]
    },
    {
     "name": "stdout",
     "output_type": "stream",
     "text": [
      "(20, 1253, 983, 15)\n",
      "min_d2m\n",
      "new_np_arr.shape:  (20, 983, 1253)\n"
     ]
    },
    {
     "name": "stderr",
     "output_type": "stream",
     "text": [
      "/tmp/ipykernel_410/1721584199.py:29: UserWarning: min_d2m feature's values has NaNs\n",
      "  warnings.warn(str(feature) + \" feature's values has NaNs\")\n"
     ]
    },
    {
     "name": "stdout",
     "output_type": "stream",
     "text": [
      "(20, 1253, 983, 16)\n",
      "min_t2m\n",
      "new_np_arr.shape:  (20, 983, 1253)\n"
     ]
    },
    {
     "name": "stderr",
     "output_type": "stream",
     "text": [
      "/tmp/ipykernel_410/1721584199.py:29: UserWarning: min_t2m feature's values has NaNs\n",
      "  warnings.warn(str(feature) + \" feature's values has NaNs\")\n"
     ]
    },
    {
     "name": "stdout",
     "output_type": "stream",
     "text": [
      "(20, 1253, 983, 17)\n",
      "min_sp\n",
      "new_np_arr.shape:  (20, 983, 1253)\n"
     ]
    },
    {
     "name": "stderr",
     "output_type": "stream",
     "text": [
      "/tmp/ipykernel_410/1721584199.py:29: UserWarning: min_sp feature's values has NaNs\n",
      "  warnings.warn(str(feature) + \" feature's values has NaNs\")\n"
     ]
    },
    {
     "name": "stdout",
     "output_type": "stream",
     "text": [
      "(20, 1253, 983, 18)\n",
      "min_tp\n",
      "new_np_arr.shape:  (20, 983, 1253)\n"
     ]
    },
    {
     "name": "stderr",
     "output_type": "stream",
     "text": [
      "/tmp/ipykernel_410/1721584199.py:29: UserWarning: min_tp feature's values has NaNs\n",
      "  warnings.warn(str(feature) + \" feature's values has NaNs\")\n"
     ]
    },
    {
     "name": "stdout",
     "output_type": "stream",
     "text": [
      "(20, 1253, 983, 19)\n",
      "avg_u10\n",
      "new_np_arr.shape:  (20, 983, 1253)\n"
     ]
    },
    {
     "name": "stderr",
     "output_type": "stream",
     "text": [
      "/tmp/ipykernel_410/1721584199.py:29: UserWarning: avg_u10 feature's values has NaNs\n",
      "  warnings.warn(str(feature) + \" feature's values has NaNs\")\n"
     ]
    },
    {
     "name": "stdout",
     "output_type": "stream",
     "text": [
      "(20, 1253, 983, 20)\n",
      "avg_v10\n",
      "new_np_arr.shape:  (20, 983, 1253)\n"
     ]
    },
    {
     "name": "stderr",
     "output_type": "stream",
     "text": [
      "/tmp/ipykernel_410/1721584199.py:29: UserWarning: avg_v10 feature's values has NaNs\n",
      "  warnings.warn(str(feature) + \" feature's values has NaNs\")\n"
     ]
    },
    {
     "name": "stdout",
     "output_type": "stream",
     "text": [
      "(20, 1253, 983, 21)\n",
      "avg_d2m\n",
      "new_np_arr.shape:  (20, 983, 1253)\n"
     ]
    },
    {
     "name": "stderr",
     "output_type": "stream",
     "text": [
      "/tmp/ipykernel_410/1721584199.py:29: UserWarning: avg_d2m feature's values has NaNs\n",
      "  warnings.warn(str(feature) + \" feature's values has NaNs\")\n"
     ]
    },
    {
     "name": "stdout",
     "output_type": "stream",
     "text": [
      "(20, 1253, 983, 22)\n",
      "avg_t2m\n",
      "new_np_arr.shape:  (20, 983, 1253)\n"
     ]
    },
    {
     "name": "stderr",
     "output_type": "stream",
     "text": [
      "/tmp/ipykernel_410/1721584199.py:29: UserWarning: avg_t2m feature's values has NaNs\n",
      "  warnings.warn(str(feature) + \" feature's values has NaNs\")\n"
     ]
    },
    {
     "name": "stdout",
     "output_type": "stream",
     "text": [
      "(20, 1253, 983, 23)\n",
      "avg_sp\n",
      "new_np_arr.shape:  (20, 983, 1253)\n"
     ]
    },
    {
     "name": "stderr",
     "output_type": "stream",
     "text": [
      "/tmp/ipykernel_410/1721584199.py:29: UserWarning: avg_sp feature's values has NaNs\n",
      "  warnings.warn(str(feature) + \" feature's values has NaNs\")\n"
     ]
    },
    {
     "name": "stdout",
     "output_type": "stream",
     "text": [
      "(20, 1253, 983, 24)\n",
      "avg_tp\n",
      "new_np_arr.shape:  (20, 983, 1253)\n"
     ]
    },
    {
     "name": "stderr",
     "output_type": "stream",
     "text": [
      "/tmp/ipykernel_410/1721584199.py:29: UserWarning: avg_tp feature's values has NaNs\n",
      "  warnings.warn(str(feature) + \" feature's values has NaNs\")\n"
     ]
    },
    {
     "name": "stdout",
     "output_type": "stream",
     "text": [
      "(20, 1253, 983, 25)\n",
      "smian\n",
      "new_np_arr.shape:  (20, 983, 1253)\n"
     ]
    },
    {
     "name": "stderr",
     "output_type": "stream",
     "text": [
      "/tmp/ipykernel_410/1721584199.py:29: UserWarning: smian feature's values has NaNs\n",
      "  warnings.warn(str(feature) + \" feature's values has NaNs\")\n"
     ]
    },
    {
     "name": "stdout",
     "output_type": "stream",
     "text": [
      "(20, 1253, 983, 26)\n",
      "sminx\n",
      "new_np_arr.shape:  (20, 983, 1253)\n"
     ]
    },
    {
     "name": "stderr",
     "output_type": "stream",
     "text": [
      "/tmp/ipykernel_410/1721584199.py:29: UserWarning: sminx feature's values has NaNs\n",
      "  warnings.warn(str(feature) + \" feature's values has NaNs\")\n"
     ]
    },
    {
     "name": "stdout",
     "output_type": "stream",
     "text": [
      "(20, 1253, 983, 27)\n",
      "fwi\n",
      "new_np_arr.shape:  (20, 983, 1253)\n"
     ]
    },
    {
     "name": "stderr",
     "output_type": "stream",
     "text": [
      "/tmp/ipykernel_410/1721584199.py:29: UserWarning: fwi feature's values has NaNs\n",
      "  warnings.warn(str(feature) + \" feature's values has NaNs\")\n"
     ]
    },
    {
     "name": "stdout",
     "output_type": "stream",
     "text": [
      "(20, 1253, 983, 28)\n",
      "max_wind_u10\n",
      "new_np_arr.shape:  (20, 983, 1253)\n"
     ]
    },
    {
     "name": "stderr",
     "output_type": "stream",
     "text": [
      "/tmp/ipykernel_410/1721584199.py:29: UserWarning: max_wind_u10 feature's values has NaNs\n",
      "  warnings.warn(str(feature) + \" feature's values has NaNs\")\n"
     ]
    },
    {
     "name": "stdout",
     "output_type": "stream",
     "text": [
      "(20, 1253, 983, 29)\n",
      "max_wind_v10\n",
      "new_np_arr.shape:  (20, 983, 1253)\n"
     ]
    },
    {
     "name": "stderr",
     "output_type": "stream",
     "text": [
      "/tmp/ipykernel_410/1721584199.py:29: UserWarning: max_wind_v10 feature's values has NaNs\n",
      "  warnings.warn(str(feature) + \" feature's values has NaNs\")\n"
     ]
    },
    {
     "name": "stdout",
     "output_type": "stream",
     "text": [
      "(20, 1253, 983, 30)\n",
      "max_wind_speed\n",
      "new_np_arr.shape:  (20, 983, 1253)\n"
     ]
    },
    {
     "name": "stderr",
     "output_type": "stream",
     "text": [
      "/tmp/ipykernel_410/1721584199.py:29: UserWarning: max_wind_speed feature's values has NaNs\n",
      "  warnings.warn(str(feature) + \" feature's values has NaNs\")\n"
     ]
    },
    {
     "name": "stdout",
     "output_type": "stream",
     "text": [
      "(20, 1253, 983, 31)\n",
      "max_wind_direction\n",
      "new_np_arr.shape:  (20, 983, 1253)\n"
     ]
    },
    {
     "name": "stderr",
     "output_type": "stream",
     "text": [
      "/tmp/ipykernel_410/1721584199.py:29: UserWarning: max_wind_direction feature's values has NaNs\n",
      "  warnings.warn(str(feature) + \" feature's values has NaNs\")\n"
     ]
    },
    {
     "name": "stdout",
     "output_type": "stream",
     "text": [
      "(20, 1253, 983, 32)\n",
      "max_rh\n",
      "new_np_arr.shape:  (20, 983, 1253)\n"
     ]
    },
    {
     "name": "stderr",
     "output_type": "stream",
     "text": [
      "/tmp/ipykernel_410/1721584199.py:29: UserWarning: max_rh feature's values has NaNs\n",
      "  warnings.warn(str(feature) + \" feature's values has NaNs\")\n"
     ]
    },
    {
     "name": "stdout",
     "output_type": "stream",
     "text": [
      "(20, 1253, 983, 33)\n",
      "min_rh\n",
      "new_np_arr.shape:  (20, 983, 1253)\n"
     ]
    },
    {
     "name": "stderr",
     "output_type": "stream",
     "text": [
      "/tmp/ipykernel_410/1721584199.py:29: UserWarning: min_rh feature's values has NaNs\n",
      "  warnings.warn(str(feature) + \" feature's values has NaNs\")\n"
     ]
    },
    {
     "name": "stdout",
     "output_type": "stream",
     "text": [
      "(20, 1253, 983, 34)\n",
      "avg_rh\n",
      "new_np_arr.shape:  (20, 983, 1253)\n"
     ]
    },
    {
     "name": "stderr",
     "output_type": "stream",
     "text": [
      "/tmp/ipykernel_410/1721584199.py:29: UserWarning: avg_rh feature's values has NaNs\n",
      "  warnings.warn(str(feature) + \" feature's values has NaNs\")\n"
     ]
    },
    {
     "name": "stdout",
     "output_type": "stream",
     "text": [
      "(20, 1253, 983, 35)\n",
      "CLC_2006\n",
      "new_np_arr.shape:  (983, 1253)\n",
      "(20, 1253, 983, 36)\n",
      "CLC_2006_0\n",
      "new_np_arr.shape:  (983, 1253)\n",
      "(20, 1253, 983, 37)\n",
      "CLC_2006_1\n",
      "new_np_arr.shape:  (983, 1253)\n",
      "(20, 1253, 983, 38)\n",
      "CLC_2006_2\n",
      "new_np_arr.shape:  (983, 1253)\n",
      "(20, 1253, 983, 39)\n",
      "CLC_2006_3\n",
      "new_np_arr.shape:  (983, 1253)\n",
      "(20, 1253, 983, 40)\n",
      "CLC_2006_4\n",
      "new_np_arr.shape:  (983, 1253)\n",
      "(20, 1253, 983, 41)\n",
      "CLC_2006_5\n",
      "new_np_arr.shape:  (983, 1253)\n",
      "(20, 1253, 983, 42)\n",
      "CLC_2006_6\n",
      "new_np_arr.shape:  (983, 1253)\n",
      "(20, 1253, 983, 43)\n",
      "CLC_2006_7\n",
      "new_np_arr.shape:  (983, 1253)\n",
      "(20, 1253, 983, 44)\n",
      "CLC_2006_8\n",
      "new_np_arr.shape:  (983, 1253)\n",
      "(20, 1253, 983, 45)\n",
      "CLC_2006_9\n",
      "new_np_arr.shape:  (983, 1253)\n",
      "(20, 1253, 983, 46)\n",
      "CLC_2012\n",
      "new_np_arr.shape:  (983, 1253)\n",
      "(20, 1253, 983, 47)\n",
      "CLC_2012_0\n",
      "new_np_arr.shape:  (983, 1253)\n",
      "(20, 1253, 983, 48)\n",
      "CLC_2012_1\n",
      "new_np_arr.shape:  (983, 1253)\n",
      "(20, 1253, 983, 49)\n",
      "CLC_2012_2\n",
      "new_np_arr.shape:  (983, 1253)\n",
      "(20, 1253, 983, 50)\n",
      "CLC_2012_3\n",
      "new_np_arr.shape:  (983, 1253)\n",
      "(20, 1253, 983, 51)\n",
      "CLC_2012_4\n",
      "new_np_arr.shape:  (983, 1253)\n",
      "(20, 1253, 983, 52)\n",
      "CLC_2012_5\n",
      "new_np_arr.shape:  (983, 1253)\n",
      "(20, 1253, 983, 53)\n",
      "CLC_2012_6\n",
      "new_np_arr.shape:  (983, 1253)\n",
      "(20, 1253, 983, 54)\n",
      "CLC_2012_7\n",
      "new_np_arr.shape:  (983, 1253)\n",
      "(20, 1253, 983, 55)\n",
      "CLC_2012_8\n",
      "new_np_arr.shape:  (983, 1253)\n",
      "(20, 1253, 983, 56)\n",
      "CLC_2012_9\n",
      "new_np_arr.shape:  (983, 1253)\n",
      "(20, 1253, 983, 57)\n",
      "CLC_2018\n",
      "new_np_arr.shape:  (983, 1253)\n",
      "(20, 1253, 983, 58)\n",
      "CLC_2018_0\n",
      "new_np_arr.shape:  (983, 1253)\n",
      "(20, 1253, 983, 59)\n",
      "CLC_2018_1\n",
      "new_np_arr.shape:  (983, 1253)\n",
      "(20, 1253, 983, 60)\n",
      "CLC_2018_2\n",
      "new_np_arr.shape:  (983, 1253)\n",
      "(20, 1253, 983, 61)\n",
      "CLC_2018_3\n",
      "new_np_arr.shape:  (983, 1253)\n",
      "(20, 1253, 983, 62)\n",
      "CLC_2018_4\n",
      "new_np_arr.shape:  (983, 1253)\n",
      "(20, 1253, 983, 63)\n",
      "CLC_2018_5\n",
      "new_np_arr.shape:  (983, 1253)\n",
      "(20, 1253, 983, 64)\n",
      "CLC_2018_6\n",
      "new_np_arr.shape:  (983, 1253)\n",
      "(20, 1253, 983, 65)\n",
      "CLC_2018_7\n",
      "new_np_arr.shape:  (983, 1253)\n",
      "(20, 1253, 983, 66)\n",
      "CLC_2018_8\n",
      "new_np_arr.shape:  (983, 1253)\n",
      "(20, 1253, 983, 67)\n",
      "CLC_2018_9\n",
      "new_np_arr.shape:  (983, 1253)\n",
      "(20, 1253, 983, 68)\n",
      "DEM\n",
      "new_np_arr.shape:  (983, 1253)\n",
      "(20, 1253, 983, 69)\n",
      "SLOPE\n",
      "new_np_arr.shape:  (983, 1253)\n",
      "(20, 1253, 983, 70)\n",
      "ASPECT\n",
      "new_np_arr.shape:  (983, 1253)\n"
     ]
    },
    {
     "name": "stderr",
     "output_type": "stream",
     "text": [
      "/tmp/ipykernel_410/1721584199.py:29: UserWarning: ASPECT feature's values has NaNs\n",
      "  warnings.warn(str(feature) + \" feature's values has NaNs\")\n"
     ]
    },
    {
     "name": "stdout",
     "output_type": "stream",
     "text": [
      "(20, 1253, 983, 71)\n",
      "ROUGHNESS\n",
      "new_np_arr.shape:  (983, 1253)\n",
      "(20, 1253, 983, 72)\n",
      "WATERWAY_DISTANCE\n",
      "new_np_arr.shape:  (983, 1253)\n",
      "(20, 1253, 983, 73)\n",
      "burned_areas\n",
      "new_np_arr.shape:  (20, 983, 1253)\n",
      "(20, 1253, 983, 74)\n"
     ]
    }
   ],
   "source": [
    "# Convert train and test to numpy arrays (time, x, y)\n",
    "train_np = dataset_to_np(train_dataset, timestep_samples)"
   ]
  },
  {
   "cell_type": "code",
   "execution_count": 8,
   "id": "bf6c02f6",
   "metadata": {},
   "outputs": [
    {
     "name": "stdout",
     "output_type": "stream",
     "text": [
      "Fire Samples:  4\n"
     ]
    }
   ],
   "source": [
    "# Split dataset into wildfire and non-wildfire datasets\n",
    "# get indicies of datapoints where wildfire occurred\n",
    "# set of 3 arrays where each array represents index of (time, x, y)\n",
    "wildfire_indicies = np.where(train_np[:,:,:,-1] == 1.0)\n",
    "# print(wildfire_indicies)\n",
    "\n",
    "# if fire occured at a timestep, put entire x,y grid into a seperate wildfire dataset\n",
    "fire_train = np.take(train_np, np.unique(wildfire_indicies[0]), axis=0)\n",
    "nonfire_train = np.delete(train_np, np.unique(wildfire_indicies[0]), axis=0)\n",
    "# print(fire_train)\n",
    "# print(fire_train.shape)\n",
    "# print(nonfire_train)\n",
    "# print(nonfire_train.shape)\n",
    "\n",
    "if fire_train.shape[0] == 0:\n",
    "    print(\"No wildfire data to use\")\n",
    "else:\n",
    "    print(\"Fire Samples: \", fire_train.shape[0])\n",
    "    # throw error for not having fire datapoints to weight/multiply\n",
    "\n",
    "# doubling wildfire data\n",
    "ext_fire_train = np.repeat(fire_train, 2, axis=0)\n",
    "\n",
    "\n",
    "# combine both wildfire and non wildfire train datasets\n",
    "train_dataset = np.concatenate((nonfire_train, ext_fire_train))"
   ]
  },
  {
   "cell_type": "code",
   "execution_count": 9,
   "id": "66708b21",
   "metadata": {
    "scrolled": true
   },
   "outputs": [
    {
     "name": "stdout",
     "output_type": "stream",
     "text": [
      "ndvi\n",
      "(10, 1253, 983, 1)\n",
      "evi\n",
      "new_np_arr.shape:  (10, 983, 1253)\n",
      "(10, 1253, 983, 2)\n",
      "et\n"
     ]
    },
    {
     "name": "stderr",
     "output_type": "stream",
     "text": [
      "/tmp/ipykernel_410/1721584199.py:29: UserWarning: evi feature's values has NaNs\n",
      "  warnings.warn(str(feature) + \" feature's values has NaNs\")\n"
     ]
    },
    {
     "name": "stdout",
     "output_type": "stream",
     "text": [
      "new_np_arr.shape:  (10, 983, 1253)\n",
      "(10, 1253, 983, 3)\n",
      "lst_day\n",
      "new_np_arr.shape:  (10, 983, 1253)\n",
      "(10, 1253, 983, 4)\n",
      "lst_night\n"
     ]
    },
    {
     "name": "stderr",
     "output_type": "stream",
     "text": [
      "/tmp/ipykernel_410/1721584199.py:29: UserWarning: lst_day feature's values has NaNs\n",
      "  warnings.warn(str(feature) + \" feature's values has NaNs\")\n"
     ]
    },
    {
     "name": "stdout",
     "output_type": "stream",
     "text": [
      "new_np_arr.shape:  (10, 983, 1253)\n",
      "(10, 1253, 983, 5)\n",
      "fapar\n"
     ]
    },
    {
     "name": "stderr",
     "output_type": "stream",
     "text": [
      "/tmp/ipykernel_410/1721584199.py:29: UserWarning: lst_night feature's values has NaNs\n",
      "  warnings.warn(str(feature) + \" feature's values has NaNs\")\n"
     ]
    },
    {
     "name": "stdout",
     "output_type": "stream",
     "text": [
      "new_np_arr.shape:  (10, 983, 1253)\n",
      "(10, 1253, 983, 6)\n",
      "lai\n"
     ]
    },
    {
     "name": "stderr",
     "output_type": "stream",
     "text": [
      "/tmp/ipykernel_410/1721584199.py:29: UserWarning: fapar feature's values has NaNs\n",
      "  warnings.warn(str(feature) + \" feature's values has NaNs\")\n"
     ]
    },
    {
     "name": "stdout",
     "output_type": "stream",
     "text": [
      "new_np_arr.shape:  (10, 983, 1253)\n",
      "(10, 1253, 983, 7)\n",
      "max_u10\n"
     ]
    },
    {
     "name": "stderr",
     "output_type": "stream",
     "text": [
      "/tmp/ipykernel_410/1721584199.py:29: UserWarning: lai feature's values has NaNs\n",
      "  warnings.warn(str(feature) + \" feature's values has NaNs\")\n"
     ]
    },
    {
     "name": "stdout",
     "output_type": "stream",
     "text": [
      "new_np_arr.shape:  (10, 983, 1253)\n",
      "(10, 1253, 983, 8)\n",
      "max_v10\n"
     ]
    },
    {
     "name": "stderr",
     "output_type": "stream",
     "text": [
      "/tmp/ipykernel_410/1721584199.py:29: UserWarning: max_u10 feature's values has NaNs\n",
      "  warnings.warn(str(feature) + \" feature's values has NaNs\")\n"
     ]
    },
    {
     "name": "stdout",
     "output_type": "stream",
     "text": [
      "new_np_arr.shape:  (10, 983, 1253)\n",
      "(10, 1253, 983, 9)\n",
      "max_d2m\n"
     ]
    },
    {
     "name": "stderr",
     "output_type": "stream",
     "text": [
      "/tmp/ipykernel_410/1721584199.py:29: UserWarning: max_v10 feature's values has NaNs\n",
      "  warnings.warn(str(feature) + \" feature's values has NaNs\")\n"
     ]
    },
    {
     "name": "stdout",
     "output_type": "stream",
     "text": [
      "new_np_arr.shape:  (10, 983, 1253)\n",
      "(10, 1253, 983, 10)\n",
      "max_t2m\n"
     ]
    },
    {
     "name": "stderr",
     "output_type": "stream",
     "text": [
      "/tmp/ipykernel_410/1721584199.py:29: UserWarning: max_d2m feature's values has NaNs\n",
      "  warnings.warn(str(feature) + \" feature's values has NaNs\")\n"
     ]
    },
    {
     "name": "stdout",
     "output_type": "stream",
     "text": [
      "new_np_arr.shape:  (10, 983, 1253)\n",
      "(10, 1253, 983, 11)\n",
      "max_sp\n"
     ]
    },
    {
     "name": "stderr",
     "output_type": "stream",
     "text": [
      "/tmp/ipykernel_410/1721584199.py:29: UserWarning: max_t2m feature's values has NaNs\n",
      "  warnings.warn(str(feature) + \" feature's values has NaNs\")\n"
     ]
    },
    {
     "name": "stdout",
     "output_type": "stream",
     "text": [
      "new_np_arr.shape:  (10, 983, 1253)\n",
      "(10, 1253, 983, 12)\n",
      "max_tp\n"
     ]
    },
    {
     "name": "stderr",
     "output_type": "stream",
     "text": [
      "/tmp/ipykernel_410/1721584199.py:29: UserWarning: max_sp feature's values has NaNs\n",
      "  warnings.warn(str(feature) + \" feature's values has NaNs\")\n"
     ]
    },
    {
     "name": "stdout",
     "output_type": "stream",
     "text": [
      "new_np_arr.shape:  (10, 983, 1253)\n",
      "(10, 1253, 983, 13)\n",
      "min_u10\n"
     ]
    },
    {
     "name": "stderr",
     "output_type": "stream",
     "text": [
      "/tmp/ipykernel_410/1721584199.py:29: UserWarning: max_tp feature's values has NaNs\n",
      "  warnings.warn(str(feature) + \" feature's values has NaNs\")\n"
     ]
    },
    {
     "name": "stdout",
     "output_type": "stream",
     "text": [
      "new_np_arr.shape:  (10, 983, 1253)\n",
      "(10, 1253, 983, 14)\n",
      "min_v10\n"
     ]
    },
    {
     "name": "stderr",
     "output_type": "stream",
     "text": [
      "/tmp/ipykernel_410/1721584199.py:29: UserWarning: min_u10 feature's values has NaNs\n",
      "  warnings.warn(str(feature) + \" feature's values has NaNs\")\n"
     ]
    },
    {
     "name": "stdout",
     "output_type": "stream",
     "text": [
      "new_np_arr.shape:  (10, 983, 1253)\n",
      "(10, 1253, 983, 15)\n",
      "min_d2m\n"
     ]
    },
    {
     "name": "stderr",
     "output_type": "stream",
     "text": [
      "/tmp/ipykernel_410/1721584199.py:29: UserWarning: min_v10 feature's values has NaNs\n",
      "  warnings.warn(str(feature) + \" feature's values has NaNs\")\n"
     ]
    },
    {
     "name": "stdout",
     "output_type": "stream",
     "text": [
      "new_np_arr.shape:  (10, 983, 1253)\n"
     ]
    },
    {
     "name": "stderr",
     "output_type": "stream",
     "text": [
      "/tmp/ipykernel_410/1721584199.py:29: UserWarning: min_d2m feature's values has NaNs\n",
      "  warnings.warn(str(feature) + \" feature's values has NaNs\")\n"
     ]
    },
    {
     "name": "stdout",
     "output_type": "stream",
     "text": [
      "(10, 1253, 983, 16)\n",
      "min_t2m\n",
      "new_np_arr.shape:  (10, 983, 1253)\n"
     ]
    },
    {
     "name": "stderr",
     "output_type": "stream",
     "text": [
      "/tmp/ipykernel_410/1721584199.py:29: UserWarning: min_t2m feature's values has NaNs\n",
      "  warnings.warn(str(feature) + \" feature's values has NaNs\")\n"
     ]
    },
    {
     "name": "stdout",
     "output_type": "stream",
     "text": [
      "(10, 1253, 983, 17)\n",
      "min_sp\n",
      "new_np_arr.shape:  (10, 983, 1253)\n"
     ]
    },
    {
     "name": "stderr",
     "output_type": "stream",
     "text": [
      "/tmp/ipykernel_410/1721584199.py:29: UserWarning: min_sp feature's values has NaNs\n",
      "  warnings.warn(str(feature) + \" feature's values has NaNs\")\n"
     ]
    },
    {
     "name": "stdout",
     "output_type": "stream",
     "text": [
      "(10, 1253, 983, 18)\n",
      "min_tp\n",
      "new_np_arr.shape:  (10, 983, 1253)\n"
     ]
    },
    {
     "name": "stderr",
     "output_type": "stream",
     "text": [
      "/tmp/ipykernel_410/1721584199.py:29: UserWarning: min_tp feature's values has NaNs\n",
      "  warnings.warn(str(feature) + \" feature's values has NaNs\")\n"
     ]
    },
    {
     "name": "stdout",
     "output_type": "stream",
     "text": [
      "(10, 1253, 983, 19)\n",
      "avg_u10\n",
      "new_np_arr.shape:  (10, 983, 1253)\n"
     ]
    },
    {
     "name": "stderr",
     "output_type": "stream",
     "text": [
      "/tmp/ipykernel_410/1721584199.py:29: UserWarning: avg_u10 feature's values has NaNs\n",
      "  warnings.warn(str(feature) + \" feature's values has NaNs\")\n"
     ]
    },
    {
     "name": "stdout",
     "output_type": "stream",
     "text": [
      "(10, 1253, 983, 20)\n",
      "avg_v10\n",
      "new_np_arr.shape:  (10, 983, 1253)\n"
     ]
    },
    {
     "name": "stderr",
     "output_type": "stream",
     "text": [
      "/tmp/ipykernel_410/1721584199.py:29: UserWarning: avg_v10 feature's values has NaNs\n",
      "  warnings.warn(str(feature) + \" feature's values has NaNs\")\n"
     ]
    },
    {
     "name": "stdout",
     "output_type": "stream",
     "text": [
      "(10, 1253, 983, 21)\n",
      "avg_d2m\n",
      "new_np_arr.shape:  (10, 983, 1253)\n"
     ]
    },
    {
     "name": "stderr",
     "output_type": "stream",
     "text": [
      "/tmp/ipykernel_410/1721584199.py:29: UserWarning: avg_d2m feature's values has NaNs\n",
      "  warnings.warn(str(feature) + \" feature's values has NaNs\")\n"
     ]
    },
    {
     "name": "stdout",
     "output_type": "stream",
     "text": [
      "(10, 1253, 983, 22)\n",
      "avg_t2m\n",
      "new_np_arr.shape:  (10, 983, 1253)\n"
     ]
    },
    {
     "name": "stderr",
     "output_type": "stream",
     "text": [
      "/tmp/ipykernel_410/1721584199.py:29: UserWarning: avg_t2m feature's values has NaNs\n",
      "  warnings.warn(str(feature) + \" feature's values has NaNs\")\n"
     ]
    },
    {
     "name": "stdout",
     "output_type": "stream",
     "text": [
      "(10, 1253, 983, 23)\n",
      "avg_sp\n",
      "new_np_arr.shape:  (10, 983, 1253)\n"
     ]
    },
    {
     "name": "stderr",
     "output_type": "stream",
     "text": [
      "/tmp/ipykernel_410/1721584199.py:29: UserWarning: avg_sp feature's values has NaNs\n",
      "  warnings.warn(str(feature) + \" feature's values has NaNs\")\n"
     ]
    },
    {
     "name": "stdout",
     "output_type": "stream",
     "text": [
      "(10, 1253, 983, 24)\n",
      "avg_tp\n",
      "new_np_arr.shape:  (10, 983, 1253)\n"
     ]
    },
    {
     "name": "stderr",
     "output_type": "stream",
     "text": [
      "/tmp/ipykernel_410/1721584199.py:29: UserWarning: avg_tp feature's values has NaNs\n",
      "  warnings.warn(str(feature) + \" feature's values has NaNs\")\n"
     ]
    },
    {
     "name": "stdout",
     "output_type": "stream",
     "text": [
      "(10, 1253, 983, 25)\n",
      "smian\n",
      "new_np_arr.shape:  (10, 983, 1253)\n"
     ]
    },
    {
     "name": "stderr",
     "output_type": "stream",
     "text": [
      "/tmp/ipykernel_410/1721584199.py:29: UserWarning: smian feature's values has NaNs\n",
      "  warnings.warn(str(feature) + \" feature's values has NaNs\")\n"
     ]
    },
    {
     "name": "stdout",
     "output_type": "stream",
     "text": [
      "(10, 1253, 983, 26)\n",
      "sminx\n",
      "new_np_arr.shape:  (10, 983, 1253)\n"
     ]
    },
    {
     "name": "stderr",
     "output_type": "stream",
     "text": [
      "/tmp/ipykernel_410/1721584199.py:29: UserWarning: sminx feature's values has NaNs\n",
      "  warnings.warn(str(feature) + \" feature's values has NaNs\")\n"
     ]
    },
    {
     "name": "stdout",
     "output_type": "stream",
     "text": [
      "(10, 1253, 983, 27)\n",
      "fwi\n",
      "new_np_arr.shape:  (10, 983, 1253)\n"
     ]
    },
    {
     "name": "stderr",
     "output_type": "stream",
     "text": [
      "/tmp/ipykernel_410/1721584199.py:29: UserWarning: fwi feature's values has NaNs\n",
      "  warnings.warn(str(feature) + \" feature's values has NaNs\")\n"
     ]
    },
    {
     "name": "stdout",
     "output_type": "stream",
     "text": [
      "(10, 1253, 983, 28)\n",
      "max_wind_u10\n",
      "new_np_arr.shape:  (10, 983, 1253)\n"
     ]
    },
    {
     "name": "stderr",
     "output_type": "stream",
     "text": [
      "/tmp/ipykernel_410/1721584199.py:29: UserWarning: max_wind_u10 feature's values has NaNs\n",
      "  warnings.warn(str(feature) + \" feature's values has NaNs\")\n"
     ]
    },
    {
     "name": "stdout",
     "output_type": "stream",
     "text": [
      "(10, 1253, 983, 29)\n",
      "max_wind_v10\n",
      "new_np_arr.shape:  (10, 983, 1253)\n"
     ]
    },
    {
     "name": "stderr",
     "output_type": "stream",
     "text": [
      "/tmp/ipykernel_410/1721584199.py:29: UserWarning: max_wind_v10 feature's values has NaNs\n",
      "  warnings.warn(str(feature) + \" feature's values has NaNs\")\n"
     ]
    },
    {
     "name": "stdout",
     "output_type": "stream",
     "text": [
      "(10, 1253, 983, 30)\n",
      "max_wind_speed\n",
      "new_np_arr.shape:  (10, 983, 1253)\n"
     ]
    },
    {
     "name": "stderr",
     "output_type": "stream",
     "text": [
      "/tmp/ipykernel_410/1721584199.py:29: UserWarning: max_wind_speed feature's values has NaNs\n",
      "  warnings.warn(str(feature) + \" feature's values has NaNs\")\n"
     ]
    },
    {
     "name": "stdout",
     "output_type": "stream",
     "text": [
      "(10, 1253, 983, 31)\n",
      "max_wind_direction\n",
      "new_np_arr.shape:  (10, 983, 1253)\n"
     ]
    },
    {
     "name": "stderr",
     "output_type": "stream",
     "text": [
      "/tmp/ipykernel_410/1721584199.py:29: UserWarning: max_wind_direction feature's values has NaNs\n",
      "  warnings.warn(str(feature) + \" feature's values has NaNs\")\n"
     ]
    },
    {
     "name": "stdout",
     "output_type": "stream",
     "text": [
      "(10, 1253, 983, 32)\n",
      "max_rh\n",
      "new_np_arr.shape:  (10, 983, 1253)\n"
     ]
    },
    {
     "name": "stderr",
     "output_type": "stream",
     "text": [
      "/tmp/ipykernel_410/1721584199.py:29: UserWarning: max_rh feature's values has NaNs\n",
      "  warnings.warn(str(feature) + \" feature's values has NaNs\")\n"
     ]
    },
    {
     "name": "stdout",
     "output_type": "stream",
     "text": [
      "(10, 1253, 983, 33)\n",
      "min_rh\n",
      "new_np_arr.shape:  (10, 983, 1253)\n"
     ]
    },
    {
     "name": "stderr",
     "output_type": "stream",
     "text": [
      "/tmp/ipykernel_410/1721584199.py:29: UserWarning: min_rh feature's values has NaNs\n",
      "  warnings.warn(str(feature) + \" feature's values has NaNs\")\n"
     ]
    },
    {
     "name": "stdout",
     "output_type": "stream",
     "text": [
      "(10, 1253, 983, 34)\n",
      "avg_rh\n",
      "new_np_arr.shape:  (10, 983, 1253)\n"
     ]
    },
    {
     "name": "stderr",
     "output_type": "stream",
     "text": [
      "/tmp/ipykernel_410/1721584199.py:29: UserWarning: avg_rh feature's values has NaNs\n",
      "  warnings.warn(str(feature) + \" feature's values has NaNs\")\n"
     ]
    },
    {
     "name": "stdout",
     "output_type": "stream",
     "text": [
      "(10, 1253, 983, 35)\n",
      "CLC_2006\n",
      "new_np_arr.shape:  (983, 1253)\n",
      "(10, 1253, 983, 36)\n",
      "CLC_2006_0\n",
      "new_np_arr.shape:  (983, 1253)\n",
      "(10, 1253, 983, 37)\n",
      "CLC_2006_1\n",
      "new_np_arr.shape:  (983, 1253)\n",
      "(10, 1253, 983, 38)\n",
      "CLC_2006_2\n",
      "new_np_arr.shape:  (983, 1253)\n",
      "(10, 1253, 983, 39)\n",
      "CLC_2006_3\n",
      "new_np_arr.shape:  (983, 1253)\n",
      "(10, 1253, 983, 40)\n",
      "CLC_2006_4\n",
      "new_np_arr.shape:  (983, 1253)\n",
      "(10, 1253, 983, 41)\n",
      "CLC_2006_5\n",
      "new_np_arr.shape:  (983, 1253)\n",
      "(10, 1253, 983, 42)\n",
      "CLC_2006_6\n",
      "new_np_arr.shape:  (983, 1253)\n",
      "(10, 1253, 983, 43)\n",
      "CLC_2006_7\n",
      "new_np_arr.shape:  (983, 1253)\n",
      "(10, 1253, 983, 44)\n",
      "CLC_2006_8\n",
      "new_np_arr.shape:  (983, 1253)\n",
      "(10, 1253, 983, 45)\n",
      "CLC_2006_9\n",
      "new_np_arr.shape:  (983, 1253)\n",
      "(10, 1253, 983, 46)\n",
      "CLC_2012\n",
      "new_np_arr.shape:  (983, 1253)\n",
      "(10, 1253, 983, 47)\n",
      "CLC_2012_0\n",
      "new_np_arr.shape:  (983, 1253)\n",
      "(10, 1253, 983, 48)\n",
      "CLC_2012_1\n",
      "new_np_arr.shape:  (983, 1253)\n",
      "(10, 1253, 983, 49)\n",
      "CLC_2012_2\n",
      "new_np_arr.shape:  (983, 1253)\n",
      "(10, 1253, 983, 50)\n",
      "CLC_2012_3\n",
      "new_np_arr.shape:  (983, 1253)\n",
      "(10, 1253, 983, 51)\n",
      "CLC_2012_4\n",
      "new_np_arr.shape:  (983, 1253)\n",
      "(10, 1253, 983, 52)\n",
      "CLC_2012_5\n",
      "new_np_arr.shape:  (983, 1253)\n",
      "(10, 1253, 983, 53)\n",
      "CLC_2012_6\n",
      "new_np_arr.shape:  (983, 1253)\n",
      "(10, 1253, 983, 54)\n",
      "CLC_2012_7\n",
      "new_np_arr.shape:  (983, 1253)\n",
      "(10, 1253, 983, 55)\n",
      "CLC_2012_8\n",
      "new_np_arr.shape:  (983, 1253)\n",
      "(10, 1253, 983, 56)\n",
      "CLC_2012_9\n",
      "new_np_arr.shape:  (983, 1253)\n",
      "(10, 1253, 983, 57)\n",
      "CLC_2018\n",
      "new_np_arr.shape:  (983, 1253)\n",
      "(10, 1253, 983, 58)\n",
      "CLC_2018_0\n",
      "new_np_arr.shape:  (983, 1253)\n",
      "(10, 1253, 983, 59)\n",
      "CLC_2018_1\n",
      "new_np_arr.shape:  (983, 1253)\n",
      "(10, 1253, 983, 60)\n",
      "CLC_2018_2\n",
      "new_np_arr.shape:  (983, 1253)\n",
      "(10, 1253, 983, 61)\n",
      "CLC_2018_3\n",
      "new_np_arr.shape:  (983, 1253)\n",
      "(10, 1253, 983, 62)\n",
      "CLC_2018_4\n",
      "new_np_arr.shape:  (983, 1253)\n",
      "(10, 1253, 983, 63)\n",
      "CLC_2018_5\n",
      "new_np_arr.shape:  (983, 1253)\n",
      "(10, 1253, 983, 64)\n",
      "CLC_2018_6\n",
      "new_np_arr.shape:  (983, 1253)\n",
      "(10, 1253, 983, 65)\n",
      "CLC_2018_7\n",
      "new_np_arr.shape:  (983, 1253)\n",
      "(10, 1253, 983, 66)\n",
      "CLC_2018_8\n",
      "new_np_arr.shape:  (983, 1253)\n",
      "(10, 1253, 983, 67)\n",
      "CLC_2018_9\n",
      "new_np_arr.shape:  (983, 1253)\n",
      "(10, 1253, 983, 68)\n",
      "DEM\n",
      "new_np_arr.shape:  (983, 1253)\n",
      "(10, 1253, 983, 69)\n",
      "SLOPE\n",
      "new_np_arr.shape:  (983, 1253)\n",
      "(10, 1253, 983, 70)\n",
      "ASPECT\n",
      "new_np_arr.shape:  (983, 1253)\n"
     ]
    },
    {
     "name": "stderr",
     "output_type": "stream",
     "text": [
      "/tmp/ipykernel_410/1721584199.py:29: UserWarning: ASPECT feature's values has NaNs\n",
      "  warnings.warn(str(feature) + \" feature's values has NaNs\")\n"
     ]
    },
    {
     "name": "stdout",
     "output_type": "stream",
     "text": [
      "(10, 1253, 983, 71)\n",
      "ROUGHNESS\n",
      "new_np_arr.shape:  (983, 1253)\n",
      "(10, 1253, 983, 72)\n",
      "WATERWAY_DISTANCE\n",
      "new_np_arr.shape:  (983, 1253)\n",
      "(10, 1253, 983, 73)\n",
      "burned_areas\n",
      "new_np_arr.shape:  (10, 983, 1253)\n",
      "(10, 1253, 983, 74)\n",
      "X_train:  (24, 1253, 983, 73)\n",
      "X_test:  (10, 1253, 983, 73)\n",
      "y_train:  (24, 1253, 983)\n",
      "y_test:  (10, 1253, 983)\n"
     ]
    }
   ],
   "source": [
    "actual_train_size = train_dataset.shape[0]\n",
    "X_train = train_dataset[:,:,:,:-1]\n",
    "y_train = train_dataset[:,:,:,-1]\n",
    "\n",
    "# Handle Train\n",
    "actual_test_size = math.floor(actual_train_size*(1-train_size)//train_size)\n",
    "test_dataset = wildfire_dataset.isel(time=slice(start_timestep+timestep_samples, start_timestep+timestep_samples+actual_test_size))\n",
    "test_dataset = test_dataset[Xy_label]\n",
    "test_np = dataset_to_np(test_dataset, actual_test_size)\n",
    "\n",
    "X_test = test_np[:,:,:,:-1]\n",
    "y_test = test_np[:,:,:,-1]\n",
    "\n",
    "print(\"X_train: \", X_train.shape)\n",
    "print(\"X_test: \", X_test.shape)\n",
    "print(\"y_train: \", y_train.shape)\n",
    "print(\"y_test: \", y_test.shape)"
   ]
  },
  {
   "cell_type": "code",
   "execution_count": 10,
   "id": "9438a06a",
   "metadata": {},
   "outputs": [],
   "source": [
    "def normalize(X_train, X_test):\n",
    "    # NEW Normalize X_train and X_test\n",
    "    #(samples, time, rows, cols, channels)\n",
    "    # Loop through each feature\n",
    "    for i in range(X_train.shape[4]):\n",
    "        # print(\"X_train[:,:,:,;,i].shape: \", X_train[:,:,:,:,i].shape)\n",
    "        # print(\"X_test[:,:,:,;,i].shape: \", X_test[:,:,:,:,i].shape)\n",
    "        print(\"Normalizing \" + str(i) + \" out of \" + str(X_train.shape[4]))\n",
    "\n",
    "        # Replace NaNs with mean or median\n",
    "        X_train[np.isnan(X_train)] = np.nanmean(X_train[:,:,:,:,i])\n",
    "        X_test[np.isnan(X_test)] = np.nanmean(X_test[:,:,:,:,i])\n",
    "        # X_train[np.isnan(X_train)] = np.nanmedian(X_train[:,:,:,:,i])\n",
    "        # X_test[np.isnan(X_test)] = np.nanmedian(X_test[:,:,:,:,i])\n",
    "\n",
    "        # Standard Scaler\n",
    "        sc = StandardScaler()\n",
    "        # Every X_train/test feature will be reshaped to a 2d array\n",
    "        X_train_2d = X_train[:,:,:,:,i].reshape(X_train.shape[0]*X_train.shape[1], X_train.shape[2]*X_train.shape[3])\n",
    "        X_test_2d = X_test[:,:,:,:,i].reshape(X_test.shape[0]*X_test.shape[1], X_test.shape[2]*X_test.shape[3])\n",
    "        # Normalize\n",
    "        X_train_transformed = sc.fit_transform(X_train_2d)\n",
    "        X_test_transformed = sc.transform(X_test_2d)\n",
    "        # Reshape to 4d (samples, time, x, y)\n",
    "        X_train_transformed = X_train_transformed.reshape(X_train.shape[0], X_train.shape[1], X_train.shape[2], X_train.shape[3])\n",
    "        X_test_transformed = X_test_transformed.reshape(X_test.shape[0], X_test.shape[1], X_test.shape[2], X_test.shape[3])\n",
    "        # Store normalized feature in X_train\n",
    "        X_train[:,:,:,:,i] = X_train_transformed\n",
    "        X_test[:,:,:,:,i] = X_test_transformed\n",
    "    return X_train, X_test"
   ]
  },
  {
   "cell_type": "code",
   "execution_count": 11,
   "id": "263328a6",
   "metadata": {},
   "outputs": [],
   "source": [
    "X_train = np.reshape(X_train, (actual_train_size//timesteps_per_sample, timesteps_per_sample, X_train.shape[1], X_train.shape[2], X_train.shape[3]))\n",
    "X_test = np.reshape(X_test, (actual_test_size//timesteps_per_sample, timesteps_per_sample, X_test.shape[1], X_test.shape[2], X_test.shape[3]))\n",
    "y_train = np.reshape(y_train, (actual_train_size//timesteps_per_sample, timesteps_per_sample, y_train.shape[1], y_train.shape[2]))\n",
    "y_test = np.reshape(y_test, (actual_test_size//timesteps_per_sample, timesteps_per_sample, y_test.shape[1], y_test.shape[2]))"
   ]
  },
  {
   "cell_type": "code",
   "execution_count": 12,
   "id": "087a91f7",
   "metadata": {
    "scrolled": true
   },
   "outputs": [
    {
     "name": "stdout",
     "output_type": "stream",
     "text": [
      "Normalizing 0 out of 73\n",
      "Normalizing 1 out of 73\n",
      "Normalizing 2 out of 73\n",
      "Normalizing 3 out of 73\n",
      "Normalizing 4 out of 73\n",
      "Normalizing 5 out of 73\n",
      "Normalizing 6 out of 73\n",
      "Normalizing 7 out of 73\n",
      "Normalizing 8 out of 73\n",
      "Normalizing 9 out of 73\n",
      "Normalizing 10 out of 73\n",
      "Normalizing 11 out of 73\n",
      "Normalizing 12 out of 73\n",
      "Normalizing 13 out of 73\n",
      "Normalizing 14 out of 73\n",
      "Normalizing 15 out of 73\n",
      "Normalizing 16 out of 73\n",
      "Normalizing 17 out of 73\n",
      "Normalizing 18 out of 73\n",
      "Normalizing 19 out of 73\n",
      "Normalizing 20 out of 73\n",
      "Normalizing 21 out of 73\n",
      "Normalizing 22 out of 73\n",
      "Normalizing 23 out of 73\n",
      "Normalizing 24 out of 73\n",
      "Normalizing 25 out of 73\n",
      "Normalizing 26 out of 73\n",
      "Normalizing 27 out of 73\n",
      "Normalizing 28 out of 73\n",
      "Normalizing 29 out of 73\n",
      "Normalizing 30 out of 73\n",
      "Normalizing 31 out of 73\n",
      "Normalizing 32 out of 73\n",
      "Normalizing 33 out of 73\n",
      "Normalizing 34 out of 73\n",
      "Normalizing 35 out of 73\n",
      "Normalizing 36 out of 73\n",
      "Normalizing 37 out of 73\n",
      "Normalizing 38 out of 73\n",
      "Normalizing 39 out of 73\n",
      "Normalizing 40 out of 73\n",
      "Normalizing 41 out of 73\n",
      "Normalizing 42 out of 73\n",
      "Normalizing 43 out of 73\n",
      "Normalizing 44 out of 73\n",
      "Normalizing 45 out of 73\n",
      "Normalizing 46 out of 73\n",
      "Normalizing 47 out of 73\n",
      "Normalizing 48 out of 73\n",
      "Normalizing 49 out of 73\n",
      "Normalizing 50 out of 73\n",
      "Normalizing 51 out of 73\n",
      "Normalizing 52 out of 73\n",
      "Normalizing 53 out of 73\n",
      "Normalizing 54 out of 73\n",
      "Normalizing 55 out of 73\n",
      "Normalizing 56 out of 73\n",
      "Normalizing 57 out of 73\n",
      "Normalizing 58 out of 73\n",
      "Normalizing 59 out of 73\n",
      "Normalizing 60 out of 73\n",
      "Normalizing 61 out of 73\n",
      "Normalizing 62 out of 73\n",
      "Normalizing 63 out of 73\n",
      "Normalizing 64 out of 73\n",
      "Normalizing 65 out of 73\n",
      "Normalizing 66 out of 73\n",
      "Normalizing 67 out of 73\n",
      "Normalizing 68 out of 73\n",
      "Normalizing 69 out of 73\n",
      "Normalizing 70 out of 73\n",
      "Normalizing 71 out of 73\n",
      "Normalizing 72 out of 73\n"
     ]
    }
   ],
   "source": [
    "X_train_norm, X_test_norm = normalize(X_train, X_test)"
   ]
  },
  {
   "cell_type": "code",
   "execution_count": 13,
   "id": "295972f0",
   "metadata": {},
   "outputs": [
    {
     "name": "stdout",
     "output_type": "stream",
     "text": [
      "X_train:  (12, 2, 1253, 983, 73)\n",
      "X_test:  (5, 2, 1253, 983, 73)\n",
      "y_train:  (12, 2, 1253, 983)\n",
      "y_test:  (5, 2, 1253, 983)\n",
      "input shape:  (2, 1253, 983, 73)\n"
     ]
    }
   ],
   "source": [
    "print(\"X_train: \", X_train_norm.shape)\n",
    "print(\"X_test: \", X_test_norm.shape)\n",
    "print(\"y_train: \", y_train.shape)\n",
    "print(\"y_test: \", y_test.shape)\n",
    "print(\"input shape: \", X_train_norm.shape[-4:])"
   ]
  },
  {
   "cell_type": "code",
   "execution_count": 25,
   "id": "959c72b8",
   "metadata": {},
   "outputs": [
    {
     "data": {
      "image/png": "[encoded data removed]",
      "text/plain": [
       "<Figure size 1000x800 with 12 Axes>"
      ]
     },
     "metadata": {},
     "output_type": "display_data"
    }
   ],
   "source": [
    "# Construct a figure on which we will visualize the images.\n",
    "fig, axes = plt.subplots(3,4, figsize=(10, 8))\n",
    "\n",
    "# Plot each of the sequential images for one random data example.\n",
    "# data_choice = np.random.choice(range(len(train_dataset)), size=1)[0]\n",
    "for idx, ax in enumerate(axes.flat):\n",
    "    ax.imshow(np.squeeze(y_train[idx][0]))\n",
    "    ax.imshow(np.squeeze(y_train[idx][1]))\n",
    "    ax.set_title(f\"Frame {idx + 1}\")\n",
    "    ax.axis(\"off\")\n",
    "\n",
    "# Print information and display the figure.\n",
    "# print(f\"Displaying frames for example {data_choice}.\")\n",
    "plt.show()"
   ]
  },
  {
   "cell_type": "code",
   "execution_count": 26,
   "id": "e3ad2523",
   "metadata": {},
   "outputs": [],
   "source": [
    "def build_ConvLSTM():\n",
    "    convlstm = models.Sequential()\n",
    "    convlstm.add(layers.Input(shape=X_train_norm.shape[-4:]))\n",
    "    convlstm.add(layers.ConvLSTM2D(filters=128, kernel_size=(5,5), padding=\"same\", data_format=\"channels_last\", activation=\"relu\", return_sequences=True))\n",
    "    convlstm.add(layers.BatchNormalization())\n",
    "    convlstm.add(layers.ConvLSTM2D(filters=64, kernel_size=(3,3), padding=\"same\", data_format=\"channels_last\", activation=\"relu\", return_sequences=True))\n",
    "    convlstm.add(layers.BatchNormalization())\n",
    "    convlstm.add(layers.ConvLSTM2D(filters=32, kernel_size=(2,2), padding=\"same\", data_format=\"channels_last\", activation=\"relu\", return_sequences=True))\n",
    "    convlstm.add(layers.BatchNormalization())\n",
    "    convlstm.add(layers.ConvLSTM2D(filters=16, kernel_size=(1,1), padding=\"same\", data_format=\"channels_last\", activation=\"relu\", return_sequences=True))\n",
    "#     convlstm.add(layers.TimeDistributed(layers.Conv2D(filters=1, kernel_size=(3, 3), padding=\"same\")))\n",
    "    convlstm.add(layers.Conv3D(filters=1, kernel_size=(3, 3, 3), padding=\"same\", data_format=\"channels_last\", activation=\"sigmoid\"))\n",
    "    # https://www.baeldung.com/cs/convolutional-layer-size\n",
    "    # image width/height - sum(kernel width/height) + num_kernels\n",
    "    # kernel_size=(1, width_limit-11+4, height_limit-11+4)\n",
    "    # https://keras.io/api/layers/recurrent_layers/time_distributed/\n",
    "    convlstm.compile(\n",
    "        loss=losses.binary_crossentropy, optimizer=optimizers.Adam(), metrics=[tf.keras.metrics.Accuracy()]\n",
    "    )\n",
    "    return convlstm"
   ]
  },
  {
   "cell_type": "code",
   "execution_count": 27,
   "id": "5beb9786",
   "metadata": {},
   "outputs": [
    {
     "name": "stderr",
     "output_type": "stream",
     "text": [
      "2023-05-07 07:55:06.199525: I tensorflow/core/platform/cpu_feature_guard.cc:194] This TensorFlow binary is optimized with oneAPI Deep Neural Network Library (oneDNN) to use the following CPU instructions in performance-critical operations:  SSE3 SSE4.1 SSE4.2 AVX\n",
      "To enable them in other operations, rebuild TensorFlow with the appropriate compiler flags.\n",
      "2023-05-07 07:55:06.372850: I tensorflow/core/common_runtime/gpu/gpu_device.cc:1637] Created device /job:localhost/replica:0/task:0/device:GPU:0 with 78868 MB memory:  -> device: 0, name: NVIDIA A100-SXM4-80GB, pci bus id: 0000:90:00.0, compute capability: 8.0\n"
     ]
    },
    {
     "name": "stdout",
     "output_type": "stream",
     "text": [
      "Model: \"sequential\"\n",
      "_________________________________________________________________\n",
      " Layer (type)                Output Shape              Param #   \n",
      "=================================================================\n",
      " conv_lstm2d (ConvLSTM2D)    (None, 2, 1253, 983, 128  2573312   \n",
      "                             )                                   \n",
      "                                                                 \n",
      " batch_normalization (BatchN  (None, 2, 1253, 983, 128  512      \n",
      " ormalization)               )                                   \n",
      "                                                                 \n",
      " conv_lstm2d_1 (ConvLSTM2D)  (None, 2, 1253, 983, 64)  442624    \n",
      "                                                                 \n",
      " batch_normalization_1 (Batc  (None, 2, 1253, 983, 64)  256      \n",
      " hNormalization)                                                 \n",
      "                                                                 \n",
      " conv_lstm2d_2 (ConvLSTM2D)  (None, 2, 1253, 983, 32)  49280     \n",
      "                                                                 \n",
      " batch_normalization_2 (Batc  (None, 2, 1253, 983, 32)  128      \n",
      " hNormalization)                                                 \n",
      "                                                                 \n",
      " conv_lstm2d_3 (ConvLSTM2D)  (None, 2, 1253, 983, 16)  3136      \n",
      "                                                                 \n",
      " conv3d (Conv3D)             (None, 2, 1253, 983, 1)   433       \n",
      "                                                                 \n",
      "=================================================================\n",
      "Total params: 3,069,681\n",
      "Trainable params: 3,069,233\n",
      "Non-trainable params: 448\n",
      "_________________________________________________________________\n",
      "None\n"
     ]
    }
   ],
   "source": [
    "model = build_ConvLSTM()\n",
    "print(model.summary())\n",
    "epochs = 10\n",
    "batch_size = 1"
   ]
  },
  {
   "cell_type": "code",
   "execution_count": null,
   "id": "908edaeb",
   "metadata": {},
   "outputs": [
    {
     "name": "stdout",
     "output_type": "stream",
     "text": [
      "Epoch 1/10\n"
     ]
    },
    {
     "name": "stderr",
     "output_type": "stream",
     "text": [
      "2023-05-07 07:55:52.812572: I tensorflow/stream_executor/cuda/cuda_dnn.cc:424] Loaded cuDNN version 8700\n",
      "2023-05-07 07:56:08.230840: W tensorflow/core/common_runtime/bfc_allocator.cc:479] Allocator (GPU_0_bfc) ran out of memory trying to allocate 7.05GiB (rounded to 7567558656)requested by op sequential/conv_lstm2d/while/body/_1/sequential/conv_lstm2d/while/Mul\n",
      "If the cause is memory fragmentation maybe the environment variable 'TF_GPU_ALLOCATOR=cuda_malloc_async' will improve the situation. \n",
      "Current allocation summary follows.\n",
      "Current allocation summary follows.\n",
      "2023-05-07 07:56:08.230905: I tensorflow/core/common_runtime/bfc_allocator.cc:1033] BFCAllocator dump for GPU_0_bfc\n",
      "2023-05-07 07:56:08.230914: I tensorflow/core/common_runtime/bfc_allocator.cc:1040] Bin (256): \tTotal Chunks: 92, Chunks in use: 92. 23.0KiB allocated for chunks. 23.0KiB in use in bin. 4.3KiB client-requested in use in bin.\n",
      "2023-05-07 07:56:08.230919: I tensorflow/core/common_runtime/bfc_allocator.cc:1040] Bin (512): \tTotal Chunks: 12, Chunks in use: 12. 6.0KiB allocated for chunks. 6.0KiB in use in bin. 6.0KiB client-requested in use in bin.\n",
      "2023-05-07 07:56:08.230925: I tensorflow/core/common_runtime/bfc_allocator.cc:1040] Bin (1024): \tTotal Chunks: 8, Chunks in use: 8. 10.5KiB allocated for chunks. 10.5KiB in use in bin. 10.1KiB client-requested in use in bin.\n",
      "2023-05-07 07:56:08.230931: I tensorflow/core/common_runtime/bfc_allocator.cc:1040] Bin (2048): \tTotal Chunks: 5, Chunks in use: 5. 11.5KiB allocated for chunks. 11.5KiB in use in bin. 10.0KiB client-requested in use in bin.\n",
      "2023-05-07 07:56:08.230936: I tensorflow/core/common_runtime/bfc_allocator.cc:1040] Bin (4096): \tTotal Chunks: 4, Chunks in use: 4. 19.2KiB allocated for chunks. 19.2KiB in use in bin. 16.0KiB client-requested in use in bin.\n",
      "2023-05-07 07:56:08.230942: I tensorflow/core/common_runtime/bfc_allocator.cc:1040] Bin (8192): \tTotal Chunks: 4, Chunks in use: 4. 38.5KiB allocated for chunks. 38.5KiB in use in bin. 32.0KiB client-requested in use in bin.\n",
      "2023-05-07 07:56:08.230947: I tensorflow/core/common_runtime/bfc_allocator.cc:1040] Bin (16384): \tTotal Chunks: 0, Chunks in use: 0. 0B allocated for chunks. 0B in use in bin. 0B client-requested in use in bin.\n",
      "2023-05-07 07:56:08.230952: I tensorflow/core/common_runtime/bfc_allocator.cc:1040] Bin (32768): \tTotal Chunks: 1, Chunks in use: 1. 32.0KiB allocated for chunks. 32.0KiB in use in bin. 32.0KiB client-requested in use in bin.\n",
      "2023-05-07 07:56:08.230958: I tensorflow/core/common_runtime/bfc_allocator.cc:1040] Bin (65536): \tTotal Chunks: 4, Chunks in use: 4. 256.0KiB allocated for chunks. 256.0KiB in use in bin. 256.0KiB client-requested in use in bin.\n",
      "2023-05-07 07:56:08.230963: I tensorflow/core/common_runtime/bfc_allocator.cc:1040] Bin (131072): \tTotal Chunks: 4, Chunks in use: 4. 512.2KiB allocated for chunks. 512.2KiB in use in bin. 512.0KiB client-requested in use in bin.\n",
      "2023-05-07 07:56:08.230969: I tensorflow/core/common_runtime/bfc_allocator.cc:1040] Bin (262144): \tTotal Chunks: 1, Chunks in use: 1. 288.0KiB allocated for chunks. 288.0KiB in use in bin. 288.0KiB client-requested in use in bin.\n",
      "2023-05-07 07:56:08.230974: I tensorflow/core/common_runtime/bfc_allocator.cc:1040] Bin (524288): \tTotal Chunks: 10, Chunks in use: 9. 7.60MiB allocated for chunks. 6.71MiB in use in bin. 6.71MiB client-requested in use in bin.\n",
      "2023-05-07 07:56:08.230980: I tensorflow/core/common_runtime/bfc_allocator.cc:1040] Bin (1048576): \tTotal Chunks: 8, Chunks in use: 8. 10.93MiB allocated for chunks. 10.93MiB in use in bin. 10.75MiB client-requested in use in bin.\n",
      "2023-05-07 07:56:08.230985: I tensorflow/core/common_runtime/bfc_allocator.cc:1040] Bin (2097152): \tTotal Chunks: 4, Chunks in use: 4. 14.44MiB allocated for chunks. 14.44MiB in use in bin. 14.26MiB client-requested in use in bin.\n",
      "2023-05-07 07:56:08.230991: I tensorflow/core/common_runtime/bfc_allocator.cc:1040] Bin (4194304): \tTotal Chunks: 4, Chunks in use: 4. 25.00MiB allocated for chunks. 25.00MiB in use in bin. 25.00MiB client-requested in use in bin.\n",
      "2023-05-07 07:56:08.230996: I tensorflow/core/common_runtime/bfc_allocator.cc:1040] Bin (8388608): \tTotal Chunks: 0, Chunks in use: 0. 0B allocated for chunks. 0B in use in bin. 0B client-requested in use in bin.\n",
      "2023-05-07 07:56:08.231000: I tensorflow/core/common_runtime/bfc_allocator.cc:1040] Bin (16777216): \tTotal Chunks: 0, Chunks in use: 0. 0B allocated for chunks. 0B in use in bin. 0B client-requested in use in bin.\n",
      "2023-05-07 07:56:08.231005: I tensorflow/core/common_runtime/bfc_allocator.cc:1040] Bin (33554432): \tTotal Chunks: 0, Chunks in use: 0. 0B allocated for chunks. 0B in use in bin. 0B client-requested in use in bin.\n",
      "2023-05-07 07:56:08.231014: I tensorflow/core/common_runtime/bfc_allocator.cc:1040] Bin (67108864): \tTotal Chunks: 3, Chunks in use: 3. 338.30MiB allocated for chunks. 338.30MiB in use in bin. 338.30MiB client-requested in use in bin.\n",
      "2023-05-07 07:56:08.231018: I tensorflow/core/common_runtime/bfc_allocator.cc:1040] Bin (134217728): \tTotal Chunks: 0, Chunks in use: 0. 0B allocated for chunks. 0B in use in bin. 0B client-requested in use in bin.\n",
      "2023-05-07 07:56:08.231024: I tensorflow/core/common_runtime/bfc_allocator.cc:1040] Bin (268435456): \tTotal Chunks: 14, Chunks in use: 10. 76.63GiB allocated for chunks. 65.41GiB in use in bin. 65.41GiB client-requested in use in bin.\n",
      "2023-05-07 07:56:08.231029: I tensorflow/core/common_runtime/bfc_allocator.cc:1056] Bin for 7.05GiB was 256.00MiB, Chunk State: \n",
      "2023-05-07 07:56:08.231040: I tensorflow/core/common_runtime/bfc_allocator.cc:1062]   Size: 1004.18MiB | Requested Size: 1.56MiB | in_use: 0 | bin_num: 20, prev:   Size: 1.56MiB | Requested Size: 1.56MiB | in_use: 1 | bin_num: -1, next:   Size: 112.77MiB | Requested Size: 112.76MiB | in_use: 1 | bin_num: -1\n",
      "2023-05-07 07:56:08.231046: I tensorflow/core/common_runtime/bfc_allocator.cc:1062]   Size: 1.21GiB | Requested Size: 512B | in_use: 0 | bin_num: 20, prev:   Size: 7.05GiB | Requested Size: 7.05GiB | in_use: 1 | bin_num: -1\n",
      "2023-05-07 07:56:08.231053: I tensorflow/core/common_runtime/bfc_allocator.cc:1062]   Size: 4.02GiB | Requested Size: 4.02GiB | in_use: 0 | bin_num: 20, prev:   Size: 256B | Requested Size: 4B | in_use: 1 | bin_num: -1, next:   Size: 7.05GiB | Requested Size: 7.05GiB | in_use: 1 | bin_num: -1\n",
      "2023-05-07 07:56:08.231059: I tensorflow/core/common_runtime/bfc_allocator.cc:1062]   Size: 5.01GiB | Requested Size: 4.02GiB | in_use: 0 | bin_num: 20, prev:   Size: 7.05GiB | Requested Size: 7.05GiB | in_use: 1 | bin_num: -1, next:   Size: 4.02GiB | Requested Size: 4.02GiB | in_use: 1 | bin_num: -1\n",
      "2023-05-07 07:56:08.231063: I tensorflow/core/common_runtime/bfc_allocator.cc:1069] Next region of size 82699419648\n",
      "2023-05-07 07:56:08.231070: I tensorflow/core/common_runtime/bfc_allocator.cc:1089] InUse at 7f8cc0000000 of size 256 next 1\n",
      "2023-05-07 07:56:08.231074: I tensorflow/core/common_runtime/bfc_allocator.cc:1089] InUse at 7f8cc0000100 of size 1280 next 2\n",
      "2023-05-07 07:56:08.231078: I tensorflow/core/common_runtime/bfc_allocator.cc:1089] InUse at 7f8cc0000600 of size 256 next 3\n",
      "2023-05-07 07:56:08.231082: I tensorflow/core/common_runtime/bfc_allocator.cc:1089] InUse at 7f8cc0000700 of size 256 next 4\n",
      "2023-05-07 07:56:08.231086: I tensorflow/core/common_runtime/bfc_allocator.cc:1089] InUse at 7f8cc0000800 of size 256 next 6\n",
      "2023-05-07 07:56:08.231089: I tensorflow/core/common_runtime/bfc_allocator.cc:1089] InUse at 7f8cc0000900 of size 256 next 7\n",
      "2023-05-07 07:56:08.231093: I tensorflow/core/common_runtime/bfc_allocator.cc:1089] InUse at 7f8cc0000a00 of size 256 next 8\n",
      "2023-05-07 07:56:08.231097: I tensorflow/core/common_runtime/bfc_allocator.cc:1089] InUse at 7f8cc0000b00 of size 512 next 5\n",
      "2023-05-07 07:56:08.231101: I tensorflow/core/common_runtime/bfc_allocator.cc:1089] InUse at 7f8cc0000d00 of size 256 next 12\n",
      "2023-05-07 07:56:08.231105: I tensorflow/core/common_runtime/bfc_allocator.cc:1089] InUse at 7f8cc0000e00 of size 512 next 14\n",
      "2023-05-07 07:56:08.231109: I tensorflow/core/common_runtime/bfc_allocator.cc:1089] InUse at 7f8cc0001000 of size 512 next 16\n",
      "2023-05-07 07:56:08.231112: I tensorflow/core/common_runtime/bfc_allocator.cc:1089] InUse at 7f8cc0001200 of size 512 next 13\n",
      "2023-05-07 07:56:08.231116: I tensorflow/core/common_runtime/bfc_allocator.cc:1089] InUse at 7f8cc0001400 of size 2048 next 15\n",
      "2023-05-07 07:56:08.231120: I tensorflow/core/common_runtime/bfc_allocator.cc:1089] InUse at 7f8cc0001c00 of size 256 next 17\n",
      "2023-05-07 07:56:08.231124: I tensorflow/core/common_runtime/bfc_allocator.cc:1089] InUse at 7f8cc0001d00 of size 256 next 18\n",
      "2023-05-07 07:56:08.231128: I tensorflow/core/common_runtime/bfc_allocator.cc:1089] InUse at 7f8cc0001e00 of size 256 next 21\n",
      "2023-05-07 07:56:08.231132: I tensorflow/core/common_runtime/bfc_allocator.cc:1089] InUse at 7f8cc0001f00 of size 256 next 19\n",
      "2023-05-07 07:56:08.231136: I tensorflow/core/common_runtime/bfc_allocator.cc:1089] InUse at 7f8cc0002000 of size 256 next 26\n",
      "2023-05-07 07:56:08.231140: I tensorflow/core/common_runtime/bfc_allocator.cc:1089] InUse at 7f8cc0002100 of size 256 next 20\n",
      "2023-05-07 07:56:08.231143: I tensorflow/core/common_runtime/bfc_allocator.cc:1089] InUse at 7f8cc0002200 of size 1024 next 22\n",
      "2023-05-07 07:56:08.231147: I tensorflow/core/common_runtime/bfc_allocator.cc:1089] InUse at 7f8cc0002600 of size 256 next 27\n",
      "2023-05-07 07:56:08.231151: I tensorflow/core/common_runtime/bfc_allocator.cc:1089] InUse at 7f8cc0002700 of size 256 next 28\n",
      "2023-05-07 07:56:08.231155: I tensorflow/core/common_runtime/bfc_allocator.cc:1089] InUse at 7f8cc0002800 of size 256 next 31\n",
      "2023-05-07 07:56:08.231158: I tensorflow/core/common_runtime/bfc_allocator.cc:1089] InUse at 7f8cc0002900 of size 256 next 36\n",
      "2023-05-07 07:56:08.231162: I tensorflow/core/common_runtime/bfc_allocator.cc:1089] InUse at 7f8cc0002a00 of size 256 next 35\n",
      "2023-05-07 07:56:08.231166: I tensorflow/core/common_runtime/bfc_allocator.cc:1089] InUse at 7f8cc0002b00 of size 512 next 30\n",
      "2023-05-07 07:56:08.231169: I tensorflow/core/common_runtime/bfc_allocator.cc:1089] InUse at 7f8cc0002d00 of size 256 next 37\n",
      "2023-05-07 07:56:08.231173: I tensorflow/core/common_runtime/bfc_allocator.cc:1089] InUse at 7f8cc0002e00 of size 256 next 38\n",
      "2023-05-07 07:56:08.231177: I tensorflow/core/common_runtime/bfc_allocator.cc:1089] InUse at 7f8cc0002f00 of size 256 next 39\n",
      "2023-05-07 07:56:08.231181: I tensorflow/core/common_runtime/bfc_allocator.cc:1089] InUse at 7f8cc0003000 of size 256 next 42\n",
      "2023-05-07 07:56:08.231184: I tensorflow/core/common_runtime/bfc_allocator.cc:1089] InUse at 7f8cc0003100 of size 256 next 48\n",
      "2023-05-07 07:56:08.231188: I tensorflow/core/common_runtime/bfc_allocator.cc:1089] InUse at 7f8cc0003200 of size 256 next 41\n",
      "2023-05-07 07:56:08.231192: I tensorflow/core/common_runtime/bfc_allocator.cc:1089] InUse at 7f8cc0003300 of size 256 next 47\n",
      "2023-05-07 07:56:08.231196: I tensorflow/core/common_runtime/bfc_allocator.cc:1089] InUse at 7f8cc0003400 of size 256 next 40\n",
      "2023-05-07 07:56:08.231199: I tensorflow/core/common_runtime/bfc_allocator.cc:1089] InUse at 7f8cc0003500 of size 7424 next 43\n",
      "2023-05-07 07:56:08.231203: I tensorflow/core/common_runtime/bfc_allocator.cc:1089] InUse at 7f8cc0005200 of size 256 next 62\n",
      "2023-05-07 07:56:08.231207: I tensorflow/core/common_runtime/bfc_allocator.cc:1089] InUse at 7f8cc0005300 of size 3584 next 50\n",
      "2023-05-07 07:56:08.231211: I tensorflow/core/common_runtime/bfc_allocator.cc:1089] InUse at 7f8cc0006100 of size 1792 next 51\n",
      "2023-05-07 07:56:08.231215: I tensorflow/core/common_runtime/bfc_allocator.cc:1089] InUse at 7f8cc0006800 of size 256 next 46\n",
      "2023-05-07 07:56:08.231219: I tensorflow/core/common_runtime/bfc_allocator.cc:1089] InUse at 7f8cc0006900 of size 256 next 49\n",
      "2023-05-07 07:56:08.231222: I tensorflow/core/common_runtime/bfc_allocator.cc:1089] InUse at 7f8cc0006a00 of size 256 next 52\n",
      "2023-05-07 07:56:08.231226: I tensorflow/core/common_runtime/bfc_allocator.cc:1089] InUse at 7f8cc0006b00 of size 256 next 53\n",
      "2023-05-07 07:56:08.231230: I tensorflow/core/common_runtime/bfc_allocator.cc:1089] InUse at 7f8cc0006c00 of size 256 next 56\n",
      "2023-05-07 07:56:08.231233: I tensorflow/core/common_runtime/bfc_allocator.cc:1089] InUse at 7f8cc0006d00 of size 256 next 57\n",
      "2023-05-07 07:56:08.231237: I tensorflow/core/common_runtime/bfc_allocator.cc:1089] InUse at 7f8cc0006e00 of size 256 next 58\n",
      "2023-05-07 07:56:08.231242: I tensorflow/core/common_runtime/bfc_allocator.cc:1089] InUse at 7f8cc0006f00 of size 256 next 59\n",
      "2023-05-07 07:56:08.231245: I tensorflow/core/common_runtime/bfc_allocator.cc:1089] InUse at 7f8cc0007000 of size 256 next 60\n",
      "2023-05-07 07:56:08.231249: I tensorflow/core/common_runtime/bfc_allocator.cc:1089] InUse at 7f8cc0007100 of size 256 next 61\n",
      "2023-05-07 07:56:08.231253: I tensorflow/core/common_runtime/bfc_allocator.cc:1089] InUse at 7f8cc0007200 of size 256 next 44\n",
      "2023-05-07 07:56:08.231257: I tensorflow/core/common_runtime/bfc_allocator.cc:1089] InUse at 7f8cc0007300 of size 8192 next 45\n",
      "2023-05-07 07:56:08.231261: I tensorflow/core/common_runtime/bfc_allocator.cc:1089] InUse at 7f8cc0009300 of size 512 next 64\n",
      "2023-05-07 07:56:08.231265: I tensorflow/core/common_runtime/bfc_allocator.cc:1089] InUse at 7f8cc0009500 of size 512 next 65\n",
      "2023-05-07 07:56:08.231269: I tensorflow/core/common_runtime/bfc_allocator.cc:1089] InUse at 7f8cc0009700 of size 1024 next 67\n",
      "2023-05-07 07:56:08.231272: I tensorflow/core/common_runtime/bfc_allocator.cc:1089] InUse at 7f8cc0009b00 of size 256 next 68\n",
      "2023-05-07 07:56:08.231276: I tensorflow/core/common_runtime/bfc_allocator.cc:1089] InUse at 7f8cc0009c00 of size 256 next 69\n",
      "2023-05-07 07:56:08.231280: I tensorflow/core/common_runtime/bfc_allocator.cc:1089] InUse at 7f8cc0009d00 of size 512 next 71\n",
      "2023-05-07 07:56:08.231284: I tensorflow/core/common_runtime/bfc_allocator.cc:1089] InUse at 7f8cc0009f00 of size 256 next 72\n",
      "2023-05-07 07:56:08.231287: I tensorflow/core/common_runtime/bfc_allocator.cc:1089] InUse at 7f8cc000a000 of size 256 next 73\n",
      "2023-05-07 07:56:08.231291: I tensorflow/core/common_runtime/bfc_allocator.cc:1089] InUse at 7f8cc000a100 of size 8192 next 74\n",
      "2023-05-07 07:56:08.231295: I tensorflow/core/common_runtime/bfc_allocator.cc:1089] InUse at 7f8cc000c100 of size 4096 next 75\n",
      "2023-05-07 07:56:08.231299: I tensorflow/core/common_runtime/bfc_allocator.cc:1089] InUse at 7f8cc000d100 of size 256 next 76\n",
      "2023-05-07 07:56:08.231303: I tensorflow/core/common_runtime/bfc_allocator.cc:1089] InUse at 7f8cc000d200 of size 1792 next 77\n",
      "2023-05-07 07:56:08.231306: I tensorflow/core/common_runtime/bfc_allocator.cc:1089] InUse at 7f8cc000d900 of size 256 next 78\n",
      "2023-05-07 07:56:08.231310: I tensorflow/core/common_runtime/bfc_allocator.cc:1089] InUse at 7f8cc000da00 of size 2048 next 81\n",
      "2023-05-07 07:56:08.231314: I tensorflow/core/common_runtime/bfc_allocator.cc:1089] InUse at 7f8cc000e200 of size 512 next 82\n",
      "2023-05-07 07:56:08.231318: I tensorflow/core/common_runtime/bfc_allocator.cc:1089] InUse at 7f8cc000e400 of size 512 next 83\n",
      "2023-05-07 07:56:08.231321: I tensorflow/core/common_runtime/bfc_allocator.cc:1089] InUse at 7f8cc000e600 of size 1024 next 86\n",
      "2023-05-07 07:56:08.231325: I tensorflow/core/common_runtime/bfc_allocator.cc:1089] InUse at 7f8cc000ea00 of size 256 next 87\n",
      "2023-05-07 07:56:08.231329: I tensorflow/core/common_runtime/bfc_allocator.cc:1089] InUse at 7f8cc000eb00 of size 256 next 88\n",
      "2023-05-07 07:56:08.231333: I tensorflow/core/common_runtime/bfc_allocator.cc:1089] InUse at 7f8cc000ec00 of size 512 next 91\n",
      "2023-05-07 07:56:08.231337: I tensorflow/core/common_runtime/bfc_allocator.cc:1089] InUse at 7f8cc000ee00 of size 256 next 92\n",
      "2023-05-07 07:56:08.231340: I tensorflow/core/common_runtime/bfc_allocator.cc:1089] InUse at 7f8cc000ef00 of size 256 next 93\n",
      "2023-05-07 07:56:08.231344: I tensorflow/core/common_runtime/bfc_allocator.cc:1089] InUse at 7f8cc000f000 of size 14848 next 29\n",
      "2023-05-07 07:56:08.231348: I tensorflow/core/common_runtime/bfc_allocator.cc:1089] InUse at 7f8cc0012a00 of size 65536 next 32\n",
      "2023-05-07 07:56:08.231352: I tensorflow/core/common_runtime/bfc_allocator.cc:1089] InUse at 7f8cc0022a00 of size 131328 next 33\n",
      "2023-05-07 07:56:08.231356: I tensorflow/core/common_runtime/bfc_allocator.cc:1089] InUse at 7f8cc0042b00 of size 131072 next 34\n",
      "2023-05-07 07:56:08.231360: I tensorflow/core/common_runtime/bfc_allocator.cc:1089] InUse at 7f8cc0062b00 of size 1373440 next 25\n",
      "2023-05-07 07:56:08.231364: I tensorflow/core/common_runtime/bfc_allocator.cc:1089] InUse at 7f8cc01b2000 of size 590080 next 23\n",
      "2023-05-07 07:56:08.231368: I tensorflow/core/common_runtime/bfc_allocator.cc:1089] InUse at 7f8cc0242100 of size 1179648 next 24\n",
      "2023-05-07 07:56:08.231372: I tensorflow/core/common_runtime/bfc_allocator.cc:1089] InUse at 7f8cc0362100 of size 3930624 next 9\n",
      "2023-05-07 07:56:08.231376: I tensorflow/core/common_runtime/bfc_allocator.cc:1089] InUse at 7f8cc0721b00 of size 3737600 next 10\n",
      "2023-05-07 07:56:08.231380: I tensorflow/core/common_runtime/bfc_allocator.cc:1089] InUse at 7f8cc0ab2300 of size 6553600 next 11\n",
      "2023-05-07 07:56:08.231384: I tensorflow/core/common_runtime/bfc_allocator.cc:1089] InUse at 7f8cc10f2300 of size 8631746816 next 54\n",
      "2023-05-07 07:56:08.231388: I tensorflow/core/common_runtime/bfc_allocator.cc:1089] InUse at 7f8ec38d2400 of size 118243328 next 55\n",
      "2023-05-07 07:56:08.231392: I tensorflow/core/common_runtime/bfc_allocator.cc:1089] InUse at 7f8eca996400 of size 6553600 next 63\n",
      "2023-05-07 07:56:08.231396: I tensorflow/core/common_runtime/bfc_allocator.cc:1089] InUse at 7f8ecafd6400 of size 589824 next 66\n",
      "2023-05-07 07:56:08.231399: I tensorflow/core/common_runtime/bfc_allocator.cc:1089] InUse at 7f8ecb066400 of size 65536 next 70\n",
      "2023-05-07 07:56:08.231404: I tensorflow/core/common_runtime/bfc_allocator.cc:1089] InUse at 7f8ecb076400 of size 3737600 next 79\n",
      "2023-05-07 07:56:08.231407: I tensorflow/core/common_runtime/bfc_allocator.cc:1089] InUse at 7f8ecb406c00 of size 6553600 next 80\n",
      "2023-05-07 07:56:08.231411: I tensorflow/core/common_runtime/bfc_allocator.cc:1089] InUse at 7f8ecba46c00 of size 1179648 next 84\n",
      "2023-05-07 07:56:08.231415: I tensorflow/core/common_runtime/bfc_allocator.cc:1089] InUse at 7f8ecbb66c00 of size 589824 next 85\n",
      "2023-05-07 07:56:08.231419: I tensorflow/core/common_runtime/bfc_allocator.cc:1089] InUse at 7f8ecbbf6c00 of size 131072 next 89\n",
      "2023-05-07 07:56:08.231423: I tensorflow/core/common_runtime/bfc_allocator.cc:1089] InUse at 7f8ecbc16c00 of size 65536 next 90\n",
      "2023-05-07 07:56:08.231427: I tensorflow/core/common_runtime/bfc_allocator.cc:1089] InUse at 7f8ecbc26c00 of size 4096 next 94\n",
      "2023-05-07 07:56:08.231431: I tensorflow/core/common_runtime/bfc_allocator.cc:1089] InUse at 7f8ecbc27c00 of size 256 next 95\n",
      "2023-05-07 07:56:08.231434: I tensorflow/core/common_runtime/bfc_allocator.cc:1089] InUse at 7f8ecbc27d00 of size 1792 next 96\n",
      "2023-05-07 07:56:08.231438: I tensorflow/core/common_runtime/bfc_allocator.cc:1089] InUse at 7f8ecbc28400 of size 256 next 97\n",
      "2023-05-07 07:56:08.231442: I tensorflow/core/common_runtime/bfc_allocator.cc:1089] InUse at 7f8ecbc28500 of size 256 next 98\n",
      "2023-05-07 07:56:08.231446: I tensorflow/core/common_runtime/bfc_allocator.cc:1089] InUse at 7f8ecbc28600 of size 256 next 99\n",
      "2023-05-07 07:56:08.231450: I tensorflow/core/common_runtime/bfc_allocator.cc:1089] InUse at 7f8ecbc28700 of size 256 next 100\n",
      "2023-05-07 07:56:08.231453: I tensorflow/core/common_runtime/bfc_allocator.cc:1089] InUse at 7f8ecbc28800 of size 256 next 101\n",
      "2023-05-07 07:56:08.231457: I tensorflow/core/common_runtime/bfc_allocator.cc:1089] InUse at 7f8ecbc28900 of size 256 next 102\n",
      "2023-05-07 07:56:08.231461: I tensorflow/core/common_runtime/bfc_allocator.cc:1089] InUse at 7f8ecbc28a00 of size 256 next 103\n",
      "2023-05-07 07:56:08.231465: I tensorflow/core/common_runtime/bfc_allocator.cc:1089] InUse at 7f8ecbc28b00 of size 2048 next 104\n",
      "2023-05-07 07:56:08.231469: I tensorflow/core/common_runtime/bfc_allocator.cc:1089] InUse at 7f8ecbc29300 of size 32768 next 105\n",
      "2023-05-07 07:56:08.231472: I tensorflow/core/common_runtime/bfc_allocator.cc:1089] InUse at 7f8ecbc31300 of size 294912 next 106\n",
      "2023-05-07 07:56:08.231476: I tensorflow/core/common_runtime/bfc_allocator.cc:1089] InUse at 7f8ecbc79300 of size 934400 next 107\n",
      "2023-05-07 07:56:08.231480: I tensorflow/core/common_runtime/bfc_allocator.cc:1089] InUse at 7f8ecbd5d500 of size 256 next 108\n",
      "2023-05-07 07:56:08.231484: I tensorflow/core/common_runtime/bfc_allocator.cc:1089] InUse at 7f8ecbd5d600 of size 256 next 109\n",
      "2023-05-07 07:56:08.231488: I tensorflow/core/common_runtime/bfc_allocator.cc:1089] InUse at 7f8ecbd5d700 of size 256 next 110\n",
      "2023-05-07 07:56:08.231492: I tensorflow/core/common_runtime/bfc_allocator.cc:1089] InUse at 7f8ecbd5d800 of size 256 next 111\n",
      "2023-05-07 07:56:08.231495: I tensorflow/core/common_runtime/bfc_allocator.cc:1089] InUse at 7f8ecbd5d900 of size 256 next 112\n",
      "2023-05-07 07:56:08.231499: I tensorflow/core/common_runtime/bfc_allocator.cc:1089] InUse at 7f8ecbd5da00 of size 256 next 113\n",
      "2023-05-07 07:56:08.231503: I tensorflow/core/common_runtime/bfc_allocator.cc:1089] InUse at 7f8ecbd5db00 of size 256 next 114\n",
      "2023-05-07 07:56:08.231507: I tensorflow/core/common_runtime/bfc_allocator.cc:1089] InUse at 7f8ecbd5dc00 of size 256 next 115\n",
      "2023-05-07 07:56:08.231510: I tensorflow/core/common_runtime/bfc_allocator.cc:1089] InUse at 7f8ecbd5dd00 of size 256 next 116\n",
      "2023-05-07 07:56:08.231514: I tensorflow/core/common_runtime/bfc_allocator.cc:1089] InUse at 7f8ecbd5de00 of size 256 next 117\n",
      "2023-05-07 07:56:08.231518: I tensorflow/core/common_runtime/bfc_allocator.cc:1089] InUse at 7f8ecbd5df00 of size 256 next 118\n",
      "2023-05-07 07:56:08.231522: I tensorflow/core/common_runtime/bfc_allocator.cc:1089] InUse at 7f8ecbd5e000 of size 256 next 119\n",
      "2023-05-07 07:56:08.231525: I tensorflow/core/common_runtime/bfc_allocator.cc:1089] InUse at 7f8ecbd5e100 of size 256 next 120\n",
      "2023-05-07 07:56:08.231529: I tensorflow/core/common_runtime/bfc_allocator.cc:1089] InUse at 7f8ecbd5e200 of size 256 next 121\n",
      "2023-05-07 07:56:08.231533: I tensorflow/core/common_runtime/bfc_allocator.cc:1089] InUse at 7f8ecbd5e300 of size 256 next 122\n",
      "2023-05-07 07:56:08.231537: I tensorflow/core/common_runtime/bfc_allocator.cc:1089] InUse at 7f8ecbd5e400 of size 256 next 123\n",
      "2023-05-07 07:56:08.231540: I tensorflow/core/common_runtime/bfc_allocator.cc:1089] InUse at 7f8ecbd5e500 of size 256 next 124\n",
      "2023-05-07 07:56:08.231544: I tensorflow/core/common_runtime/bfc_allocator.cc:1089] InUse at 7f8ecbd5e600 of size 256 next 125\n",
      "2023-05-07 07:56:08.231548: I tensorflow/core/common_runtime/bfc_allocator.cc:1089] InUse at 7f8ecbd5e700 of size 256 next 126\n",
      "2023-05-07 07:56:08.231552: I tensorflow/core/common_runtime/bfc_allocator.cc:1089] InUse at 7f8ecbd5e800 of size 256 next 127\n",
      "2023-05-07 07:56:08.231556: I tensorflow/core/common_runtime/bfc_allocator.cc:1089] InUse at 7f8ecbd5e900 of size 256 next 128\n",
      "2023-05-07 07:56:08.231559: I tensorflow/core/common_runtime/bfc_allocator.cc:1089] InUse at 7f8ecbd5ea00 of size 256 next 129\n",
      "2023-05-07 07:56:08.231563: I tensorflow/core/common_runtime/bfc_allocator.cc:1089] InUse at 7f8ecbd5eb00 of size 256 next 130\n",
      "2023-05-07 07:56:08.231567: I tensorflow/core/common_runtime/bfc_allocator.cc:1089] InUse at 7f8ecbd5ec00 of size 256 next 131\n",
      "2023-05-07 07:56:08.231571: I tensorflow/core/common_runtime/bfc_allocator.cc:1089] InUse at 7f8ecbd5ed00 of size 256 next 132\n",
      "2023-05-07 07:56:08.231574: I tensorflow/core/common_runtime/bfc_allocator.cc:1089] InUse at 7f8ecbd5ee00 of size 256 next 133\n",
      "2023-05-07 07:56:08.231578: I tensorflow/core/common_runtime/bfc_allocator.cc:1089] InUse at 7f8ecbd5ef00 of size 256 next 134\n",
      "2023-05-07 07:56:08.231582: I tensorflow/core/common_runtime/bfc_allocator.cc:1089] InUse at 7f8ecbd5f000 of size 256 next 135\n",
      "2023-05-07 07:56:08.231586: I tensorflow/core/common_runtime/bfc_allocator.cc:1089] InUse at 7f8ecbd5f100 of size 256 next 136\n",
      "2023-05-07 07:56:08.231590: I tensorflow/core/common_runtime/bfc_allocator.cc:1089] InUse at 7f8ecbd5f200 of size 256 next 137\n",
      "2023-05-07 07:56:08.231593: I tensorflow/core/common_runtime/bfc_allocator.cc:1089] InUse at 7f8ecbd5f300 of size 2048 next 138\n",
      "2023-05-07 07:56:08.231597: I tensorflow/core/common_runtime/bfc_allocator.cc:1089] InUse at 7f8ecbd5fb00 of size 1024 next 139\n",
      "2023-05-07 07:56:08.231601: I tensorflow/core/common_runtime/bfc_allocator.cc:1089] InUse at 7f8ecbd5ff00 of size 512 next 140\n",
      "2023-05-07 07:56:08.231605: I tensorflow/core/common_runtime/bfc_allocator.cc:1089] InUse at 7f8ecbd60100 of size 6553600 next 141\n",
      "2023-05-07 07:56:08.231608: I tensorflow/core/common_runtime/bfc_allocator.cc:1089] InUse at 7f8ecc3a0100 of size 3737600 next 142\n",
      "2023-05-07 07:56:08.231612: I tensorflow/core/common_runtime/bfc_allocator.cc:1089] InUse at 7f8ecc730900 of size 1179648 next 143\n",
      "2023-05-07 07:56:08.231616: I tensorflow/core/common_runtime/bfc_allocator.cc:1089] InUse at 7f8ecc850900 of size 589824 next 144\n",
      "2023-05-07 07:56:08.231620: I tensorflow/core/common_runtime/bfc_allocator.cc:1089] InUse at 7f8ecc8e0900 of size 8192 next 145\n",
      "2023-05-07 07:56:08.231624: I tensorflow/core/common_runtime/bfc_allocator.cc:1089] InUse at 7f8ecc8e2900 of size 256 next 146\n",
      "2023-05-07 07:56:08.231628: I tensorflow/core/common_runtime/bfc_allocator.cc:1089] InUse at 7f8ecc8e2a00 of size 4096 next 147\n",
      "2023-05-07 07:56:08.231631: I tensorflow/core/common_runtime/bfc_allocator.cc:1089] InUse at 7f8ecc8e3a00 of size 131072 next 148\n",
      "2023-05-07 07:56:08.231635: I tensorflow/core/common_runtime/bfc_allocator.cc:1089] InUse at 7f8ecc903a00 of size 256 next 149\n",
      "2023-05-07 07:56:08.231639: I tensorflow/core/common_runtime/bfc_allocator.cc:1089] InUse at 7f8ecc903b00 of size 256 next 150\n",
      "2023-05-07 07:56:08.231643: I tensorflow/core/common_runtime/bfc_allocator.cc:1089] InUse at 7f8ecc903c00 of size 65536 next 151\n",
      "2023-05-07 07:56:08.231647: I tensorflow/core/common_runtime/bfc_allocator.cc:1089] InUse at 7f8ecc913c00 of size 256 next 152\n",
      "2023-05-07 07:56:08.231651: I tensorflow/core/common_runtime/bfc_allocator.cc:1089] InUse at 7f8ecc913d00 of size 7567558656 next 160\n",
      "2023-05-07 07:56:08.231654: I tensorflow/core/common_runtime/bfc_allocator.cc:1089] Free  at 7f908fa10500 of size 934400 next 164\n",
      "2023-05-07 07:56:08.231658: I tensorflow/core/common_runtime/bfc_allocator.cc:1089] InUse at 7f908faf4700 of size 934400 next 165\n",
      "2023-05-07 07:56:08.231662: I tensorflow/core/common_runtime/bfc_allocator.cc:1089] InUse at 7f908fbd8900 of size 934400 next 166\n",
      "2023-05-07 07:56:08.231666: I tensorflow/core/common_runtime/bfc_allocator.cc:1089] InUse at 7f908fcbcb00 of size 934400 next 167\n",
      "2023-05-07 07:56:08.231670: I tensorflow/core/common_runtime/bfc_allocator.cc:1089] InUse at 7f908fda0d00 of size 934400 next 168\n",
      "2023-05-07 07:56:08.231674: I tensorflow/core/common_runtime/bfc_allocator.cc:1089] InUse at 7f908fe84f00 of size 1638400 next 169\n",
      "2023-05-07 07:56:08.231677: I tensorflow/core/common_runtime/bfc_allocator.cc:1089] InUse at 7f9090014f00 of size 1638400 next 170\n",
      "2023-05-07 07:56:08.231681: I tensorflow/core/common_runtime/bfc_allocator.cc:1089] InUse at 7f90901a4f00 of size 1638400 next 171\n",
      "2023-05-07 07:56:08.231685: I tensorflow/core/common_runtime/bfc_allocator.cc:1089] InUse at 7f9090334f00 of size 1638400 next 172\n",
      "2023-05-07 07:56:08.231689: I tensorflow/core/common_runtime/bfc_allocator.cc:1089] Free  at 7f90904c4f00 of size 1052962560 next 153\n",
      "2023-05-07 07:56:08.231693: I tensorflow/core/common_runtime/bfc_allocator.cc:1089] InUse at 7f90cf0f3e00 of size 118243328 next 154\n",
      "2023-05-07 07:56:08.231697: I tensorflow/core/common_runtime/bfc_allocator.cc:1089] InUse at 7f90d61b7e00 of size 118243328 next 155\n",
      "2023-05-07 07:56:08.231701: I tensorflow/core/common_runtime/bfc_allocator.cc:1089] InUse at 7f90dd27be00 of size 256 next 156\n",
      "2023-05-07 07:56:08.231704: I tensorflow/core/common_runtime/bfc_allocator.cc:1089] InUse at 7f90dd27bf00 of size 256 next 157\n",
      "2023-05-07 07:56:08.231708: I tensorflow/core/common_runtime/bfc_allocator.cc:1089] Free  at 7f90dd27c000 of size 4315873536 next 177\n",
      "2023-05-07 07:56:08.231712: I tensorflow/core/common_runtime/bfc_allocator.cc:1089] InUse at 7f91de66c100 of size 7567558656 next 158\n",
      "2023-05-07 07:56:08.231716: I tensorflow/core/common_runtime/bfc_allocator.cc:1089] Free  at 7f93a1768900 of size 5380061440 next 159\n",
      "2023-05-07 07:56:08.231719: I tensorflow/core/common_runtime/bfc_allocator.cc:1089] InUse at 7f94e223c200 of size 4315873536 next 161\n",
      "2023-05-07 07:56:08.231723: I tensorflow/core/common_runtime/bfc_allocator.cc:1089] InUse at 7f95e362c300 of size 4315873536 next 163\n",
      "2023-05-07 07:56:08.231727: I tensorflow/core/common_runtime/bfc_allocator.cc:1089] InUse at 7f96e4a1c400 of size 7567558656 next 178\n",
      "2023-05-07 07:56:08.231731: I tensorflow/core/common_runtime/bfc_allocator.cc:1089] InUse at 7f98a7b18c00 of size 7567558656 next 180\n",
      "2023-05-07 07:56:08.231735: I tensorflow/core/common_runtime/bfc_allocator.cc:1089] InUse at 7f9a6ac15400 of size 7567558656 next 182\n",
      "2023-05-07 07:56:08.231739: I tensorflow/core/common_runtime/bfc_allocator.cc:1089] InUse at 7f9c2dd11c00 of size 7567558656 next 181\n",
      "2023-05-07 07:56:08.231742: I tensorflow/core/common_runtime/bfc_allocator.cc:1089] InUse at 7f9df0e0e400 of size 7567558656 next 173\n",
      "2023-05-07 07:56:08.231746: I tensorflow/core/common_runtime/bfc_allocator.cc:1089] Free  at 7f9fb3f0ac00 of size 1297372160 next 18446744073709551615\n",
      "2023-05-07 07:56:08.231750: I tensorflow/core/common_runtime/bfc_allocator.cc:1094]      Summary of in-use Chunks by size: \n",
      "2023-05-07 07:56:08.231756: I tensorflow/core/common_runtime/bfc_allocator.cc:1097] 92 Chunks of size 256 totalling 23.0KiB\n",
      "2023-05-07 07:56:08.231760: I tensorflow/core/common_runtime/bfc_allocator.cc:1097] 12 Chunks of size 512 totalling 6.0KiB\n",
      "2023-05-07 07:56:08.231764: I tensorflow/core/common_runtime/bfc_allocator.cc:1097] 4 Chunks of size 1024 totalling 4.0KiB\n",
      "2023-05-07 07:56:08.231769: I tensorflow/core/common_runtime/bfc_allocator.cc:1097] 1 Chunks of size 1280 totalling 1.2KiB\n",
      "2023-05-07 07:56:08.231773: I tensorflow/core/common_runtime/bfc_allocator.cc:1097] 3 Chunks of size 1792 totalling 5.2KiB\n",
      "2023-05-07 07:56:08.231777: I tensorflow/core/common_runtime/bfc_allocator.cc:1097] 4 Chunks of size 2048 totalling 8.0KiB\n",
      "2023-05-07 07:56:08.231781: I tensorflow/core/common_runtime/bfc_allocator.cc:1097] 1 Chunks of size 3584 totalling 3.5KiB\n",
      "2023-05-07 07:56:08.231786: I tensorflow/core/common_runtime/bfc_allocator.cc:1097] 3 Chunks of size 4096 totalling 12.0KiB\n",
      "2023-05-07 07:56:08.231790: I tensorflow/core/common_runtime/bfc_allocator.cc:1097] 1 Chunks of size 7424 totalling 7.2KiB\n",
      "2023-05-07 07:56:08.231794: I tensorflow/core/common_runtime/bfc_allocator.cc:1097] 3 Chunks of size 8192 totalling 24.0KiB\n",
      "2023-05-07 07:56:08.231799: I tensorflow/core/common_runtime/bfc_allocator.cc:1097] 1 Chunks of size 14848 totalling 14.5KiB\n",
      "2023-05-07 07:56:08.231803: I tensorflow/core/common_runtime/bfc_allocator.cc:1097] 1 Chunks of size 32768 totalling 32.0KiB\n",
      "2023-05-07 07:56:08.231807: I tensorflow/core/common_runtime/bfc_allocator.cc:1097] 4 Chunks of size 65536 totalling 256.0KiB\n",
      "2023-05-07 07:56:08.231812: I tensorflow/core/common_runtime/bfc_allocator.cc:1097] 3 Chunks of size 131072 totalling 384.0KiB\n",
      "2023-05-07 07:56:08.231816: I tensorflow/core/common_runtime/bfc_allocator.cc:1097] 1 Chunks of size 131328 totalling 128.2KiB\n",
      "2023-05-07 07:56:08.231821: I tensorflow/core/common_runtime/bfc_allocator.cc:1097] 1 Chunks of size 294912 totalling 288.0KiB\n",
      "2023-05-07 07:56:08.231825: I tensorflow/core/common_runtime/bfc_allocator.cc:1097] 3 Chunks of size 589824 totalling 1.69MiB\n",
      "2023-05-07 07:56:08.231829: I tensorflow/core/common_runtime/bfc_allocator.cc:1097] 1 Chunks of size 590080 totalling 576.2KiB\n",
      "2023-05-07 07:56:08.231833: I tensorflow/core/common_runtime/bfc_allocator.cc:1097] 5 Chunks of size 934400 totalling 4.46MiB\n",
      "2023-05-07 07:56:08.231838: I tensorflow/core/common_runtime/bfc_allocator.cc:1097] 3 Chunks of size 1179648 totalling 3.38MiB\n",
      "2023-05-07 07:56:08.231842: I tensorflow/core/common_runtime/bfc_allocator.cc:1097] 1 Chunks of size 1373440 totalling 1.31MiB\n",
      "2023-05-07 07:56:08.231846: I tensorflow/core/common_runtime/bfc_allocator.cc:1097] 4 Chunks of size 1638400 totalling 6.25MiB\n",
      "2023-05-07 07:56:08.231850: I tensorflow/core/common_runtime/bfc_allocator.cc:1097] 3 Chunks of size 3737600 totalling 10.69MiB\n",
      "2023-05-07 07:56:08.231854: I tensorflow/core/common_runtime/bfc_allocator.cc:1097] 1 Chunks of size 3930624 totalling 3.75MiB\n",
      "2023-05-07 07:56:08.231859: I tensorflow/core/common_runtime/bfc_allocator.cc:1097] 4 Chunks of size 6553600 totalling 25.00MiB\n",
      "2023-05-07 07:56:08.231863: I tensorflow/core/common_runtime/bfc_allocator.cc:1097] 3 Chunks of size 118243328 totalling 338.30MiB\n",
      "2023-05-07 07:56:08.231867: I tensorflow/core/common_runtime/bfc_allocator.cc:1097] 2 Chunks of size 4315873536 totalling 8.04GiB\n",
      "2023-05-07 07:56:08.231872: I tensorflow/core/common_runtime/bfc_allocator.cc:1097] 7 Chunks of size 7567558656 totalling 49.33GiB\n",
      "2023-05-07 07:56:08.231876: I tensorflow/core/common_runtime/bfc_allocator.cc:1097] 1 Chunks of size 8631746816 totalling 8.04GiB\n",
      "2023-05-07 07:56:08.231880: I tensorflow/core/common_runtime/bfc_allocator.cc:1101] Sum Total of in-use chunks: 65.80GiB\n",
      "2023-05-07 07:56:08.231884: I tensorflow/core/common_runtime/bfc_allocator.cc:1103] total_region_allocated_bytes_: 82699419648 memory_limit_: 82699419648 available bytes: 0 curr_region_allocation_bytes_: 165398839296\n",
      "2023-05-07 07:56:08.231894: I tensorflow/core/common_runtime/bfc_allocator.cc:1109] Stats: \n",
      "Limit:                     82699419648\n",
      "InUse:                     70652215552\n",
      "MaxInUse:                  70662882560\n",
      "NumAllocs:                         285\n",
      "MaxAllocSize:               8631746816\n",
      "Reserved:                            0\n",
      "PeakReserved:                        0\n",
      "LargestFreeBlock:                    0\n",
      "\n",
      "2023-05-07 07:56:08.231902: W tensorflow/core/common_runtime/bfc_allocator.cc:491] ********************_*____**********______*********************************************************_\n",
      "2023-05-07 07:56:08.231930: W tensorflow/core/framework/op_kernel.cc:1768] RESOURCE_EXHAUSTED: failed to allocate memory\n"
     ]
    },
    {
     "name": "stderr",
     "output_type": "stream",
     "text": [
      "2023-05-07 07:56:09.512779: W tensorflow/core/common_runtime/bfc_allocator.cc:479] Allocator (GPU_0_bfc) ran out of memory trying to allocate 7.05GiB (rounded to 7567558656)requested by op sequential/conv_lstm2d/while/body/_1/sequential/conv_lstm2d/while/convolution_6\n",
      "If the cause is memory fragmentation maybe the environment variable 'TF_GPU_ALLOCATOR=cuda_malloc_async' will improve the situation. \n",
      "Current allocation summary follows.\n",
      "Current allocation summary follows.\n",
      "2023-05-07 07:56:09.512818: I tensorflow/core/common_runtime/bfc_allocator.cc:1033] BFCAllocator dump for GPU_0_bfc\n",
      "2023-05-07 07:56:09.512834: I tensorflow/core/common_runtime/bfc_allocator.cc:1040] Bin (256): \tTotal Chunks: 92, Chunks in use: 92. 23.0KiB allocated for chunks. 23.0KiB in use in bin. 4.3KiB client-requested in use in bin.\n",
      "2023-05-07 07:56:09.512845: I tensorflow/core/common_runtime/bfc_allocator.cc:1040] Bin (512): \tTotal Chunks: 12, Chunks in use: 12. 6.0KiB allocated for chunks. 6.0KiB in use in bin. 6.0KiB client-requested in use in bin.\n",
      "2023-05-07 07:56:09.512858: I tensorflow/core/common_runtime/bfc_allocator.cc:1040] Bin (1024): \tTotal Chunks: 8, Chunks in use: 8. 10.5KiB allocated for chunks. 10.5KiB in use in bin. 10.1KiB client-requested in use in bin.\n",
      "2023-05-07 07:56:09.512873: I tensorflow/core/common_runtime/bfc_allocator.cc:1040] Bin (2048): \tTotal Chunks: 5, Chunks in use: 5. 11.5KiB allocated for chunks. 11.5KiB in use in bin. 10.0KiB client-requested in use in bin.\n",
      "2023-05-07 07:56:09.512884: I tensorflow/core/common_runtime/bfc_allocator.cc:1040] Bin (4096): \tTotal Chunks: 4, Chunks in use: 4. 19.2KiB allocated for chunks. 19.2KiB in use in bin. 16.0KiB client-requested in use in bin.\n",
      "2023-05-07 07:56:09.512895: I tensorflow/core/common_runtime/bfc_allocator.cc:1040] Bin (8192): \tTotal Chunks: 4, Chunks in use: 4. 38.5KiB allocated for chunks. 38.5KiB in use in bin. 32.0KiB client-requested in use in bin.\n",
      "2023-05-07 07:56:09.512904: I tensorflow/core/common_runtime/bfc_allocator.cc:1040] Bin (16384): \tTotal Chunks: 0, Chunks in use: 0. 0B allocated for chunks. 0B in use in bin. 0B client-requested in use in bin.\n",
      "2023-05-07 07:56:09.512915: I tensorflow/core/common_runtime/bfc_allocator.cc:1040] Bin (32768): \tTotal Chunks: 1, Chunks in use: 1. 32.0KiB allocated for chunks. 32.0KiB in use in bin. 32.0KiB client-requested in use in bin.\n",
      "2023-05-07 07:56:09.512926: I tensorflow/core/common_runtime/bfc_allocator.cc:1040] Bin (65536): \tTotal Chunks: 4, Chunks in use: 4. 256.0KiB allocated for chunks. 256.0KiB in use in bin. 256.0KiB client-requested in use in bin.\n",
      "2023-05-07 07:56:09.512937: I tensorflow/core/common_runtime/bfc_allocator.cc:1040] Bin (131072): \tTotal Chunks: 4, Chunks in use: 4. 512.2KiB allocated for chunks. 512.2KiB in use in bin. 512.0KiB client-requested in use in bin.\n",
      "2023-05-07 07:56:09.512948: I tensorflow/core/common_runtime/bfc_allocator.cc:1040] Bin (262144): \tTotal Chunks: 1, Chunks in use: 1. 288.0KiB allocated for chunks. 288.0KiB in use in bin. 288.0KiB client-requested in use in bin.\n",
      "2023-05-07 07:56:09.512959: I tensorflow/core/common_runtime/bfc_allocator.cc:1040] Bin (524288): \tTotal Chunks: 13, Chunks in use: 13. 10.27MiB allocated for chunks. 10.27MiB in use in bin. 10.27MiB client-requested in use in bin.\n",
      "2023-05-07 07:56:09.512970: I tensorflow/core/common_runtime/bfc_allocator.cc:1040] Bin (1048576): \tTotal Chunks: 12, Chunks in use: 12. 17.18MiB allocated for chunks. 17.18MiB in use in bin. 17.00MiB client-requested in use in bin.\n",
      "2023-05-07 07:56:09.512983: I tensorflow/core/common_runtime/bfc_allocator.cc:1040] Bin (2097152): \tTotal Chunks: 4, Chunks in use: 4. 14.44MiB allocated for chunks. 14.44MiB in use in bin. 14.26MiB client-requested in use in bin.\n",
      "2023-05-07 07:56:09.512998: I tensorflow/core/common_runtime/bfc_allocator.cc:1040] Bin (4194304): \tTotal Chunks: 4, Chunks in use: 4. 25.00MiB allocated for chunks. 25.00MiB in use in bin. 25.00MiB client-requested in use in bin.\n",
      "2023-05-07 07:56:09.513010: I tensorflow/core/common_runtime/bfc_allocator.cc:1040] Bin (8388608): \tTotal Chunks: 0, Chunks in use: 0. 0B allocated for chunks. 0B in use in bin. 0B client-requested in use in bin.\n",
      "2023-05-07 07:56:09.513022: I tensorflow/core/common_runtime/bfc_allocator.cc:1040] Bin (16777216): \tTotal Chunks: 0, Chunks in use: 0. 0B allocated for chunks. 0B in use in bin. 0B client-requested in use in bin.\n",
      "2023-05-07 07:56:09.513032: I tensorflow/core/common_runtime/bfc_allocator.cc:1040] Bin (33554432): \tTotal Chunks: 0, Chunks in use: 0. 0B allocated for chunks. 0B in use in bin. 0B client-requested in use in bin.\n",
      "2023-05-07 07:56:09.513046: I tensorflow/core/common_runtime/bfc_allocator.cc:1040] Bin (67108864): \tTotal Chunks: 3, Chunks in use: 3. 338.30MiB allocated for chunks. 338.30MiB in use in bin. 338.30MiB client-requested in use in bin.\n",
      "2023-05-07 07:56:09.513057: I tensorflow/core/common_runtime/bfc_allocator.cc:1040] Bin (134217728): \tTotal Chunks: 0, Chunks in use: 0. 0B allocated for chunks. 0B in use in bin. 0B client-requested in use in bin.\n",
      "2023-05-07 07:56:09.513070: I tensorflow/core/common_runtime/bfc_allocator.cc:1040] Bin (268435456): \tTotal Chunks: 14, Chunks in use: 11. 76.62GiB allocated for chunks. 69.43GiB in use in bin. 69.43GiB client-requested in use in bin.\n",
      "2023-05-07 07:56:09.513081: I tensorflow/core/common_runtime/bfc_allocator.cc:1056] Bin for 7.05GiB was 256.00MiB, Chunk State: \n",
      "2023-05-07 07:56:09.513100: I tensorflow/core/common_runtime/bfc_allocator.cc:1062]   Size: 995.26MiB | Requested Size: 0B | in_use: 0 | bin_num: 20, prev:   Size: 1.56MiB | Requested Size: 1.56MiB | in_use: 1 | bin_num: -1, next:   Size: 112.77MiB | Requested Size: 112.76MiB | in_use: 1 | bin_num: -1\n",
      "2023-05-07 07:56:09.513114: I tensorflow/core/common_runtime/bfc_allocator.cc:1062]   Size: 1.21GiB | Requested Size: 512B | in_use: 0 | bin_num: 20, prev:   Size: 7.05GiB | Requested Size: 7.05GiB | in_use: 1 | bin_num: -1\n",
      "2023-05-07 07:56:09.513130: I tensorflow/core/common_runtime/bfc_allocator.cc:1062]   Size: 5.01GiB | Requested Size: 4.02GiB | in_use: 0 | bin_num: 20, prev:   Size: 7.05GiB | Requested Size: 7.05GiB | in_use: 1 | bin_num: -1, next:   Size: 4.02GiB | Requested Size: 4.02GiB | in_use: 1 | bin_num: -1\n",
      "2023-05-07 07:56:09.513142: I tensorflow/core/common_runtime/bfc_allocator.cc:1069] Next region of size 82699419648\n",
      "2023-05-07 07:56:09.513154: I tensorflow/core/common_runtime/bfc_allocator.cc:1089] InUse at 7f8cc0000000 of size 256 next 1\n",
      "2023-05-07 07:56:09.513165: I tensorflow/core/common_runtime/bfc_allocator.cc:1089] InUse at 7f8cc0000100 of size 1280 next 2\n",
      "2023-05-07 07:56:09.513180: I tensorflow/core/common_runtime/bfc_allocator.cc:1089] InUse at 7f8cc0000600 of size 256 next 3\n",
      "2023-05-07 07:56:09.513188: I tensorflow/core/common_runtime/bfc_allocator.cc:1089] InUse at 7f8cc0000700 of size 256 next 4\n",
      "2023-05-07 07:56:09.513195: I tensorflow/core/common_runtime/bfc_allocator.cc:1089] InUse at 7f8cc0000800 of size 256 next 6\n",
      "2023-05-07 07:56:09.513203: I tensorflow/core/common_runtime/bfc_allocator.cc:1089] InUse at 7f8cc0000900 of size 256 next 7\n",
      "2023-05-07 07:56:09.513210: I tensorflow/core/common_runtime/bfc_allocator.cc:1089] InUse at 7f8cc0000a00 of size 256 next 8\n",
      "2023-05-07 07:56:09.513218: I tensorflow/core/common_runtime/bfc_allocator.cc:1089] InUse at 7f8cc0000b00 of size 512 next 5\n",
      "2023-05-07 07:56:09.513226: I tensorflow/core/common_runtime/bfc_allocator.cc:1089] InUse at 7f8cc0000d00 of size 256 next 12\n",
      "2023-05-07 07:56:09.513234: I tensorflow/core/common_runtime/bfc_allocator.cc:1089] InUse at 7f8cc0000e00 of size 512 next 14\n",
      "2023-05-07 07:56:09.513241: I tensorflow/core/common_runtime/bfc_allocator.cc:1089] InUse at 7f8cc0001000 of size 512 next 16\n",
      "2023-05-07 07:56:09.513249: I tensorflow/core/common_runtime/bfc_allocator.cc:1089] InUse at 7f8cc0001200 of size 512 next 13\n",
      "2023-05-07 07:56:09.513256: I tensorflow/core/common_runtime/bfc_allocator.cc:1089] InUse at 7f8cc0001400 of size 2048 next 15\n",
      "2023-05-07 07:56:09.513264: I tensorflow/core/common_runtime/bfc_allocator.cc:1089] InUse at 7f8cc0001c00 of size 256 next 17\n",
      "2023-05-07 07:56:09.513272: I tensorflow/core/common_runtime/bfc_allocator.cc:1089] InUse at 7f8cc0001d00 of size 256 next 18\n",
      "2023-05-07 07:56:09.513279: I tensorflow/core/common_runtime/bfc_allocator.cc:1089] InUse at 7f8cc0001e00 of size 256 next 21\n",
      "2023-05-07 07:56:09.513287: I tensorflow/core/common_runtime/bfc_allocator.cc:1089] InUse at 7f8cc0001f00 of size 256 next 19\n",
      "2023-05-07 07:56:09.513294: I tensorflow/core/common_runtime/bfc_allocator.cc:1089] InUse at 7f8cc0002000 of size 256 next 26\n",
      "2023-05-07 07:56:09.513302: I tensorflow/core/common_runtime/bfc_allocator.cc:1089] InUse at 7f8cc0002100 of size 256 next 20\n",
      "2023-05-07 07:56:09.513310: I tensorflow/core/common_runtime/bfc_allocator.cc:1089] InUse at 7f8cc0002200 of size 1024 next 22\n",
      "2023-05-07 07:56:09.513322: I tensorflow/core/common_runtime/bfc_allocator.cc:1089] InUse at 7f8cc0002600 of size 256 next 27\n",
      "2023-05-07 07:56:09.513329: I tensorflow/core/common_runtime/bfc_allocator.cc:1089] InUse at 7f8cc0002700 of size 256 next 28\n",
      "2023-05-07 07:56:09.513337: I tensorflow/core/common_runtime/bfc_allocator.cc:1089] InUse at 7f8cc0002800 of size 256 next 31\n",
      "2023-05-07 07:56:09.513344: I tensorflow/core/common_runtime/bfc_allocator.cc:1089] InUse at 7f8cc0002900 of size 256 next 36\n",
      "2023-05-07 07:56:09.513352: I tensorflow/core/common_runtime/bfc_allocator.cc:1089] InUse at 7f8cc0002a00 of size 256 next 35\n",
      "2023-05-07 07:56:09.513359: I tensorflow/core/common_runtime/bfc_allocator.cc:1089] InUse at 7f8cc0002b00 of size 512 next 30\n",
      "2023-05-07 07:56:09.513367: I tensorflow/core/common_runtime/bfc_allocator.cc:1089] InUse at 7f8cc0002d00 of size 256 next 37\n",
      "2023-05-07 07:56:09.513374: I tensorflow/core/common_runtime/bfc_allocator.cc:1089] InUse at 7f8cc0002e00 of size 256 next 38\n",
      "2023-05-07 07:56:09.513381: I tensorflow/core/common_runtime/bfc_allocator.cc:1089] InUse at 7f8cc0002f00 of size 256 next 39\n",
      "2023-05-07 07:56:09.513392: I tensorflow/core/common_runtime/bfc_allocator.cc:1089] InUse at 7f8cc0003000 of size 256 next 42\n",
      "2023-05-07 07:56:09.513404: I tensorflow/core/common_runtime/bfc_allocator.cc:1089] InUse at 7f8cc0003100 of size 256 next 48\n",
      "2023-05-07 07:56:09.513413: I tensorflow/core/common_runtime/bfc_allocator.cc:1089] InUse at 7f8cc0003200 of size 256 next 41\n",
      "2023-05-07 07:56:09.513420: I tensorflow/core/common_runtime/bfc_allocator.cc:1089] InUse at 7f8cc0003300 of size 256 next 47\n",
      "2023-05-07 07:56:09.513428: I tensorflow/core/common_runtime/bfc_allocator.cc:1089] InUse at 7f8cc0003400 of size 256 next 40\n",
      "2023-05-07 07:56:09.513438: I tensorflow/core/common_runtime/bfc_allocator.cc:1089] InUse at 7f8cc0003500 of size 7424 next 43\n",
      "2023-05-07 07:56:09.513447: I tensorflow/core/common_runtime/bfc_allocator.cc:1089] InUse at 7f8cc0005200 of size 256 next 62\n",
      "2023-05-07 07:56:09.513459: I tensorflow/core/common_runtime/bfc_allocator.cc:1089] InUse at 7f8cc0005300 of size 3584 next 50\n",
      "2023-05-07 07:56:09.513464: I tensorflow/core/common_runtime/bfc_allocator.cc:1089] InUse at 7f8cc0006100 of size 1792 next 51\n",
      "2023-05-07 07:56:09.513469: I tensorflow/core/common_runtime/bfc_allocator.cc:1089] InUse at 7f8cc0006800 of size 256 next 46\n",
      "2023-05-07 07:56:09.513475: I tensorflow/core/common_runtime/bfc_allocator.cc:1089] InUse at 7f8cc0006900 of size 256 next 49\n",
      "2023-05-07 07:56:09.513481: I tensorflow/core/common_runtime/bfc_allocator.cc:1089] InUse at 7f8cc0006a00 of size 256 next 52\n",
      "2023-05-07 07:56:09.513485: I tensorflow/core/common_runtime/bfc_allocator.cc:1089] InUse at 7f8cc0006b00 of size 256 next 53\n",
      "2023-05-07 07:56:09.513489: I tensorflow/core/common_runtime/bfc_allocator.cc:1089] InUse at 7f8cc0006c00 of size 256 next 56\n",
      "2023-05-07 07:56:09.513496: I tensorflow/core/common_runtime/bfc_allocator.cc:1089] InUse at 7f8cc0006d00 of size 256 next 57\n",
      "2023-05-07 07:56:09.513501: I tensorflow/core/common_runtime/bfc_allocator.cc:1089] InUse at 7f8cc0006e00 of size 256 next 58\n",
      "2023-05-07 07:56:09.513506: I tensorflow/core/common_runtime/bfc_allocator.cc:1089] InUse at 7f8cc0006f00 of size 256 next 59\n",
      "2023-05-07 07:56:09.513512: I tensorflow/core/common_runtime/bfc_allocator.cc:1089] InUse at 7f8cc0007000 of size 256 next 60\n",
      "2023-05-07 07:56:09.513516: I tensorflow/core/common_runtime/bfc_allocator.cc:1089] InUse at 7f8cc0007100 of size 256 next 61\n",
      "2023-05-07 07:56:09.513520: I tensorflow/core/common_runtime/bfc_allocator.cc:1089] InUse at 7f8cc0007200 of size 256 next 44\n",
      "2023-05-07 07:56:09.513523: I tensorflow/core/common_runtime/bfc_allocator.cc:1089] InUse at 7f8cc0007300 of size 8192 next 45\n",
      "2023-05-07 07:56:09.513527: I tensorflow/core/common_runtime/bfc_allocator.cc:1089] InUse at 7f8cc0009300 of size 512 next 64\n",
      "2023-05-07 07:56:09.513531: I tensorflow/core/common_runtime/bfc_allocator.cc:1089] InUse at 7f8cc0009500 of size 512 next 65\n",
      "2023-05-07 07:56:09.513535: I tensorflow/core/common_runtime/bfc_allocator.cc:1089] InUse at 7f8cc0009700 of size 1024 next 67\n",
      "2023-05-07 07:56:09.513538: I tensorflow/core/common_runtime/bfc_allocator.cc:1089] InUse at 7f8cc0009b00 of size 256 next 68\n",
      "2023-05-07 07:56:09.513543: I tensorflow/core/common_runtime/bfc_allocator.cc:1089] InUse at 7f8cc0009c00 of size 256 next 69\n",
      "2023-05-07 07:56:09.513546: I tensorflow/core/common_runtime/bfc_allocator.cc:1089] InUse at 7f8cc0009d00 of size 512 next 71\n",
      "2023-05-07 07:56:09.513550: I tensorflow/core/common_runtime/bfc_allocator.cc:1089] InUse at 7f8cc0009f00 of size 256 next 72\n",
      "2023-05-07 07:56:09.513554: I tensorflow/core/common_runtime/bfc_allocator.cc:1089] InUse at 7f8cc000a000 of size 256 next 73\n",
      "2023-05-07 07:56:09.513559: I tensorflow/core/common_runtime/bfc_allocator.cc:1089] InUse at 7f8cc000a100 of size 8192 next 74\n",
      "2023-05-07 07:56:09.513565: I tensorflow/core/common_runtime/bfc_allocator.cc:1089] InUse at 7f8cc000c100 of size 4096 next 75\n",
      "2023-05-07 07:56:09.513569: I tensorflow/core/common_runtime/bfc_allocator.cc:1089] InUse at 7f8cc000d100 of size 256 next 76\n",
      "2023-05-07 07:56:09.513573: I tensorflow/core/common_runtime/bfc_allocator.cc:1089] InUse at 7f8cc000d200 of size 1792 next 77\n",
      "2023-05-07 07:56:09.513576: I tensorflow/core/common_runtime/bfc_allocator.cc:1089] InUse at 7f8cc000d900 of size 256 next 78\n",
      "2023-05-07 07:56:09.513580: I tensorflow/core/common_runtime/bfc_allocator.cc:1089] InUse at 7f8cc000da00 of size 2048 next 81\n",
      "2023-05-07 07:56:09.513584: I tensorflow/core/common_runtime/bfc_allocator.cc:1089] InUse at 7f8cc000e200 of size 512 next 82\n",
      "2023-05-07 07:56:09.513590: I tensorflow/core/common_runtime/bfc_allocator.cc:1089] InUse at 7f8cc000e400 of size 512 next 83\n",
      "2023-05-07 07:56:09.513593: I tensorflow/core/common_runtime/bfc_allocator.cc:1089] InUse at 7f8cc000e600 of size 1024 next 86\n",
      "2023-05-07 07:56:09.513597: I tensorflow/core/common_runtime/bfc_allocator.cc:1089] InUse at 7f8cc000ea00 of size 256 next 87\n",
      "2023-05-07 07:56:09.513601: I tensorflow/core/common_runtime/bfc_allocator.cc:1089] InUse at 7f8cc000eb00 of size 256 next 88\n",
      "2023-05-07 07:56:09.513605: I tensorflow/core/common_runtime/bfc_allocator.cc:1089] InUse at 7f8cc000ec00 of size 512 next 91\n",
      "2023-05-07 07:56:09.513609: I tensorflow/core/common_runtime/bfc_allocator.cc:1089] InUse at 7f8cc000ee00 of size 256 next 92\n",
      "2023-05-07 07:56:09.513614: I tensorflow/core/common_runtime/bfc_allocator.cc:1089] InUse at 7f8cc000ef00 of size 256 next 93\n",
      "2023-05-07 07:56:09.513618: I tensorflow/core/common_runtime/bfc_allocator.cc:1089] InUse at 7f8cc000f000 of size 14848 next 29\n",
      "2023-05-07 07:56:09.513622: I tensorflow/core/common_runtime/bfc_allocator.cc:1089] InUse at 7f8cc0012a00 of size 65536 next 32\n",
      "2023-05-07 07:56:09.513626: I tensorflow/core/common_runtime/bfc_allocator.cc:1089] InUse at 7f8cc0022a00 of size 131328 next 33\n",
      "2023-05-07 07:56:09.513631: I tensorflow/core/common_runtime/bfc_allocator.cc:1089] InUse at 7f8cc0042b00 of size 131072 next 34\n",
      "2023-05-07 07:56:09.513637: I tensorflow/core/common_runtime/bfc_allocator.cc:1089] InUse at 7f8cc0062b00 of size 1373440 next 25\n",
      "2023-05-07 07:56:09.513643: I tensorflow/core/common_runtime/bfc_allocator.cc:1089] InUse at 7f8cc01b2000 of size 590080 next 23\n",
      "2023-05-07 07:56:09.513648: I tensorflow/core/common_runtime/bfc_allocator.cc:1089] InUse at 7f8cc0242100 of size 1179648 next 24\n",
      "2023-05-07 07:56:09.513653: I tensorflow/core/common_runtime/bfc_allocator.cc:1089] InUse at 7f8cc0362100 of size 3930624 next 9\n",
      "2023-05-07 07:56:09.513658: I tensorflow/core/common_runtime/bfc_allocator.cc:1089] InUse at 7f8cc0721b00 of size 3737600 next 10\n",
      "2023-05-07 07:56:09.513664: I tensorflow/core/common_runtime/bfc_allocator.cc:1089] InUse at 7f8cc0ab2300 of size 6553600 next 11\n",
      "2023-05-07 07:56:09.513669: I tensorflow/core/common_runtime/bfc_allocator.cc:1089] InUse at 7f8cc10f2300 of size 8631746816 next 54\n",
      "2023-05-07 07:56:09.513675: I tensorflow/core/common_runtime/bfc_allocator.cc:1089] InUse at 7f8ec38d2400 of size 118243328 next 55\n",
      "2023-05-07 07:56:09.513680: I tensorflow/core/common_runtime/bfc_allocator.cc:1089] InUse at 7f8eca996400 of size 6553600 next 63\n",
      "2023-05-07 07:56:09.513685: I tensorflow/core/common_runtime/bfc_allocator.cc:1089] InUse at 7f8ecafd6400 of size 589824 next 66\n",
      "2023-05-07 07:56:09.513690: I tensorflow/core/common_runtime/bfc_allocator.cc:1089] InUse at 7f8ecb066400 of size 65536 next 70\n",
      "2023-05-07 07:56:09.513696: I tensorflow/core/common_runtime/bfc_allocator.cc:1089] InUse at 7f8ecb076400 of size 3737600 next 79\n",
      "2023-05-07 07:56:09.513701: I tensorflow/core/common_runtime/bfc_allocator.cc:1089] InUse at 7f8ecb406c00 of size 6553600 next 80\n",
      "2023-05-07 07:56:09.513707: I tensorflow/core/common_runtime/bfc_allocator.cc:1089] InUse at 7f8ecba46c00 of size 1179648 next 84\n",
      "2023-05-07 07:56:09.513713: I tensorflow/core/common_runtime/bfc_allocator.cc:1089] InUse at 7f8ecbb66c00 of size 589824 next 85\n",
      "2023-05-07 07:56:09.513718: I tensorflow/core/common_runtime/bfc_allocator.cc:1089] InUse at 7f8ecbbf6c00 of size 131072 next 89\n",
      "2023-05-07 07:56:09.513723: I tensorflow/core/common_runtime/bfc_allocator.cc:1089] InUse at 7f8ecbc16c00 of size 65536 next 90\n",
      "2023-05-07 07:56:09.513727: I tensorflow/core/common_runtime/bfc_allocator.cc:1089] InUse at 7f8ecbc26c00 of size 4096 next 94\n",
      "2023-05-07 07:56:09.513731: I tensorflow/core/common_runtime/bfc_allocator.cc:1089] InUse at 7f8ecbc27c00 of size 256 next 95\n",
      "2023-05-07 07:56:09.513736: I tensorflow/core/common_runtime/bfc_allocator.cc:1089] InUse at 7f8ecbc27d00 of size 1792 next 96\n",
      "2023-05-07 07:56:09.513741: I tensorflow/core/common_runtime/bfc_allocator.cc:1089] InUse at 7f8ecbc28400 of size 256 next 97\n",
      "2023-05-07 07:56:09.513746: I tensorflow/core/common_runtime/bfc_allocator.cc:1089] InUse at 7f8ecbc28500 of size 256 next 98\n",
      "2023-05-07 07:56:09.513751: I tensorflow/core/common_runtime/bfc_allocator.cc:1089] InUse at 7f8ecbc28600 of size 256 next 99\n",
      "2023-05-07 07:56:09.513757: I tensorflow/core/common_runtime/bfc_allocator.cc:1089] InUse at 7f8ecbc28700 of size 256 next 100\n",
      "2023-05-07 07:56:09.513761: I tensorflow/core/common_runtime/bfc_allocator.cc:1089] InUse at 7f8ecbc28800 of size 256 next 101\n",
      "2023-05-07 07:56:09.513766: I tensorflow/core/common_runtime/bfc_allocator.cc:1089] InUse at 7f8ecbc28900 of size 256 next 102\n",
      "2023-05-07 07:56:09.513771: I tensorflow/core/common_runtime/bfc_allocator.cc:1089] InUse at 7f8ecbc28a00 of size 256 next 103\n",
      "2023-05-07 07:56:09.513775: I tensorflow/core/common_runtime/bfc_allocator.cc:1089] InUse at 7f8ecbc28b00 of size 2048 next 104\n",
      "2023-05-07 07:56:09.513779: I tensorflow/core/common_runtime/bfc_allocator.cc:1089] InUse at 7f8ecbc29300 of size 32768 next 105\n",
      "2023-05-07 07:56:09.513784: I tensorflow/core/common_runtime/bfc_allocator.cc:1089] InUse at 7f8ecbc31300 of size 294912 next 106\n",
      "2023-05-07 07:56:09.513789: I tensorflow/core/common_runtime/bfc_allocator.cc:1089] InUse at 7f8ecbc79300 of size 934400 next 107\n",
      "2023-05-07 07:56:09.513793: I tensorflow/core/common_runtime/bfc_allocator.cc:1089] InUse at 7f8ecbd5d500 of size 256 next 108\n",
      "2023-05-07 07:56:09.513797: I tensorflow/core/common_runtime/bfc_allocator.cc:1089] InUse at 7f8ecbd5d600 of size 256 next 109\n",
      "2023-05-07 07:56:09.513801: I tensorflow/core/common_runtime/bfc_allocator.cc:1089] InUse at 7f8ecbd5d700 of size 256 next 110\n",
      "2023-05-07 07:56:09.513804: I tensorflow/core/common_runtime/bfc_allocator.cc:1089] InUse at 7f8ecbd5d800 of size 256 next 111\n",
      "2023-05-07 07:56:09.513808: I tensorflow/core/common_runtime/bfc_allocator.cc:1089] InUse at 7f8ecbd5d900 of size 256 next 112\n",
      "2023-05-07 07:56:09.513813: I tensorflow/core/common_runtime/bfc_allocator.cc:1089] InUse at 7f8ecbd5da00 of size 256 next 113\n",
      "2023-05-07 07:56:09.513818: I tensorflow/core/common_runtime/bfc_allocator.cc:1089] InUse at 7f8ecbd5db00 of size 256 next 114\n",
      "2023-05-07 07:56:09.513822: I tensorflow/core/common_runtime/bfc_allocator.cc:1089] InUse at 7f8ecbd5dc00 of size 256 next 115\n",
      "2023-05-07 07:56:09.513825: I tensorflow/core/common_runtime/bfc_allocator.cc:1089] InUse at 7f8ecbd5dd00 of size 256 next 116\n",
      "2023-05-07 07:56:09.513829: I tensorflow/core/common_runtime/bfc_allocator.cc:1089] InUse at 7f8ecbd5de00 of size 256 next 117\n",
      "2023-05-07 07:56:09.513833: I tensorflow/core/common_runtime/bfc_allocator.cc:1089] InUse at 7f8ecbd5df00 of size 256 next 118\n",
      "2023-05-07 07:56:09.513837: I tensorflow/core/common_runtime/bfc_allocator.cc:1089] InUse at 7f8ecbd5e000 of size 256 next 119\n",
      "2023-05-07 07:56:09.513841: I tensorflow/core/common_runtime/bfc_allocator.cc:1089] InUse at 7f8ecbd5e100 of size 256 next 120\n",
      "2023-05-07 07:56:09.513844: I tensorflow/core/common_runtime/bfc_allocator.cc:1089] InUse at 7f8ecbd5e200 of size 256 next 121\n",
      "2023-05-07 07:56:09.513848: I tensorflow/core/common_runtime/bfc_allocator.cc:1089] InUse at 7f8ecbd5e300 of size 256 next 122\n",
      "2023-05-07 07:56:09.513852: I tensorflow/core/common_runtime/bfc_allocator.cc:1089] InUse at 7f8ecbd5e400 of size 256 next 123\n",
      "2023-05-07 07:56:09.513856: I tensorflow/core/common_runtime/bfc_allocator.cc:1089] InUse at 7f8ecbd5e500 of size 256 next 124\n",
      "2023-05-07 07:56:09.513860: I tensorflow/core/common_runtime/bfc_allocator.cc:1089] InUse at 7f8ecbd5e600 of size 256 next 125\n",
      "2023-05-07 07:56:09.513864: I tensorflow/core/common_runtime/bfc_allocator.cc:1089] InUse at 7f8ecbd5e700 of size 256 next 126\n",
      "2023-05-07 07:56:09.513869: I tensorflow/core/common_runtime/bfc_allocator.cc:1089] InUse at 7f8ecbd5e800 of size 256 next 127\n",
      "2023-05-07 07:56:09.513875: I tensorflow/core/common_runtime/bfc_allocator.cc:1089] InUse at 7f8ecbd5e900 of size 256 next 128\n",
      "2023-05-07 07:56:09.513880: I tensorflow/core/common_runtime/bfc_allocator.cc:1089] InUse at 7f8ecbd5ea00 of size 256 next 129\n",
      "2023-05-07 07:56:09.513885: I tensorflow/core/common_runtime/bfc_allocator.cc:1089] InUse at 7f8ecbd5eb00 of size 256 next 130\n",
      "2023-05-07 07:56:09.513891: I tensorflow/core/common_runtime/bfc_allocator.cc:1089] InUse at 7f8ecbd5ec00 of size 256 next 131\n",
      "2023-05-07 07:56:09.513897: I tensorflow/core/common_runtime/bfc_allocator.cc:1089] InUse at 7f8ecbd5ed00 of size 256 next 132\n",
      "2023-05-07 07:56:09.513902: I tensorflow/core/common_runtime/bfc_allocator.cc:1089] InUse at 7f8ecbd5ee00 of size 256 next 133\n",
      "2023-05-07 07:56:09.513907: I tensorflow/core/common_runtime/bfc_allocator.cc:1089] InUse at 7f8ecbd5ef00 of size 256 next 134\n",
      "2023-05-07 07:56:09.513911: I tensorflow/core/common_runtime/bfc_allocator.cc:1089] InUse at 7f8ecbd5f000 of size 256 next 135\n",
      "2023-05-07 07:56:09.513917: I tensorflow/core/common_runtime/bfc_allocator.cc:1089] InUse at 7f8ecbd5f100 of size 256 next 136\n",
      "2023-05-07 07:56:09.513922: I tensorflow/core/common_runtime/bfc_allocator.cc:1089] InUse at 7f8ecbd5f200 of size 256 next 137\n",
      "2023-05-07 07:56:09.513927: I tensorflow/core/common_runtime/bfc_allocator.cc:1089] InUse at 7f8ecbd5f300 of size 2048 next 138\n",
      "2023-05-07 07:56:09.513931: I tensorflow/core/common_runtime/bfc_allocator.cc:1089] InUse at 7f8ecbd5fb00 of size 1024 next 139\n",
      "2023-05-07 07:56:09.513935: I tensorflow/core/common_runtime/bfc_allocator.cc:1089] InUse at 7f8ecbd5ff00 of size 512 next 140\n",
      "2023-05-07 07:56:09.513940: I tensorflow/core/common_runtime/bfc_allocator.cc:1089] InUse at 7f8ecbd60100 of size 6553600 next 141\n",
      "2023-05-07 07:56:09.513946: I tensorflow/core/common_runtime/bfc_allocator.cc:1089] InUse at 7f8ecc3a0100 of size 3737600 next 142\n",
      "2023-05-07 07:56:09.513950: I tensorflow/core/common_runtime/bfc_allocator.cc:1089] InUse at 7f8ecc730900 of size 1179648 next 143\n",
      "2023-05-07 07:56:09.513954: I tensorflow/core/common_runtime/bfc_allocator.cc:1089] InUse at 7f8ecc850900 of size 589824 next 144\n",
      "2023-05-07 07:56:09.513957: I tensorflow/core/common_runtime/bfc_allocator.cc:1089] InUse at 7f8ecc8e0900 of size 8192 next 145\n",
      "2023-05-07 07:56:09.513963: I tensorflow/core/common_runtime/bfc_allocator.cc:1089] InUse at 7f8ecc8e2900 of size 256 next 146\n",
      "2023-05-07 07:56:09.513968: I tensorflow/core/common_runtime/bfc_allocator.cc:1089] InUse at 7f8ecc8e2a00 of size 4096 next 147\n",
      "2023-05-07 07:56:09.513974: I tensorflow/core/common_runtime/bfc_allocator.cc:1089] InUse at 7f8ecc8e3a00 of size 131072 next 148\n",
      "2023-05-07 07:56:09.513979: I tensorflow/core/common_runtime/bfc_allocator.cc:1089] InUse at 7f8ecc903a00 of size 256 next 149\n",
      "2023-05-07 07:56:09.513984: I tensorflow/core/common_runtime/bfc_allocator.cc:1089] InUse at 7f8ecc903b00 of size 256 next 150\n",
      "2023-05-07 07:56:09.513989: I tensorflow/core/common_runtime/bfc_allocator.cc:1089] InUse at 7f8ecc903c00 of size 65536 next 151\n",
      "2023-05-07 07:56:09.513992: I tensorflow/core/common_runtime/bfc_allocator.cc:1089] InUse at 7f8ecc913c00 of size 256 next 152\n",
      "2023-05-07 07:56:09.513996: I tensorflow/core/common_runtime/bfc_allocator.cc:1089] InUse at 7f8ecc913d00 of size 7567558656 next 160\n",
      "2023-05-07 07:56:09.514001: I tensorflow/core/common_runtime/bfc_allocator.cc:1089] InUse at 7f908fa10500 of size 934400 next 164\n",
      "2023-05-07 07:56:09.514006: I tensorflow/core/common_runtime/bfc_allocator.cc:1089] InUse at 7f908faf4700 of size 934400 next 165\n",
      "2023-05-07 07:56:09.514011: I tensorflow/core/common_runtime/bfc_allocator.cc:1089] InUse at 7f908fbd8900 of size 934400 next 166\n",
      "2023-05-07 07:56:09.514016: I tensorflow/core/common_runtime/bfc_allocator.cc:1089] InUse at 7f908fcbcb00 of size 934400 next 167\n",
      "2023-05-07 07:56:09.514021: I tensorflow/core/common_runtime/bfc_allocator.cc:1089] InUse at 7f908fda0d00 of size 934400 next 168\n",
      "2023-05-07 07:56:09.514026: I tensorflow/core/common_runtime/bfc_allocator.cc:1089] InUse at 7f908fe84f00 of size 1638400 next 169\n",
      "2023-05-07 07:56:09.514031: I tensorflow/core/common_runtime/bfc_allocator.cc:1089] InUse at 7f9090014f00 of size 1638400 next 170\n",
      "2023-05-07 07:56:09.514035: I tensorflow/core/common_runtime/bfc_allocator.cc:1089] InUse at 7f90901a4f00 of size 1638400 next 171\n",
      "2023-05-07 07:56:09.514038: I tensorflow/core/common_runtime/bfc_allocator.cc:1089] InUse at 7f9090334f00 of size 1638400 next 172\n",
      "2023-05-07 07:56:09.514042: I tensorflow/core/common_runtime/bfc_allocator.cc:1089] InUse at 7f90904c4f00 of size 934400 next 175\n",
      "2023-05-07 07:56:09.514046: I tensorflow/core/common_runtime/bfc_allocator.cc:1089] InUse at 7f90905a9100 of size 934400 next 176\n",
      "2023-05-07 07:56:09.514050: I tensorflow/core/common_runtime/bfc_allocator.cc:1089] InUse at 7f909068d300 of size 934400 next 174\n",
      "2023-05-07 07:56:09.514055: I tensorflow/core/common_runtime/bfc_allocator.cc:1089] InUse at 7f9090771500 of size 1638400 next 179\n",
      "2023-05-07 07:56:09.514060: I tensorflow/core/common_runtime/bfc_allocator.cc:1089] InUse at 7f9090901500 of size 1638400 next 162\n",
      "2023-05-07 07:56:09.514065: I tensorflow/core/common_runtime/bfc_allocator.cc:1089] InUse at 7f9090a91500 of size 1638400 next 183\n",
      "2023-05-07 07:56:09.514070: I tensorflow/core/common_runtime/bfc_allocator.cc:1089] InUse at 7f9090c21500 of size 1638400 next 184\n",
      "2023-05-07 07:56:09.514076: I tensorflow/core/common_runtime/bfc_allocator.cc:1089] Free  at 7f9090db1500 of size 1043605760 next 153\n",
      "2023-05-07 07:56:09.514081: I tensorflow/core/common_runtime/bfc_allocator.cc:1089] InUse at 7f90cf0f3e00 of size 118243328 next 154\n",
      "2023-05-07 07:56:09.514085: I tensorflow/core/common_runtime/bfc_allocator.cc:1089] InUse at 7f90d61b7e00 of size 118243328 next 155\n",
      "2023-05-07 07:56:09.514089: I tensorflow/core/common_runtime/bfc_allocator.cc:1089] InUse at 7f90dd27be00 of size 256 next 156\n",
      "2023-05-07 07:56:09.514094: I tensorflow/core/common_runtime/bfc_allocator.cc:1089] InUse at 7f90dd27bf00 of size 256 next 157\n",
      "2023-05-07 07:56:09.514099: I tensorflow/core/common_runtime/bfc_allocator.cc:1089] InUse at 7f90dd27c000 of size 4315873536 next 177\n",
      "2023-05-07 07:56:09.514105: I tensorflow/core/common_runtime/bfc_allocator.cc:1089] InUse at 7f91de66c100 of size 7567558656 next 158\n",
      "2023-05-07 07:56:09.514109: I tensorflow/core/common_runtime/bfc_allocator.cc:1089] Free  at 7f93a1768900 of size 5380061440 next 159\n",
      "2023-05-07 07:56:09.514112: I tensorflow/core/common_runtime/bfc_allocator.cc:1089] InUse at 7f94e223c200 of size 4315873536 next 161\n",
      "2023-05-07 07:56:09.514116: I tensorflow/core/common_runtime/bfc_allocator.cc:1089] InUse at 7f95e362c300 of size 4315873536 next 163\n",
      "2023-05-07 07:56:09.514122: I tensorflow/core/common_runtime/bfc_allocator.cc:1089] InUse at 7f96e4a1c400 of size 7567558656 next 178\n",
      "2023-05-07 07:56:09.514127: I tensorflow/core/common_runtime/bfc_allocator.cc:1089] InUse at 7f98a7b18c00 of size 7567558656 next 180\n",
      "2023-05-07 07:56:09.514131: I tensorflow/core/common_runtime/bfc_allocator.cc:1089] InUse at 7f9a6ac15400 of size 7567558656 next 182\n",
      "2023-05-07 07:56:09.514134: I tensorflow/core/common_runtime/bfc_allocator.cc:1089] InUse at 7f9c2dd11c00 of size 7567558656 next 181\n",
      "2023-05-07 07:56:09.514138: I tensorflow/core/common_runtime/bfc_allocator.cc:1089] InUse at 7f9df0e0e400 of size 7567558656 next 173\n",
      "2023-05-07 07:56:09.514142: I tensorflow/core/common_runtime/bfc_allocator.cc:1089] Free  at 7f9fb3f0ac00 of size 1297372160 next 18446744073709551615\n",
      "2023-05-07 07:56:09.514147: I tensorflow/core/common_runtime/bfc_allocator.cc:1094]      Summary of in-use Chunks by size: \n",
      "2023-05-07 07:56:09.514154: I tensorflow/core/common_runtime/bfc_allocator.cc:1097] 92 Chunks of size 256 totalling 23.0KiB\n",
      "2023-05-07 07:56:09.514160: I tensorflow/core/common_runtime/bfc_allocator.cc:1097] 12 Chunks of size 512 totalling 6.0KiB\n",
      "2023-05-07 07:56:09.514164: I tensorflow/core/common_runtime/bfc_allocator.cc:1097] 4 Chunks of size 1024 totalling 4.0KiB\n",
      "2023-05-07 07:56:09.514168: I tensorflow/core/common_runtime/bfc_allocator.cc:1097] 1 Chunks of size 1280 totalling 1.2KiB\n",
      "2023-05-07 07:56:09.514172: I tensorflow/core/common_runtime/bfc_allocator.cc:1097] 3 Chunks of size 1792 totalling 5.2KiB\n",
      "2023-05-07 07:56:09.514177: I tensorflow/core/common_runtime/bfc_allocator.cc:1097] 4 Chunks of size 2048 totalling 8.0KiB\n",
      "2023-05-07 07:56:09.514182: I tensorflow/core/common_runtime/bfc_allocator.cc:1097] 1 Chunks of size 3584 totalling 3.5KiB\n",
      "2023-05-07 07:56:09.514187: I tensorflow/core/common_runtime/bfc_allocator.cc:1097] 3 Chunks of size 4096 totalling 12.0KiB\n",
      "2023-05-07 07:56:09.514192: I tensorflow/core/common_runtime/bfc_allocator.cc:1097] 1 Chunks of size 7424 totalling 7.2KiB\n",
      "2023-05-07 07:56:09.514198: I tensorflow/core/common_runtime/bfc_allocator.cc:1097] 3 Chunks of size 8192 totalling 24.0KiB\n",
      "2023-05-07 07:56:09.514204: I tensorflow/core/common_runtime/bfc_allocator.cc:1097] 1 Chunks of size 14848 totalling 14.5KiB\n",
      "2023-05-07 07:56:09.514210: I tensorflow/core/common_runtime/bfc_allocator.cc:1097] 1 Chunks of size 32768 totalling 32.0KiB\n",
      "2023-05-07 07:56:09.514216: I tensorflow/core/common_runtime/bfc_allocator.cc:1097] 4 Chunks of size 65536 totalling 256.0KiB\n",
      "2023-05-07 07:56:09.514222: I tensorflow/core/common_runtime/bfc_allocator.cc:1097] 3 Chunks of size 131072 totalling 384.0KiB\n",
      "2023-05-07 07:56:09.514228: I tensorflow/core/common_runtime/bfc_allocator.cc:1097] 1 Chunks of size 131328 totalling 128.2KiB\n",
      "2023-05-07 07:56:09.514233: I tensorflow/core/common_runtime/bfc_allocator.cc:1097] 1 Chunks of size 294912 totalling 288.0KiB\n",
      "2023-05-07 07:56:09.514239: I tensorflow/core/common_runtime/bfc_allocator.cc:1097] 3 Chunks of size 589824 totalling 1.69MiB\n",
      "2023-05-07 07:56:09.514248: I tensorflow/core/common_runtime/bfc_allocator.cc:1097] 1 Chunks of size 590080 totalling 576.2KiB\n",
      "2023-05-07 07:56:09.514253: I tensorflow/core/common_runtime/bfc_allocator.cc:1097] 9 Chunks of size 934400 totalling 8.02MiB\n",
      "2023-05-07 07:56:09.514259: I tensorflow/core/common_runtime/bfc_allocator.cc:1097] 3 Chunks of size 1179648 totalling 3.38MiB\n",
      "2023-05-07 07:56:09.514265: I tensorflow/core/common_runtime/bfc_allocator.cc:1097] 1 Chunks of size 1373440 totalling 1.31MiB\n",
      "2023-05-07 07:56:09.514271: I tensorflow/core/common_runtime/bfc_allocator.cc:1097] 8 Chunks of size 1638400 totalling 12.50MiB\n",
      "2023-05-07 07:56:09.514275: I tensorflow/core/common_runtime/bfc_allocator.cc:1097] 3 Chunks of size 3737600 totalling 10.69MiB\n",
      "2023-05-07 07:56:09.514280: I tensorflow/core/common_runtime/bfc_allocator.cc:1097] 1 Chunks of size 3930624 totalling 3.75MiB\n",
      "2023-05-07 07:56:09.514289: I tensorflow/core/common_runtime/bfc_allocator.cc:1097] 4 Chunks of size 6553600 totalling 25.00MiB\n",
      "2023-05-07 07:56:09.514296: I tensorflow/core/common_runtime/bfc_allocator.cc:1097] 3 Chunks of size 118243328 totalling 338.30MiB\n",
      "2023-05-07 07:56:09.514303: I tensorflow/core/common_runtime/bfc_allocator.cc:1097] 3 Chunks of size 4315873536 totalling 12.06GiB\n",
      "2023-05-07 07:56:09.514311: I tensorflow/core/common_runtime/bfc_allocator.cc:1097] 7 Chunks of size 7567558656 totalling 49.33GiB\n",
      "2023-05-07 07:56:09.514315: I tensorflow/core/common_runtime/bfc_allocator.cc:1097] 1 Chunks of size 8631746816 totalling 8.04GiB\n",
      "2023-05-07 07:56:09.514320: I tensorflow/core/common_runtime/bfc_allocator.cc:1101] Sum Total of in-use chunks: 69.83GiB\n",
      "2023-05-07 07:56:09.514325: I tensorflow/core/common_runtime/bfc_allocator.cc:1103] total_region_allocated_bytes_: 82699419648 memory_limit_: 82699419648 available bytes: 0 curr_region_allocation_bytes_: 165398839296\n",
      "2023-05-07 07:56:09.514332: I tensorflow/core/common_runtime/bfc_allocator.cc:1109] Stats: \n",
      "Limit:                     82699419648\n",
      "InUse:                     74978380288\n",
      "MaxInUse:                  74978380288\n",
      "NumAllocs:                         294\n",
      "MaxAllocSize:               8631746816\n",
      "Reserved:                            0\n",
      "PeakReserved:                        0\n",
      "LargestFreeBlock:                    0\n",
      "\n",
      "2023-05-07 07:56:09.514354: W tensorflow/core/common_runtime/bfc_allocator.cc:491] ********************_***************______*********************************************************_\n",
      "2023-05-07 07:56:09.514379: W tensorflow/core/framework/op_kernel.cc:1780] OP_REQUIRES failed at conv_ops.cc:686 : RESOURCE_EXHAUSTED: OOM when allocating tensor with shape[12,128,1253,983] and type float on /job:localhost/replica:0/task:0/device:GPU:0 by allocator GPU_0_bfc\n"
     ]
    },
    {
     "name": "stderr",
     "output_type": "stream",
     "text": [
      "2023-05-07 07:56:18.232396: W tensorflow/core/common_runtime/bfc_allocator.cc:479] Allocator (GPU_0_bfc) ran out of memory trying to allocate 7.05GiB (rounded to 7567558656)requested by op sequential/conv_lstm2d/while/body/_1/sequential/conv_lstm2d/while/convolution\n",
      "If the cause is memory fragmentation maybe the environment variable 'TF_GPU_ALLOCATOR=cuda_malloc_async' will improve the situation. \n",
      "Current allocation summary follows.\n",
      "Current allocation summary follows.\n",
      "2023-05-07 07:56:18.232442: I tensorflow/core/common_runtime/bfc_allocator.cc:1033] BFCAllocator dump for GPU_0_bfc\n",
      "2023-05-07 07:56:18.232456: I tensorflow/core/common_runtime/bfc_allocator.cc:1040] Bin (256): \tTotal Chunks: 92, Chunks in use: 92. 23.0KiB allocated for chunks. 23.0KiB in use in bin. 4.3KiB client-requested in use in bin.\n",
      "2023-05-07 07:56:18.232466: I tensorflow/core/common_runtime/bfc_allocator.cc:1040] Bin (512): \tTotal Chunks: 12, Chunks in use: 12. 6.0KiB allocated for chunks. 6.0KiB in use in bin. 6.0KiB client-requested in use in bin.\n",
      "2023-05-07 07:56:18.232477: I tensorflow/core/common_runtime/bfc_allocator.cc:1040] Bin (1024): \tTotal Chunks: 8, Chunks in use: 8. 10.5KiB allocated for chunks. 10.5KiB in use in bin. 10.1KiB client-requested in use in bin.\n",
      "2023-05-07 07:56:18.232488: I tensorflow/core/common_runtime/bfc_allocator.cc:1040] Bin (2048): \tTotal Chunks: 5, Chunks in use: 5. 11.5KiB allocated for chunks. 11.5KiB in use in bin. 10.0KiB client-requested in use in bin.\n",
      "2023-05-07 07:56:18.232499: I tensorflow/core/common_runtime/bfc_allocator.cc:1040] Bin (4096): \tTotal Chunks: 4, Chunks in use: 4. 19.2KiB allocated for chunks. 19.2KiB in use in bin. 16.0KiB client-requested in use in bin.\n",
      "2023-05-07 07:56:18.232509: I tensorflow/core/common_runtime/bfc_allocator.cc:1040] Bin (8192): \tTotal Chunks: 4, Chunks in use: 4. 38.5KiB allocated for chunks. 38.5KiB in use in bin. 32.0KiB client-requested in use in bin.\n",
      "2023-05-07 07:56:18.232519: I tensorflow/core/common_runtime/bfc_allocator.cc:1040] Bin (16384): \tTotal Chunks: 0, Chunks in use: 0. 0B allocated for chunks. 0B in use in bin. 0B client-requested in use in bin.\n",
      "2023-05-07 07:56:18.232529: I tensorflow/core/common_runtime/bfc_allocator.cc:1040] Bin (32768): \tTotal Chunks: 1, Chunks in use: 1. 32.0KiB allocated for chunks. 32.0KiB in use in bin. 32.0KiB client-requested in use in bin.\n",
      "2023-05-07 07:56:18.232541: I tensorflow/core/common_runtime/bfc_allocator.cc:1040] Bin (65536): \tTotal Chunks: 4, Chunks in use: 4. 256.0KiB allocated for chunks. 256.0KiB in use in bin. 256.0KiB client-requested in use in bin.\n",
      "2023-05-07 07:56:18.232551: I tensorflow/core/common_runtime/bfc_allocator.cc:1040] Bin (131072): \tTotal Chunks: 4, Chunks in use: 4. 512.2KiB allocated for chunks. 512.2KiB in use in bin. 512.0KiB client-requested in use in bin.\n",
      "2023-05-07 07:56:18.232562: I tensorflow/core/common_runtime/bfc_allocator.cc:1040] Bin (262144): \tTotal Chunks: 1, Chunks in use: 1. 288.0KiB allocated for chunks. 288.0KiB in use in bin. 288.0KiB client-requested in use in bin.\n",
      "2023-05-07 07:56:18.232573: I tensorflow/core/common_runtime/bfc_allocator.cc:1040] Bin (524288): \tTotal Chunks: 13, Chunks in use: 13. 10.27MiB allocated for chunks. 10.27MiB in use in bin. 10.27MiB client-requested in use in bin.\n",
      "2023-05-07 07:56:18.232584: I tensorflow/core/common_runtime/bfc_allocator.cc:1040] Bin (1048576): \tTotal Chunks: 12, Chunks in use: 12. 17.18MiB allocated for chunks. 17.18MiB in use in bin. 17.00MiB client-requested in use in bin.\n",
      "2023-05-07 07:56:18.232595: I tensorflow/core/common_runtime/bfc_allocator.cc:1040] Bin (2097152): \tTotal Chunks: 4, Chunks in use: 4. 14.44MiB allocated for chunks. 14.44MiB in use in bin. 14.26MiB client-requested in use in bin.\n",
      "2023-05-07 07:56:18.232605: I tensorflow/core/common_runtime/bfc_allocator.cc:1040] Bin (4194304): \tTotal Chunks: 4, Chunks in use: 4. 25.00MiB allocated for chunks. 25.00MiB in use in bin. 25.00MiB client-requested in use in bin.\n",
      "2023-05-07 07:56:18.232615: I tensorflow/core/common_runtime/bfc_allocator.cc:1040] Bin (8388608): \tTotal Chunks: 0, Chunks in use: 0. 0B allocated for chunks. 0B in use in bin. 0B client-requested in use in bin.\n",
      "2023-05-07 07:56:18.232624: I tensorflow/core/common_runtime/bfc_allocator.cc:1040] Bin (16777216): \tTotal Chunks: 0, Chunks in use: 0. 0B allocated for chunks. 0B in use in bin. 0B client-requested in use in bin.\n",
      "2023-05-07 07:56:18.232632: I tensorflow/core/common_runtime/bfc_allocator.cc:1040] Bin (33554432): \tTotal Chunks: 0, Chunks in use: 0. 0B allocated for chunks. 0B in use in bin. 0B client-requested in use in bin.\n",
      "2023-05-07 07:56:18.232644: I tensorflow/core/common_runtime/bfc_allocator.cc:1040] Bin (67108864): \tTotal Chunks: 3, Chunks in use: 3. 338.30MiB allocated for chunks. 338.30MiB in use in bin. 338.30MiB client-requested in use in bin.\n",
      "2023-05-07 07:56:18.232653: I tensorflow/core/common_runtime/bfc_allocator.cc:1040] Bin (134217728): \tTotal Chunks: 0, Chunks in use: 0. 0B allocated for chunks. 0B in use in bin. 0B client-requested in use in bin.\n",
      "2023-05-07 07:56:18.232663: I tensorflow/core/common_runtime/bfc_allocator.cc:1040] Bin (268435456): \tTotal Chunks: 14, Chunks in use: 11. 76.62GiB allocated for chunks. 69.43GiB in use in bin. 69.43GiB client-requested in use in bin.\n",
      "2023-05-07 07:56:18.232673: I tensorflow/core/common_runtime/bfc_allocator.cc:1056] Bin for 7.05GiB was 256.00MiB, Chunk State: \n",
      "2023-05-07 07:56:18.232697: I tensorflow/core/common_runtime/bfc_allocator.cc:1062]   Size: 995.26MiB | Requested Size: 0B | in_use: 0 | bin_num: 20, prev:   Size: 1.56MiB | Requested Size: 1.56MiB | in_use: 1 | bin_num: -1, next:   Size: 112.77MiB | Requested Size: 112.76MiB | in_use: 1 | bin_num: -1\n",
      "2023-05-07 07:56:18.232708: I tensorflow/core/common_runtime/bfc_allocator.cc:1062]   Size: 1.21GiB | Requested Size: 512B | in_use: 0 | bin_num: 20, prev:   Size: 7.05GiB | Requested Size: 7.05GiB | in_use: 1 | bin_num: -1\n",
      "2023-05-07 07:56:18.232721: I tensorflow/core/common_runtime/bfc_allocator.cc:1062]   Size: 5.01GiB | Requested Size: 4.02GiB | in_use: 0 | bin_num: 20, prev:   Size: 7.05GiB | Requested Size: 7.05GiB | in_use: 1 | bin_num: -1, next:   Size: 4.02GiB | Requested Size: 4.02GiB | in_use: 1 | bin_num: -1\n",
      "2023-05-07 07:56:18.232729: I tensorflow/core/common_runtime/bfc_allocator.cc:1069] Next region of size 82699419648\n",
      "2023-05-07 07:56:18.232738: I tensorflow/core/common_runtime/bfc_allocator.cc:1089] InUse at 7f8cc0000000 of size 256 next 1\n",
      "2023-05-07 07:56:18.232746: I tensorflow/core/common_runtime/bfc_allocator.cc:1089] InUse at 7f8cc0000100 of size 1280 next 2\n",
      "2023-05-07 07:56:18.232754: I tensorflow/core/common_runtime/bfc_allocator.cc:1089] InUse at 7f8cc0000600 of size 256 next 3\n",
      "2023-05-07 07:56:18.232765: I tensorflow/core/common_runtime/bfc_allocator.cc:1089] InUse at 7f8cc0000700 of size 256 next 4\n",
      "2023-05-07 07:56:18.232775: I tensorflow/core/common_runtime/bfc_allocator.cc:1089] InUse at 7f8cc0000800 of size 256 next 6\n",
      "2023-05-07 07:56:18.232783: I tensorflow/core/common_runtime/bfc_allocator.cc:1089] InUse at 7f8cc0000900 of size 256 next 7\n",
      "2023-05-07 07:56:18.232793: I tensorflow/core/common_runtime/bfc_allocator.cc:1089] InUse at 7f8cc0000a00 of size 256 next 8\n",
      "2023-05-07 07:56:18.232801: I tensorflow/core/common_runtime/bfc_allocator.cc:1089] InUse at 7f8cc0000b00 of size 512 next 5\n",
      "2023-05-07 07:56:18.232809: I tensorflow/core/common_runtime/bfc_allocator.cc:1089] InUse at 7f8cc0000d00 of size 256 next 12\n",
      "2023-05-07 07:56:18.232816: I tensorflow/core/common_runtime/bfc_allocator.cc:1089] InUse at 7f8cc0000e00 of size 512 next 14\n",
      "2023-05-07 07:56:18.232824: I tensorflow/core/common_runtime/bfc_allocator.cc:1089] InUse at 7f8cc0001000 of size 512 next 16\n",
      "2023-05-07 07:56:18.232831: I tensorflow/core/common_runtime/bfc_allocator.cc:1089] InUse at 7f8cc0001200 of size 512 next 13\n",
      "2023-05-07 07:56:18.232839: I tensorflow/core/common_runtime/bfc_allocator.cc:1089] InUse at 7f8cc0001400 of size 2048 next 15\n",
      "2023-05-07 07:56:18.232846: I tensorflow/core/common_runtime/bfc_allocator.cc:1089] InUse at 7f8cc0001c00 of size 256 next 17\n",
      "2023-05-07 07:56:18.232856: I tensorflow/core/common_runtime/bfc_allocator.cc:1089] InUse at 7f8cc0001d00 of size 256 next 18\n",
      "2023-05-07 07:56:18.232863: I tensorflow/core/common_runtime/bfc_allocator.cc:1089] InUse at 7f8cc0001e00 of size 256 next 21\n",
      "2023-05-07 07:56:18.232873: I tensorflow/core/common_runtime/bfc_allocator.cc:1089] InUse at 7f8cc0001f00 of size 256 next 19\n",
      "2023-05-07 07:56:18.232880: I tensorflow/core/common_runtime/bfc_allocator.cc:1089] InUse at 7f8cc0002000 of size 256 next 26\n",
      "2023-05-07 07:56:18.232888: I tensorflow/core/common_runtime/bfc_allocator.cc:1089] InUse at 7f8cc0002100 of size 256 next 20\n",
      "2023-05-07 07:56:18.232897: I tensorflow/core/common_runtime/bfc_allocator.cc:1089] InUse at 7f8cc0002200 of size 1024 next 22\n",
      "2023-05-07 07:56:18.232907: I tensorflow/core/common_runtime/bfc_allocator.cc:1089] InUse at 7f8cc0002600 of size 256 next 27\n",
      "2023-05-07 07:56:18.232915: I tensorflow/core/common_runtime/bfc_allocator.cc:1089] InUse at 7f8cc0002700 of size 256 next 28\n",
      "2023-05-07 07:56:18.232922: I tensorflow/core/common_runtime/bfc_allocator.cc:1089] InUse at 7f8cc0002800 of size 256 next 31\n",
      "2023-05-07 07:56:18.232929: I tensorflow/core/common_runtime/bfc_allocator.cc:1089] InUse at 7f8cc0002900 of size 256 next 36\n",
      "2023-05-07 07:56:18.232937: I tensorflow/core/common_runtime/bfc_allocator.cc:1089] InUse at 7f8cc0002a00 of size 256 next 35\n",
      "2023-05-07 07:56:18.232947: I tensorflow/core/common_runtime/bfc_allocator.cc:1089] InUse at 7f8cc0002b00 of size 512 next 30\n",
      "2023-05-07 07:56:18.232954: I tensorflow/core/common_runtime/bfc_allocator.cc:1089] InUse at 7f8cc0002d00 of size 256 next 37\n",
      "2023-05-07 07:56:18.232963: I tensorflow/core/common_runtime/bfc_allocator.cc:1089] InUse at 7f8cc0002e00 of size 256 next 38\n",
      "2023-05-07 07:56:18.232971: I tensorflow/core/common_runtime/bfc_allocator.cc:1089] InUse at 7f8cc0002f00 of size 256 next 39\n",
      "2023-05-07 07:56:18.232978: I tensorflow/core/common_runtime/bfc_allocator.cc:1089] InUse at 7f8cc0003000 of size 256 next 42\n",
      "2023-05-07 07:56:18.232986: I tensorflow/core/common_runtime/bfc_allocator.cc:1089] InUse at 7f8cc0003100 of size 256 next 48\n",
      "2023-05-07 07:56:18.232993: I tensorflow/core/common_runtime/bfc_allocator.cc:1089] InUse at 7f8cc0003200 of size 256 next 41\n",
      "2023-05-07 07:56:18.233001: I tensorflow/core/common_runtime/bfc_allocator.cc:1089] InUse at 7f8cc0003300 of size 256 next 47\n",
      "2023-05-07 07:56:18.233008: I tensorflow/core/common_runtime/bfc_allocator.cc:1089] InUse at 7f8cc0003400 of size 256 next 40\n",
      "2023-05-07 07:56:18.233016: I tensorflow/core/common_runtime/bfc_allocator.cc:1089] InUse at 7f8cc0003500 of size 7424 next 43\n",
      "2023-05-07 07:56:18.233023: I tensorflow/core/common_runtime/bfc_allocator.cc:1089] InUse at 7f8cc0005200 of size 256 next 62\n",
      "2023-05-07 07:56:18.233027: I tensorflow/core/common_runtime/bfc_allocator.cc:1089] InUse at 7f8cc0005300 of size 3584 next 50\n",
      "2023-05-07 07:56:18.233031: I tensorflow/core/common_runtime/bfc_allocator.cc:1089] InUse at 7f8cc0006100 of size 1792 next 51\n",
      "2023-05-07 07:56:18.233035: I tensorflow/core/common_runtime/bfc_allocator.cc:1089] InUse at 7f8cc0006800 of size 256 next 46\n",
      "2023-05-07 07:56:18.233039: I tensorflow/core/common_runtime/bfc_allocator.cc:1089] InUse at 7f8cc0006900 of size 256 next 49\n",
      "2023-05-07 07:56:18.233043: I tensorflow/core/common_runtime/bfc_allocator.cc:1089] InUse at 7f8cc0006a00 of size 256 next 52\n",
      "2023-05-07 07:56:18.233047: I tensorflow/core/common_runtime/bfc_allocator.cc:1089] InUse at 7f8cc0006b00 of size 256 next 53\n",
      "2023-05-07 07:56:18.233050: I tensorflow/core/common_runtime/bfc_allocator.cc:1089] InUse at 7f8cc0006c00 of size 256 next 56\n",
      "2023-05-07 07:56:18.233054: I tensorflow/core/common_runtime/bfc_allocator.cc:1089] InUse at 7f8cc0006d00 of size 256 next 57\n",
      "2023-05-07 07:56:18.233058: I tensorflow/core/common_runtime/bfc_allocator.cc:1089] InUse at 7f8cc0006e00 of size 256 next 58\n",
      "2023-05-07 07:56:18.233062: I tensorflow/core/common_runtime/bfc_allocator.cc:1089] InUse at 7f8cc0006f00 of size 256 next 59\n",
      "2023-05-07 07:56:18.233065: I tensorflow/core/common_runtime/bfc_allocator.cc:1089] InUse at 7f8cc0007000 of size 256 next 60\n",
      "2023-05-07 07:56:18.233069: I tensorflow/core/common_runtime/bfc_allocator.cc:1089] InUse at 7f8cc0007100 of size 256 next 61\n",
      "2023-05-07 07:56:18.233073: I tensorflow/core/common_runtime/bfc_allocator.cc:1089] InUse at 7f8cc0007200 of size 256 next 44\n",
      "2023-05-07 07:56:18.233077: I tensorflow/core/common_runtime/bfc_allocator.cc:1089] InUse at 7f8cc0007300 of size 8192 next 45\n",
      "2023-05-07 07:56:18.233081: I tensorflow/core/common_runtime/bfc_allocator.cc:1089] InUse at 7f8cc0009300 of size 512 next 64\n",
      "2023-05-07 07:56:18.233084: I tensorflow/core/common_runtime/bfc_allocator.cc:1089] InUse at 7f8cc0009500 of size 512 next 65\n",
      "2023-05-07 07:56:18.233088: I tensorflow/core/common_runtime/bfc_allocator.cc:1089] InUse at 7f8cc0009700 of size 1024 next 67\n",
      "2023-05-07 07:56:18.233092: I tensorflow/core/common_runtime/bfc_allocator.cc:1089] InUse at 7f8cc0009b00 of size 256 next 68\n",
      "2023-05-07 07:56:18.233096: I tensorflow/core/common_runtime/bfc_allocator.cc:1089] InUse at 7f8cc0009c00 of size 256 next 69\n",
      "2023-05-07 07:56:18.233099: I tensorflow/core/common_runtime/bfc_allocator.cc:1089] InUse at 7f8cc0009d00 of size 512 next 71\n",
      "2023-05-07 07:56:18.233103: I tensorflow/core/common_runtime/bfc_allocator.cc:1089] InUse at 7f8cc0009f00 of size 256 next 72\n",
      "2023-05-07 07:56:18.233107: I tensorflow/core/common_runtime/bfc_allocator.cc:1089] InUse at 7f8cc000a000 of size 256 next 73\n",
      "2023-05-07 07:56:18.233111: I tensorflow/core/common_runtime/bfc_allocator.cc:1089] InUse at 7f8cc000a100 of size 8192 next 74\n",
      "2023-05-07 07:56:18.233114: I tensorflow/core/common_runtime/bfc_allocator.cc:1089] InUse at 7f8cc000c100 of size 4096 next 75\n",
      "2023-05-07 07:56:18.233118: I tensorflow/core/common_runtime/bfc_allocator.cc:1089] InUse at 7f8cc000d100 of size 256 next 76\n",
      "2023-05-07 07:56:18.233122: I tensorflow/core/common_runtime/bfc_allocator.cc:1089] InUse at 7f8cc000d200 of size 1792 next 77\n",
      "2023-05-07 07:56:18.233126: I tensorflow/core/common_runtime/bfc_allocator.cc:1089] InUse at 7f8cc000d900 of size 256 next 78\n",
      "2023-05-07 07:56:18.233130: I tensorflow/core/common_runtime/bfc_allocator.cc:1089] InUse at 7f8cc000da00 of size 2048 next 81\n",
      "2023-05-07 07:56:18.233133: I tensorflow/core/common_runtime/bfc_allocator.cc:1089] InUse at 7f8cc000e200 of size 512 next 82\n",
      "2023-05-07 07:56:18.233137: I tensorflow/core/common_runtime/bfc_allocator.cc:1089] InUse at 7f8cc000e400 of size 512 next 83\n",
      "2023-05-07 07:56:18.233141: I tensorflow/core/common_runtime/bfc_allocator.cc:1089] InUse at 7f8cc000e600 of size 1024 next 86\n",
      "2023-05-07 07:56:18.233145: I tensorflow/core/common_runtime/bfc_allocator.cc:1089] InUse at 7f8cc000ea00 of size 256 next 87\n",
      "2023-05-07 07:56:18.233148: I tensorflow/core/common_runtime/bfc_allocator.cc:1089] InUse at 7f8cc000eb00 of size 256 next 88\n",
      "2023-05-07 07:56:18.233152: I tensorflow/core/common_runtime/bfc_allocator.cc:1089] InUse at 7f8cc000ec00 of size 512 next 91\n",
      "2023-05-07 07:56:18.233156: I tensorflow/core/common_runtime/bfc_allocator.cc:1089] InUse at 7f8cc000ee00 of size 256 next 92\n",
      "2023-05-07 07:56:18.233159: I tensorflow/core/common_runtime/bfc_allocator.cc:1089] InUse at 7f8cc000ef00 of size 256 next 93\n",
      "2023-05-07 07:56:18.233163: I tensorflow/core/common_runtime/bfc_allocator.cc:1089] InUse at 7f8cc000f000 of size 14848 next 29\n",
      "2023-05-07 07:56:18.233167: I tensorflow/core/common_runtime/bfc_allocator.cc:1089] InUse at 7f8cc0012a00 of size 65536 next 32\n",
      "2023-05-07 07:56:18.233171: I tensorflow/core/common_runtime/bfc_allocator.cc:1089] InUse at 7f8cc0022a00 of size 131328 next 33\n",
      "2023-05-07 07:56:18.233175: I tensorflow/core/common_runtime/bfc_allocator.cc:1089] InUse at 7f8cc0042b00 of size 131072 next 34\n",
      "2023-05-07 07:56:18.233179: I tensorflow/core/common_runtime/bfc_allocator.cc:1089] InUse at 7f8cc0062b00 of size 1373440 next 25\n",
      "2023-05-07 07:56:18.233183: I tensorflow/core/common_runtime/bfc_allocator.cc:1089] InUse at 7f8cc01b2000 of size 590080 next 23\n",
      "2023-05-07 07:56:18.233187: I tensorflow/core/common_runtime/bfc_allocator.cc:1089] InUse at 7f8cc0242100 of size 1179648 next 24\n",
      "2023-05-07 07:56:18.233191: I tensorflow/core/common_runtime/bfc_allocator.cc:1089] InUse at 7f8cc0362100 of size 3930624 next 9\n",
      "2023-05-07 07:56:18.233195: I tensorflow/core/common_runtime/bfc_allocator.cc:1089] InUse at 7f8cc0721b00 of size 3737600 next 10\n",
      "2023-05-07 07:56:18.233199: I tensorflow/core/common_runtime/bfc_allocator.cc:1089] InUse at 7f8cc0ab2300 of size 6553600 next 11\n",
      "2023-05-07 07:56:18.233202: I tensorflow/core/common_runtime/bfc_allocator.cc:1089] InUse at 7f8cc10f2300 of size 8631746816 next 54\n",
      "2023-05-07 07:56:18.233206: I tensorflow/core/common_runtime/bfc_allocator.cc:1089] InUse at 7f8ec38d2400 of size 118243328 next 55\n",
      "2023-05-07 07:56:18.233210: I tensorflow/core/common_runtime/bfc_allocator.cc:1089] InUse at 7f8eca996400 of size 6553600 next 63\n",
      "2023-05-07 07:56:18.233214: I tensorflow/core/common_runtime/bfc_allocator.cc:1089] InUse at 7f8ecafd6400 of size 589824 next 66\n",
      "2023-05-07 07:56:18.233218: I tensorflow/core/common_runtime/bfc_allocator.cc:1089] InUse at 7f8ecb066400 of size 65536 next 70\n",
      "2023-05-07 07:56:18.233222: I tensorflow/core/common_runtime/bfc_allocator.cc:1089] InUse at 7f8ecb076400 of size 3737600 next 79\n",
      "2023-05-07 07:56:18.233226: I tensorflow/core/common_runtime/bfc_allocator.cc:1089] InUse at 7f8ecb406c00 of size 6553600 next 80\n",
      "2023-05-07 07:56:18.233229: I tensorflow/core/common_runtime/bfc_allocator.cc:1089] InUse at 7f8ecba46c00 of size 1179648 next 84\n",
      "2023-05-07 07:56:18.233233: I tensorflow/core/common_runtime/bfc_allocator.cc:1089] InUse at 7f8ecbb66c00 of size 589824 next 85\n",
      "2023-05-07 07:56:18.233237: I tensorflow/core/common_runtime/bfc_allocator.cc:1089] InUse at 7f8ecbbf6c00 of size 131072 next 89\n",
      "2023-05-07 07:56:18.233241: I tensorflow/core/common_runtime/bfc_allocator.cc:1089] InUse at 7f8ecbc16c00 of size 65536 next 90\n",
      "2023-05-07 07:56:18.233244: I tensorflow/core/common_runtime/bfc_allocator.cc:1089] InUse at 7f8ecbc26c00 of size 4096 next 94\n",
      "2023-05-07 07:56:18.233248: I tensorflow/core/common_runtime/bfc_allocator.cc:1089] InUse at 7f8ecbc27c00 of size 256 next 95\n",
      "2023-05-07 07:56:18.233252: I tensorflow/core/common_runtime/bfc_allocator.cc:1089] InUse at 7f8ecbc27d00 of size 1792 next 96\n",
      "2023-05-07 07:56:18.233256: I tensorflow/core/common_runtime/bfc_allocator.cc:1089] InUse at 7f8ecbc28400 of size 256 next 97\n",
      "2023-05-07 07:56:18.233260: I tensorflow/core/common_runtime/bfc_allocator.cc:1089] InUse at 7f8ecbc28500 of size 256 next 98\n",
      "2023-05-07 07:56:18.233263: I tensorflow/core/common_runtime/bfc_allocator.cc:1089] InUse at 7f8ecbc28600 of size 256 next 99\n",
      "2023-05-07 07:56:18.233267: I tensorflow/core/common_runtime/bfc_allocator.cc:1089] InUse at 7f8ecbc28700 of size 256 next 100\n",
      "2023-05-07 07:56:18.233271: I tensorflow/core/common_runtime/bfc_allocator.cc:1089] InUse at 7f8ecbc28800 of size 256 next 101\n",
      "2023-05-07 07:56:18.233274: I tensorflow/core/common_runtime/bfc_allocator.cc:1089] InUse at 7f8ecbc28900 of size 256 next 102\n",
      "2023-05-07 07:56:18.233278: I tensorflow/core/common_runtime/bfc_allocator.cc:1089] InUse at 7f8ecbc28a00 of size 256 next 103\n",
      "2023-05-07 07:56:18.233282: I tensorflow/core/common_runtime/bfc_allocator.cc:1089] InUse at 7f8ecbc28b00 of size 2048 next 104\n",
      "2023-05-07 07:56:18.233286: I tensorflow/core/common_runtime/bfc_allocator.cc:1089] InUse at 7f8ecbc29300 of size 32768 next 105\n",
      "2023-05-07 07:56:18.233290: I tensorflow/core/common_runtime/bfc_allocator.cc:1089] InUse at 7f8ecbc31300 of size 294912 next 106\n",
      "2023-05-07 07:56:18.233294: I tensorflow/core/common_runtime/bfc_allocator.cc:1089] InUse at 7f8ecbc79300 of size 934400 next 107\n",
      "2023-05-07 07:56:18.233297: I tensorflow/core/common_runtime/bfc_allocator.cc:1089] InUse at 7f8ecbd5d500 of size 256 next 108\n",
      "2023-05-07 07:56:18.233301: I tensorflow/core/common_runtime/bfc_allocator.cc:1089] InUse at 7f8ecbd5d600 of size 256 next 109\n",
      "2023-05-07 07:56:18.233305: I tensorflow/core/common_runtime/bfc_allocator.cc:1089] InUse at 7f8ecbd5d700 of size 256 next 110\n",
      "2023-05-07 07:56:18.233309: I tensorflow/core/common_runtime/bfc_allocator.cc:1089] InUse at 7f8ecbd5d800 of size 256 next 111\n",
      "2023-05-07 07:56:18.233312: I tensorflow/core/common_runtime/bfc_allocator.cc:1089] InUse at 7f8ecbd5d900 of size 256 next 112\n",
      "2023-05-07 07:56:18.233316: I tensorflow/core/common_runtime/bfc_allocator.cc:1089] InUse at 7f8ecbd5da00 of size 256 next 113\n",
      "2023-05-07 07:56:18.233320: I tensorflow/core/common_runtime/bfc_allocator.cc:1089] InUse at 7f8ecbd5db00 of size 256 next 114\n",
      "2023-05-07 07:56:18.233324: I tensorflow/core/common_runtime/bfc_allocator.cc:1089] InUse at 7f8ecbd5dc00 of size 256 next 115\n",
      "2023-05-07 07:56:18.233328: I tensorflow/core/common_runtime/bfc_allocator.cc:1089] InUse at 7f8ecbd5dd00 of size 256 next 116\n",
      "2023-05-07 07:56:18.233331: I tensorflow/core/common_runtime/bfc_allocator.cc:1089] InUse at 7f8ecbd5de00 of size 256 next 117\n",
      "2023-05-07 07:56:18.233335: I tensorflow/core/common_runtime/bfc_allocator.cc:1089] InUse at 7f8ecbd5df00 of size 256 next 118\n",
      "2023-05-07 07:56:18.233339: I tensorflow/core/common_runtime/bfc_allocator.cc:1089] InUse at 7f8ecbd5e000 of size 256 next 119\n",
      "2023-05-07 07:56:18.233343: I tensorflow/core/common_runtime/bfc_allocator.cc:1089] InUse at 7f8ecbd5e100 of size 256 next 120\n",
      "2023-05-07 07:56:18.233346: I tensorflow/core/common_runtime/bfc_allocator.cc:1089] InUse at 7f8ecbd5e200 of size 256 next 121\n",
      "2023-05-07 07:56:18.233350: I tensorflow/core/common_runtime/bfc_allocator.cc:1089] InUse at 7f8ecbd5e300 of size 256 next 122\n",
      "2023-05-07 07:56:18.233354: I tensorflow/core/common_runtime/bfc_allocator.cc:1089] InUse at 7f8ecbd5e400 of size 256 next 123\n",
      "2023-05-07 07:56:18.233358: I tensorflow/core/common_runtime/bfc_allocator.cc:1089] InUse at 7f8ecbd5e500 of size 256 next 124\n",
      "2023-05-07 07:56:18.233361: I tensorflow/core/common_runtime/bfc_allocator.cc:1089] InUse at 7f8ecbd5e600 of size 256 next 125\n",
      "2023-05-07 07:56:18.233365: I tensorflow/core/common_runtime/bfc_allocator.cc:1089] InUse at 7f8ecbd5e700 of size 256 next 126\n",
      "2023-05-07 07:56:18.233369: I tensorflow/core/common_runtime/bfc_allocator.cc:1089] InUse at 7f8ecbd5e800 of size 256 next 127\n",
      "2023-05-07 07:56:18.233373: I tensorflow/core/common_runtime/bfc_allocator.cc:1089] InUse at 7f8ecbd5e900 of size 256 next 128\n",
      "2023-05-07 07:56:18.233377: I tensorflow/core/common_runtime/bfc_allocator.cc:1089] InUse at 7f8ecbd5ea00 of size 256 next 129\n",
      "2023-05-07 07:56:18.233380: I tensorflow/core/common_runtime/bfc_allocator.cc:1089] InUse at 7f8ecbd5eb00 of size 256 next 130\n",
      "2023-05-07 07:56:18.233384: I tensorflow/core/common_runtime/bfc_allocator.cc:1089] InUse at 7f8ecbd5ec00 of size 256 next 131\n",
      "2023-05-07 07:56:18.233388: I tensorflow/core/common_runtime/bfc_allocator.cc:1089] InUse at 7f8ecbd5ed00 of size 256 next 132\n",
      "2023-05-07 07:56:18.233391: I tensorflow/core/common_runtime/bfc_allocator.cc:1089] InUse at 7f8ecbd5ee00 of size 256 next 133\n",
      "2023-05-07 07:56:18.233395: I tensorflow/core/common_runtime/bfc_allocator.cc:1089] InUse at 7f8ecbd5ef00 of size 256 next 134\n",
      "2023-05-07 07:56:18.233399: I tensorflow/core/common_runtime/bfc_allocator.cc:1089] InUse at 7f8ecbd5f000 of size 256 next 135\n",
      "2023-05-07 07:56:18.233403: I tensorflow/core/common_runtime/bfc_allocator.cc:1089] InUse at 7f8ecbd5f100 of size 256 next 136\n",
      "2023-05-07 07:56:18.233406: I tensorflow/core/common_runtime/bfc_allocator.cc:1089] InUse at 7f8ecbd5f200 of size 256 next 137\n",
      "2023-05-07 07:56:18.233410: I tensorflow/core/common_runtime/bfc_allocator.cc:1089] InUse at 7f8ecbd5f300 of size 2048 next 138\n",
      "2023-05-07 07:56:18.233414: I tensorflow/core/common_runtime/bfc_allocator.cc:1089] InUse at 7f8ecbd5fb00 of size 1024 next 139\n",
      "2023-05-07 07:56:18.233418: I tensorflow/core/common_runtime/bfc_allocator.cc:1089] InUse at 7f8ecbd5ff00 of size 512 next 140\n",
      "2023-05-07 07:56:18.233421: I tensorflow/core/common_runtime/bfc_allocator.cc:1089] InUse at 7f8ecbd60100 of size 6553600 next 141\n",
      "2023-05-07 07:56:18.233425: I tensorflow/core/common_runtime/bfc_allocator.cc:1089] InUse at 7f8ecc3a0100 of size 3737600 next 142\n",
      "2023-05-07 07:56:18.233429: I tensorflow/core/common_runtime/bfc_allocator.cc:1089] InUse at 7f8ecc730900 of size 1179648 next 143\n",
      "2023-05-07 07:56:18.233433: I tensorflow/core/common_runtime/bfc_allocator.cc:1089] InUse at 7f8ecc850900 of size 589824 next 144\n",
      "2023-05-07 07:56:18.233436: I tensorflow/core/common_runtime/bfc_allocator.cc:1089] InUse at 7f8ecc8e0900 of size 8192 next 145\n",
      "2023-05-07 07:56:18.233440: I tensorflow/core/common_runtime/bfc_allocator.cc:1089] InUse at 7f8ecc8e2900 of size 256 next 146\n",
      "2023-05-07 07:56:18.233444: I tensorflow/core/common_runtime/bfc_allocator.cc:1089] InUse at 7f8ecc8e2a00 of size 4096 next 147\n",
      "2023-05-07 07:56:18.233448: I tensorflow/core/common_runtime/bfc_allocator.cc:1089] InUse at 7f8ecc8e3a00 of size 131072 next 148\n",
      "2023-05-07 07:56:18.233451: I tensorflow/core/common_runtime/bfc_allocator.cc:1089] InUse at 7f8ecc903a00 of size 256 next 149\n",
      "2023-05-07 07:56:18.233455: I tensorflow/core/common_runtime/bfc_allocator.cc:1089] InUse at 7f8ecc903b00 of size 256 next 150\n",
      "2023-05-07 07:56:18.233459: I tensorflow/core/common_runtime/bfc_allocator.cc:1089] InUse at 7f8ecc903c00 of size 65536 next 151\n",
      "2023-05-07 07:56:18.233463: I tensorflow/core/common_runtime/bfc_allocator.cc:1089] InUse at 7f8ecc913c00 of size 256 next 152\n",
      "2023-05-07 07:56:18.233467: I tensorflow/core/common_runtime/bfc_allocator.cc:1089] InUse at 7f8ecc913d00 of size 7567558656 next 160\n",
      "2023-05-07 07:56:18.233471: I tensorflow/core/common_runtime/bfc_allocator.cc:1089] InUse at 7f908fa10500 of size 934400 next 164\n",
      "2023-05-07 07:56:18.233474: I tensorflow/core/common_runtime/bfc_allocator.cc:1089] InUse at 7f908faf4700 of size 934400 next 165\n",
      "2023-05-07 07:56:18.233478: I tensorflow/core/common_runtime/bfc_allocator.cc:1089] InUse at 7f908fbd8900 of size 934400 next 166\n",
      "2023-05-07 07:56:18.233482: I tensorflow/core/common_runtime/bfc_allocator.cc:1089] InUse at 7f908fcbcb00 of size 934400 next 167\n",
      "2023-05-07 07:56:18.233486: I tensorflow/core/common_runtime/bfc_allocator.cc:1089] InUse at 7f908fda0d00 of size 934400 next 168\n",
      "2023-05-07 07:56:18.233490: I tensorflow/core/common_runtime/bfc_allocator.cc:1089] InUse at 7f908fe84f00 of size 1638400 next 169\n",
      "2023-05-07 07:56:18.233494: I tensorflow/core/common_runtime/bfc_allocator.cc:1089] InUse at 7f9090014f00 of size 1638400 next 170\n",
      "2023-05-07 07:56:18.233497: I tensorflow/core/common_runtime/bfc_allocator.cc:1089] InUse at 7f90901a4f00 of size 1638400 next 171\n",
      "2023-05-07 07:56:18.233501: I tensorflow/core/common_runtime/bfc_allocator.cc:1089] InUse at 7f9090334f00 of size 1638400 next 172\n",
      "2023-05-07 07:56:18.233505: I tensorflow/core/common_runtime/bfc_allocator.cc:1089] InUse at 7f90904c4f00 of size 934400 next 175\n",
      "2023-05-07 07:56:18.233509: I tensorflow/core/common_runtime/bfc_allocator.cc:1089] InUse at 7f90905a9100 of size 934400 next 176\n",
      "2023-05-07 07:56:18.233512: I tensorflow/core/common_runtime/bfc_allocator.cc:1089] InUse at 7f909068d300 of size 934400 next 174\n",
      "2023-05-07 07:56:18.233516: I tensorflow/core/common_runtime/bfc_allocator.cc:1089] InUse at 7f9090771500 of size 1638400 next 179\n",
      "2023-05-07 07:56:18.233520: I tensorflow/core/common_runtime/bfc_allocator.cc:1089] InUse at 7f9090901500 of size 1638400 next 162\n",
      "2023-05-07 07:56:18.233524: I tensorflow/core/common_runtime/bfc_allocator.cc:1089] InUse at 7f9090a91500 of size 1638400 next 183\n",
      "2023-05-07 07:56:18.233527: I tensorflow/core/common_runtime/bfc_allocator.cc:1089] InUse at 7f9090c21500 of size 1638400 next 184\n",
      "2023-05-07 07:56:18.233531: I tensorflow/core/common_runtime/bfc_allocator.cc:1089] Free  at 7f9090db1500 of size 1043605760 next 153\n",
      "2023-05-07 07:56:18.233535: I tensorflow/core/common_runtime/bfc_allocator.cc:1089] InUse at 7f90cf0f3e00 of size 118243328 next 154\n",
      "2023-05-07 07:56:18.233539: I tensorflow/core/common_runtime/bfc_allocator.cc:1089] InUse at 7f90d61b7e00 of size 118243328 next 155\n",
      "2023-05-07 07:56:18.233542: I tensorflow/core/common_runtime/bfc_allocator.cc:1089] InUse at 7f90dd27be00 of size 256 next 156\n",
      "2023-05-07 07:56:18.233546: I tensorflow/core/common_runtime/bfc_allocator.cc:1089] InUse at 7f90dd27bf00 of size 256 next 157\n",
      "2023-05-07 07:56:18.233550: I tensorflow/core/common_runtime/bfc_allocator.cc:1089] InUse at 7f90dd27c000 of size 4315873536 next 177\n",
      "2023-05-07 07:56:18.233554: I tensorflow/core/common_runtime/bfc_allocator.cc:1089] InUse at 7f91de66c100 of size 7567558656 next 158\n",
      "2023-05-07 07:56:18.233558: I tensorflow/core/common_runtime/bfc_allocator.cc:1089] Free  at 7f93a1768900 of size 5380061440 next 159\n",
      "2023-05-07 07:56:18.233561: I tensorflow/core/common_runtime/bfc_allocator.cc:1089] InUse at 7f94e223c200 of size 4315873536 next 161\n",
      "2023-05-07 07:56:18.233565: I tensorflow/core/common_runtime/bfc_allocator.cc:1089] InUse at 7f95e362c300 of size 4315873536 next 163\n",
      "2023-05-07 07:56:18.233569: I tensorflow/core/common_runtime/bfc_allocator.cc:1089] InUse at 7f96e4a1c400 of size 7567558656 next 178\n",
      "2023-05-07 07:56:18.233573: I tensorflow/core/common_runtime/bfc_allocator.cc:1089] InUse at 7f98a7b18c00 of size 7567558656 next 180\n",
      "2023-05-07 07:56:18.233577: I tensorflow/core/common_runtime/bfc_allocator.cc:1089] InUse at 7f9a6ac15400 of size 7567558656 next 182\n",
      "2023-05-07 07:56:18.233580: I tensorflow/core/common_runtime/bfc_allocator.cc:1089] InUse at 7f9c2dd11c00 of size 7567558656 next 181\n",
      "2023-05-07 07:56:18.233584: I tensorflow/core/common_runtime/bfc_allocator.cc:1089] InUse at 7f9df0e0e400 of size 7567558656 next 173\n",
      "2023-05-07 07:56:18.233588: I tensorflow/core/common_runtime/bfc_allocator.cc:1089] Free  at 7f9fb3f0ac00 of size 1297372160 next 18446744073709551615\n",
      "2023-05-07 07:56:18.233592: I tensorflow/core/common_runtime/bfc_allocator.cc:1094]      Summary of in-use Chunks by size: \n",
      "2023-05-07 07:56:18.233596: I tensorflow/core/common_runtime/bfc_allocator.cc:1097] 92 Chunks of size 256 totalling 23.0KiB\n",
      "2023-05-07 07:56:18.233601: I tensorflow/core/common_runtime/bfc_allocator.cc:1097] 12 Chunks of size 512 totalling 6.0KiB\n",
      "2023-05-07 07:56:18.233605: I tensorflow/core/common_runtime/bfc_allocator.cc:1097] 4 Chunks of size 1024 totalling 4.0KiB\n",
      "2023-05-07 07:56:18.233609: I tensorflow/core/common_runtime/bfc_allocator.cc:1097] 1 Chunks of size 1280 totalling 1.2KiB\n",
      "2023-05-07 07:56:18.233613: I tensorflow/core/common_runtime/bfc_allocator.cc:1097] 3 Chunks of size 1792 totalling 5.2KiB\n",
      "2023-05-07 07:56:18.233618: I tensorflow/core/common_runtime/bfc_allocator.cc:1097] 4 Chunks of size 2048 totalling 8.0KiB\n",
      "2023-05-07 07:56:18.233622: I tensorflow/core/common_runtime/bfc_allocator.cc:1097] 1 Chunks of size 3584 totalling 3.5KiB\n",
      "2023-05-07 07:56:18.233626: I tensorflow/core/common_runtime/bfc_allocator.cc:1097] 3 Chunks of size 4096 totalling 12.0KiB\n",
      "2023-05-07 07:56:18.233630: I tensorflow/core/common_runtime/bfc_allocator.cc:1097] 1 Chunks of size 7424 totalling 7.2KiB\n",
      "2023-05-07 07:56:18.233635: I tensorflow/core/common_runtime/bfc_allocator.cc:1097] 3 Chunks of size 8192 totalling 24.0KiB\n",
      "2023-05-07 07:56:18.233639: I tensorflow/core/common_runtime/bfc_allocator.cc:1097] 1 Chunks of size 14848 totalling 14.5KiB\n",
      "2023-05-07 07:56:18.233643: I tensorflow/core/common_runtime/bfc_allocator.cc:1097] 1 Chunks of size 32768 totalling 32.0KiB\n",
      "2023-05-07 07:56:18.233647: I tensorflow/core/common_runtime/bfc_allocator.cc:1097] 4 Chunks of size 65536 totalling 256.0KiB\n",
      "2023-05-07 07:56:18.233652: I tensorflow/core/common_runtime/bfc_allocator.cc:1097] 3 Chunks of size 131072 totalling 384.0KiB\n",
      "2023-05-07 07:56:18.233656: I tensorflow/core/common_runtime/bfc_allocator.cc:1097] 1 Chunks of size 131328 totalling 128.2KiB\n",
      "2023-05-07 07:56:18.233660: I tensorflow/core/common_runtime/bfc_allocator.cc:1097] 1 Chunks of size 294912 totalling 288.0KiB\n",
      "2023-05-07 07:56:18.233665: I tensorflow/core/common_runtime/bfc_allocator.cc:1097] 3 Chunks of size 589824 totalling 1.69MiB\n",
      "2023-05-07 07:56:18.233669: I tensorflow/core/common_runtime/bfc_allocator.cc:1097] 1 Chunks of size 590080 totalling 576.2KiB\n",
      "2023-05-07 07:56:18.233673: I tensorflow/core/common_runtime/bfc_allocator.cc:1097] 9 Chunks of size 934400 totalling 8.02MiB\n",
      "2023-05-07 07:56:18.233677: I tensorflow/core/common_runtime/bfc_allocator.cc:1097] 3 Chunks of size 1179648 totalling 3.38MiB\n",
      "2023-05-07 07:56:18.233682: I tensorflow/core/common_runtime/bfc_allocator.cc:1097] 1 Chunks of size 1373440 totalling 1.31MiB\n",
      "2023-05-07 07:56:18.233686: I tensorflow/core/common_runtime/bfc_allocator.cc:1097] 8 Chunks of size 1638400 totalling 12.50MiB\n",
      "2023-05-07 07:56:18.233690: I tensorflow/core/common_runtime/bfc_allocator.cc:1097] 3 Chunks of size 3737600 totalling 10.69MiB\n",
      "2023-05-07 07:56:18.233694: I tensorflow/core/common_runtime/bfc_allocator.cc:1097] 1 Chunks of size 3930624 totalling 3.75MiB\n",
      "2023-05-07 07:56:18.233699: I tensorflow/core/common_runtime/bfc_allocator.cc:1097] 4 Chunks of size 6553600 totalling 25.00MiB\n",
      "2023-05-07 07:56:18.233703: I tensorflow/core/common_runtime/bfc_allocator.cc:1097] 3 Chunks of size 118243328 totalling 338.30MiB\n",
      "2023-05-07 07:56:18.233707: I tensorflow/core/common_runtime/bfc_allocator.cc:1097] 3 Chunks of size 4315873536 totalling 12.06GiB\n",
      "2023-05-07 07:56:18.233712: I tensorflow/core/common_runtime/bfc_allocator.cc:1097] 7 Chunks of size 7567558656 totalling 49.33GiB\n",
      "2023-05-07 07:56:18.233716: I tensorflow/core/common_runtime/bfc_allocator.cc:1097] 1 Chunks of size 8631746816 totalling 8.04GiB\n",
      "2023-05-07 07:56:18.233720: I tensorflow/core/common_runtime/bfc_allocator.cc:1101] Sum Total of in-use chunks: 69.83GiB\n",
      "2023-05-07 07:56:18.233724: I tensorflow/core/common_runtime/bfc_allocator.cc:1103] total_region_allocated_bytes_: 82699419648 memory_limit_: 82699419648 available bytes: 0 curr_region_allocation_bytes_: 165398839296\n",
      "2023-05-07 07:56:18.233730: I tensorflow/core/common_runtime/bfc_allocator.cc:1109] Stats: \n",
      "Limit:                     82699419648\n",
      "InUse:                     74978380288\n",
      "MaxInUse:                  74978380288\n",
      "NumAllocs:                         294\n",
      "MaxAllocSize:               8631746816\n",
      "Reserved:                            0\n",
      "PeakReserved:                        0\n",
      "LargestFreeBlock:                    0\n",
      "\n",
      "2023-05-07 07:56:18.233738: W tensorflow/core/common_runtime/bfc_allocator.cc:491] ********************_***************______*********************************************************_\n",
      "2023-05-07 07:56:18.233748: W tensorflow/core/framework/op_kernel.cc:1780] OP_REQUIRES failed at conv_ops.cc:686 : RESOURCE_EXHAUSTED: OOM when allocating tensor with shape[12,128,1253,983] and type float on /job:localhost/replica:0/task:0/device:GPU:0 by allocator GPU_0_bfc\n"
     ]
    },
    {
     "name": "stderr",
     "output_type": "stream",
     "text": [
      "2023-05-07 07:56:19.514496: W tensorflow/core/common_runtime/bfc_allocator.cc:479] Allocator (GPU_0_bfc) ran out of memory trying to allocate 7.05GiB (rounded to 7567558656)requested by op sequential/conv_lstm2d/while/body/_1/sequential/conv_lstm2d/while/convolution_7\n",
      "If the cause is memory fragmentation maybe the environment variable 'TF_GPU_ALLOCATOR=cuda_malloc_async' will improve the situation. \n",
      "Current allocation summary follows.\n",
      "Current allocation summary follows.\n",
      "2023-05-07 07:56:19.514541: I tensorflow/core/common_runtime/bfc_allocator.cc:1033] BFCAllocator dump for GPU_0_bfc\n",
      "2023-05-07 07:56:19.514554: I tensorflow/core/common_runtime/bfc_allocator.cc:1040] Bin (256): \tTotal Chunks: 92, Chunks in use: 92. 23.0KiB allocated for chunks. 23.0KiB in use in bin. 4.3KiB client-requested in use in bin.\n",
      "2023-05-07 07:56:19.514564: I tensorflow/core/common_runtime/bfc_allocator.cc:1040] Bin (512): \tTotal Chunks: 12, Chunks in use: 12. 6.0KiB allocated for chunks. 6.0KiB in use in bin. 6.0KiB client-requested in use in bin.\n",
      "2023-05-07 07:56:19.514575: I tensorflow/core/common_runtime/bfc_allocator.cc:1040] Bin (1024): \tTotal Chunks: 8, Chunks in use: 8. 10.5KiB allocated for chunks. 10.5KiB in use in bin. 10.1KiB client-requested in use in bin.\n",
      "2023-05-07 07:56:19.514585: I tensorflow/core/common_runtime/bfc_allocator.cc:1040] Bin (2048): \tTotal Chunks: 5, Chunks in use: 5. 11.5KiB allocated for chunks. 11.5KiB in use in bin. 10.0KiB client-requested in use in bin.\n",
      "2023-05-07 07:56:19.514597: I tensorflow/core/common_runtime/bfc_allocator.cc:1040] Bin (4096): \tTotal Chunks: 4, Chunks in use: 4. 19.2KiB allocated for chunks. 19.2KiB in use in bin. 16.0KiB client-requested in use in bin.\n",
      "2023-05-07 07:56:19.514611: I tensorflow/core/common_runtime/bfc_allocator.cc:1040] Bin (8192): \tTotal Chunks: 4, Chunks in use: 4. 38.5KiB allocated for chunks. 38.5KiB in use in bin. 32.0KiB client-requested in use in bin.\n",
      "2023-05-07 07:56:19.514621: I tensorflow/core/common_runtime/bfc_allocator.cc:1040] Bin (16384): \tTotal Chunks: 0, Chunks in use: 0. 0B allocated for chunks. 0B in use in bin. 0B client-requested in use in bin.\n",
      "2023-05-07 07:56:19.514631: I tensorflow/core/common_runtime/bfc_allocator.cc:1040] Bin (32768): \tTotal Chunks: 1, Chunks in use: 1. 32.0KiB allocated for chunks. 32.0KiB in use in bin. 32.0KiB client-requested in use in bin.\n",
      "2023-05-07 07:56:19.514642: I tensorflow/core/common_runtime/bfc_allocator.cc:1040] Bin (65536): \tTotal Chunks: 4, Chunks in use: 4. 256.0KiB allocated for chunks. 256.0KiB in use in bin. 256.0KiB client-requested in use in bin.\n",
      "2023-05-07 07:56:19.514652: I tensorflow/core/common_runtime/bfc_allocator.cc:1040] Bin (131072): \tTotal Chunks: 4, Chunks in use: 4. 512.2KiB allocated for chunks. 512.2KiB in use in bin. 512.0KiB client-requested in use in bin.\n",
      "2023-05-07 07:56:19.514662: I tensorflow/core/common_runtime/bfc_allocator.cc:1040] Bin (262144): \tTotal Chunks: 1, Chunks in use: 1. 288.0KiB allocated for chunks. 288.0KiB in use in bin. 288.0KiB client-requested in use in bin.\n",
      "2023-05-07 07:56:19.514673: I tensorflow/core/common_runtime/bfc_allocator.cc:1040] Bin (524288): \tTotal Chunks: 13, Chunks in use: 13. 10.27MiB allocated for chunks. 10.27MiB in use in bin. 10.27MiB client-requested in use in bin.\n",
      "2023-05-07 07:56:19.514683: I tensorflow/core/common_runtime/bfc_allocator.cc:1040] Bin (1048576): \tTotal Chunks: 12, Chunks in use: 12. 17.18MiB allocated for chunks. 17.18MiB in use in bin. 17.00MiB client-requested in use in bin.\n",
      "2023-05-07 07:56:19.514693: I tensorflow/core/common_runtime/bfc_allocator.cc:1040] Bin (2097152): \tTotal Chunks: 4, Chunks in use: 4. 14.44MiB allocated for chunks. 14.44MiB in use in bin. 14.26MiB client-requested in use in bin.\n",
      "2023-05-07 07:56:19.514703: I tensorflow/core/common_runtime/bfc_allocator.cc:1040] Bin (4194304): \tTotal Chunks: 4, Chunks in use: 4. 25.00MiB allocated for chunks. 25.00MiB in use in bin. 25.00MiB client-requested in use in bin.\n",
      "2023-05-07 07:56:19.514712: I tensorflow/core/common_runtime/bfc_allocator.cc:1040] Bin (8388608): \tTotal Chunks: 0, Chunks in use: 0. 0B allocated for chunks. 0B in use in bin. 0B client-requested in use in bin.\n",
      "2023-05-07 07:56:19.514722: I tensorflow/core/common_runtime/bfc_allocator.cc:1040] Bin (16777216): \tTotal Chunks: 0, Chunks in use: 0. 0B allocated for chunks. 0B in use in bin. 0B client-requested in use in bin.\n",
      "2023-05-07 07:56:19.514733: I tensorflow/core/common_runtime/bfc_allocator.cc:1040] Bin (33554432): \tTotal Chunks: 0, Chunks in use: 0. 0B allocated for chunks. 0B in use in bin. 0B client-requested in use in bin.\n",
      "2023-05-07 07:56:19.514756: I tensorflow/core/common_runtime/bfc_allocator.cc:1040] Bin (67108864): \tTotal Chunks: 3, Chunks in use: 3. 338.30MiB allocated for chunks. 338.30MiB in use in bin. 338.30MiB client-requested in use in bin.\n",
      "2023-05-07 07:56:19.514768: I tensorflow/core/common_runtime/bfc_allocator.cc:1040] Bin (134217728): \tTotal Chunks: 0, Chunks in use: 0. 0B allocated for chunks. 0B in use in bin. 0B client-requested in use in bin.\n",
      "2023-05-07 07:56:19.514783: I tensorflow/core/common_runtime/bfc_allocator.cc:1040] Bin (268435456): \tTotal Chunks: 14, Chunks in use: 11. 76.62GiB allocated for chunks. 69.43GiB in use in bin. 69.43GiB client-requested in use in bin.\n",
      "2023-05-07 07:56:19.514796: I tensorflow/core/common_runtime/bfc_allocator.cc:1056] Bin for 7.05GiB was 256.00MiB, Chunk State: \n",
      "2023-05-07 07:56:19.514816: I tensorflow/core/common_runtime/bfc_allocator.cc:1062]   Size: 995.26MiB | Requested Size: 0B | in_use: 0 | bin_num: 20, prev:   Size: 1.56MiB | Requested Size: 1.56MiB | in_use: 1 | bin_num: -1, next:   Size: 112.77MiB | Requested Size: 112.76MiB | in_use: 1 | bin_num: -1\n",
      "2023-05-07 07:56:19.514831: I tensorflow/core/common_runtime/bfc_allocator.cc:1062]   Size: 1.21GiB | Requested Size: 512B | in_use: 0 | bin_num: 20, prev:   Size: 7.05GiB | Requested Size: 7.05GiB | in_use: 1 | bin_num: -1\n",
      "2023-05-07 07:56:19.514843: I tensorflow/core/common_runtime/bfc_allocator.cc:1062]   Size: 5.01GiB | Requested Size: 4.02GiB | in_use: 0 | bin_num: 20, prev:   Size: 7.05GiB | Requested Size: 7.05GiB | in_use: 1 | bin_num: -1, next:   Size: 4.02GiB | Requested Size: 4.02GiB | in_use: 1 | bin_num: -1\n",
      "2023-05-07 07:56:19.514851: I tensorflow/core/common_runtime/bfc_allocator.cc:1069] Next region of size 82699419648\n",
      "2023-05-07 07:56:19.514859: I tensorflow/core/common_runtime/bfc_allocator.cc:1089] InUse at 7f8cc0000000 of size 256 next 1\n",
      "2023-05-07 07:56:19.514869: I tensorflow/core/common_runtime/bfc_allocator.cc:1089] InUse at 7f8cc0000100 of size 1280 next 2\n",
      "2023-05-07 07:56:19.514879: I tensorflow/core/common_runtime/bfc_allocator.cc:1089] InUse at 7f8cc0000600 of size 256 next 3\n",
      "2023-05-07 07:56:19.514889: I tensorflow/core/common_runtime/bfc_allocator.cc:1089] InUse at 7f8cc0000700 of size 256 next 4\n",
      "2023-05-07 07:56:19.514899: I tensorflow/core/common_runtime/bfc_allocator.cc:1089] InUse at 7f8cc0000800 of size 256 next 6\n",
      "2023-05-07 07:56:19.514908: I tensorflow/core/common_runtime/bfc_allocator.cc:1089] InUse at 7f8cc0000900 of size 256 next 7\n",
      "2023-05-07 07:56:19.514917: I tensorflow/core/common_runtime/bfc_allocator.cc:1089] InUse at 7f8cc0000a00 of size 256 next 8\n",
      "2023-05-07 07:56:19.514927: I tensorflow/core/common_runtime/bfc_allocator.cc:1089] InUse at 7f8cc0000b00 of size 512 next 5\n",
      "2023-05-07 07:56:19.514939: I tensorflow/core/common_runtime/bfc_allocator.cc:1089] InUse at 7f8cc0000d00 of size 256 next 12\n",
      "2023-05-07 07:56:19.514948: I tensorflow/core/common_runtime/bfc_allocator.cc:1089] InUse at 7f8cc0000e00 of size 512 next 14\n",
      "2023-05-07 07:56:19.514958: I tensorflow/core/common_runtime/bfc_allocator.cc:1089] InUse at 7f8cc0001000 of size 512 next 16\n",
      "2023-05-07 07:56:19.514969: I tensorflow/core/common_runtime/bfc_allocator.cc:1089] InUse at 7f8cc0001200 of size 512 next 13\n",
      "2023-05-07 07:56:19.514979: I tensorflow/core/common_runtime/bfc_allocator.cc:1089] InUse at 7f8cc0001400 of size 2048 next 15\n",
      "2023-05-07 07:56:19.514989: I tensorflow/core/common_runtime/bfc_allocator.cc:1089] InUse at 7f8cc0001c00 of size 256 next 17\n",
      "2023-05-07 07:56:19.514999: I tensorflow/core/common_runtime/bfc_allocator.cc:1089] InUse at 7f8cc0001d00 of size 256 next 18\n",
      "2023-05-07 07:56:19.515009: I tensorflow/core/common_runtime/bfc_allocator.cc:1089] InUse at 7f8cc0001e00 of size 256 next 21\n",
      "2023-05-07 07:56:19.515019: I tensorflow/core/common_runtime/bfc_allocator.cc:1089] InUse at 7f8cc0001f00 of size 256 next 19\n",
      "2023-05-07 07:56:19.515028: I tensorflow/core/common_runtime/bfc_allocator.cc:1089] InUse at 7f8cc0002000 of size 256 next 26\n",
      "2023-05-07 07:56:19.515038: I tensorflow/core/common_runtime/bfc_allocator.cc:1089] InUse at 7f8cc0002100 of size 256 next 20\n",
      "2023-05-07 07:56:19.515048: I tensorflow/core/common_runtime/bfc_allocator.cc:1089] InUse at 7f8cc0002200 of size 1024 next 22\n",
      "2023-05-07 07:56:19.515058: I tensorflow/core/common_runtime/bfc_allocator.cc:1089] InUse at 7f8cc0002600 of size 256 next 27\n",
      "2023-05-07 07:56:19.515068: I tensorflow/core/common_runtime/bfc_allocator.cc:1089] InUse at 7f8cc0002700 of size 256 next 28\n",
      "2023-05-07 07:56:19.515078: I tensorflow/core/common_runtime/bfc_allocator.cc:1089] InUse at 7f8cc0002800 of size 256 next 31\n",
      "2023-05-07 07:56:19.515088: I tensorflow/core/common_runtime/bfc_allocator.cc:1089] InUse at 7f8cc0002900 of size 256 next 36\n",
      "2023-05-07 07:56:19.515098: I tensorflow/core/common_runtime/bfc_allocator.cc:1089] InUse at 7f8cc0002a00 of size 256 next 35\n",
      "2023-05-07 07:56:19.515108: I tensorflow/core/common_runtime/bfc_allocator.cc:1089] InUse at 7f8cc0002b00 of size 512 next 30\n",
      "2023-05-07 07:56:19.515117: I tensorflow/core/common_runtime/bfc_allocator.cc:1089] InUse at 7f8cc0002d00 of size 256 next 37\n",
      "2023-05-07 07:56:19.515127: I tensorflow/core/common_runtime/bfc_allocator.cc:1089] InUse at 7f8cc0002e00 of size 256 next 38\n",
      "2023-05-07 07:56:19.515136: I tensorflow/core/common_runtime/bfc_allocator.cc:1089] InUse at 7f8cc0002f00 of size 256 next 39\n",
      "2023-05-07 07:56:19.515146: I tensorflow/core/common_runtime/bfc_allocator.cc:1089] InUse at 7f8cc0003000 of size 256 next 42\n",
      "2023-05-07 07:56:19.515155: I tensorflow/core/common_runtime/bfc_allocator.cc:1089] InUse at 7f8cc0003100 of size 256 next 48\n",
      "2023-05-07 07:56:19.515163: I tensorflow/core/common_runtime/bfc_allocator.cc:1089] InUse at 7f8cc0003200 of size 256 next 41\n",
      "2023-05-07 07:56:19.515170: I tensorflow/core/common_runtime/bfc_allocator.cc:1089] InUse at 7f8cc0003300 of size 256 next 47\n",
      "2023-05-07 07:56:19.515177: I tensorflow/core/common_runtime/bfc_allocator.cc:1089] InUse at 7f8cc0003400 of size 256 next 40\n",
      "2023-05-07 07:56:19.515184: I tensorflow/core/common_runtime/bfc_allocator.cc:1089] InUse at 7f8cc0003500 of size 7424 next 43\n",
      "2023-05-07 07:56:19.515191: I tensorflow/core/common_runtime/bfc_allocator.cc:1089] InUse at 7f8cc0005200 of size 256 next 62\n",
      "2023-05-07 07:56:19.515199: I tensorflow/core/common_runtime/bfc_allocator.cc:1089] InUse at 7f8cc0005300 of size 3584 next 50\n",
      "2023-05-07 07:56:19.515206: I tensorflow/core/common_runtime/bfc_allocator.cc:1089] InUse at 7f8cc0006100 of size 1792 next 51\n",
      "2023-05-07 07:56:19.515213: I tensorflow/core/common_runtime/bfc_allocator.cc:1089] InUse at 7f8cc0006800 of size 256 next 46\n",
      "2023-05-07 07:56:19.515220: I tensorflow/core/common_runtime/bfc_allocator.cc:1089] InUse at 7f8cc0006900 of size 256 next 49\n",
      "2023-05-07 07:56:19.515228: I tensorflow/core/common_runtime/bfc_allocator.cc:1089] InUse at 7f8cc0006a00 of size 256 next 52\n",
      "2023-05-07 07:56:19.515235: I tensorflow/core/common_runtime/bfc_allocator.cc:1089] InUse at 7f8cc0006b00 of size 256 next 53\n",
      "2023-05-07 07:56:19.515242: I tensorflow/core/common_runtime/bfc_allocator.cc:1089] InUse at 7f8cc0006c00 of size 256 next 56\n",
      "2023-05-07 07:56:19.515249: I tensorflow/core/common_runtime/bfc_allocator.cc:1089] InUse at 7f8cc0006d00 of size 256 next 57\n",
      "2023-05-07 07:56:19.515256: I tensorflow/core/common_runtime/bfc_allocator.cc:1089] InUse at 7f8cc0006e00 of size 256 next 58\n",
      "2023-05-07 07:56:19.515263: I tensorflow/core/common_runtime/bfc_allocator.cc:1089] InUse at 7f8cc0006f00 of size 256 next 59\n",
      "2023-05-07 07:56:19.515270: I tensorflow/core/common_runtime/bfc_allocator.cc:1089] InUse at 7f8cc0007000 of size 256 next 60\n",
      "2023-05-07 07:56:19.515277: I tensorflow/core/common_runtime/bfc_allocator.cc:1089] InUse at 7f8cc0007100 of size 256 next 61\n",
      "2023-05-07 07:56:19.515284: I tensorflow/core/common_runtime/bfc_allocator.cc:1089] InUse at 7f8cc0007200 of size 256 next 44\n",
      "2023-05-07 07:56:19.515291: I tensorflow/core/common_runtime/bfc_allocator.cc:1089] InUse at 7f8cc0007300 of size 8192 next 45\n",
      "2023-05-07 07:56:19.515299: I tensorflow/core/common_runtime/bfc_allocator.cc:1089] InUse at 7f8cc0009300 of size 512 next 64\n",
      "2023-05-07 07:56:19.515308: I tensorflow/core/common_runtime/bfc_allocator.cc:1089] InUse at 7f8cc0009500 of size 512 next 65\n",
      "2023-05-07 07:56:19.515317: I tensorflow/core/common_runtime/bfc_allocator.cc:1089] InUse at 7f8cc0009700 of size 1024 next 67\n",
      "2023-05-07 07:56:19.515327: I tensorflow/core/common_runtime/bfc_allocator.cc:1089] InUse at 7f8cc0009b00 of size 256 next 68\n",
      "2023-05-07 07:56:19.515337: I tensorflow/core/common_runtime/bfc_allocator.cc:1089] InUse at 7f8cc0009c00 of size 256 next 69\n",
      "2023-05-07 07:56:19.515348: I tensorflow/core/common_runtime/bfc_allocator.cc:1089] InUse at 7f8cc0009d00 of size 512 next 71\n",
      "2023-05-07 07:56:19.515356: I tensorflow/core/common_runtime/bfc_allocator.cc:1089] InUse at 7f8cc0009f00 of size 256 next 72\n",
      "2023-05-07 07:56:19.515365: I tensorflow/core/common_runtime/bfc_allocator.cc:1089] InUse at 7f8cc000a000 of size 256 next 73\n",
      "2023-05-07 07:56:19.515375: I tensorflow/core/common_runtime/bfc_allocator.cc:1089] InUse at 7f8cc000a100 of size 8192 next 74\n",
      "2023-05-07 07:56:19.515385: I tensorflow/core/common_runtime/bfc_allocator.cc:1089] InUse at 7f8cc000c100 of size 4096 next 75\n",
      "2023-05-07 07:56:19.515395: I tensorflow/core/common_runtime/bfc_allocator.cc:1089] InUse at 7f8cc000d100 of size 256 next 76\n",
      "2023-05-07 07:56:19.515405: I tensorflow/core/common_runtime/bfc_allocator.cc:1089] InUse at 7f8cc000d200 of size 1792 next 77\n",
      "2023-05-07 07:56:19.515412: I tensorflow/core/common_runtime/bfc_allocator.cc:1089] InUse at 7f8cc000d900 of size 256 next 78\n",
      "2023-05-07 07:56:19.515420: I tensorflow/core/common_runtime/bfc_allocator.cc:1089] InUse at 7f8cc000da00 of size 2048 next 81\n",
      "2023-05-07 07:56:19.515427: I tensorflow/core/common_runtime/bfc_allocator.cc:1089] InUse at 7f8cc000e200 of size 512 next 82\n",
      "2023-05-07 07:56:19.515434: I tensorflow/core/common_runtime/bfc_allocator.cc:1089] InUse at 7f8cc000e400 of size 512 next 83\n",
      "2023-05-07 07:56:19.515442: I tensorflow/core/common_runtime/bfc_allocator.cc:1089] InUse at 7f8cc000e600 of size 1024 next 86\n",
      "2023-05-07 07:56:19.515453: I tensorflow/core/common_runtime/bfc_allocator.cc:1089] InUse at 7f8cc000ea00 of size 256 next 87\n",
      "2023-05-07 07:56:19.515460: I tensorflow/core/common_runtime/bfc_allocator.cc:1089] InUse at 7f8cc000eb00 of size 256 next 88\n",
      "2023-05-07 07:56:19.515468: I tensorflow/core/common_runtime/bfc_allocator.cc:1089] InUse at 7f8cc000ec00 of size 512 next 91\n",
      "2023-05-07 07:56:19.515474: I tensorflow/core/common_runtime/bfc_allocator.cc:1089] InUse at 7f8cc000ee00 of size 256 next 92\n",
      "2023-05-07 07:56:19.515480: I tensorflow/core/common_runtime/bfc_allocator.cc:1089] InUse at 7f8cc000ef00 of size 256 next 93\n",
      "2023-05-07 07:56:19.515486: I tensorflow/core/common_runtime/bfc_allocator.cc:1089] InUse at 7f8cc000f000 of size 14848 next 29\n",
      "2023-05-07 07:56:19.515491: I tensorflow/core/common_runtime/bfc_allocator.cc:1089] InUse at 7f8cc0012a00 of size 65536 next 32\n",
      "2023-05-07 07:56:19.515495: I tensorflow/core/common_runtime/bfc_allocator.cc:1089] InUse at 7f8cc0022a00 of size 131328 next 33\n",
      "2023-05-07 07:56:19.515499: I tensorflow/core/common_runtime/bfc_allocator.cc:1089] InUse at 7f8cc0042b00 of size 131072 next 34\n",
      "2023-05-07 07:56:19.515503: I tensorflow/core/common_runtime/bfc_allocator.cc:1089] InUse at 7f8cc0062b00 of size 1373440 next 25\n",
      "2023-05-07 07:56:19.515507: I tensorflow/core/common_runtime/bfc_allocator.cc:1089] InUse at 7f8cc01b2000 of size 590080 next 23\n",
      "2023-05-07 07:56:19.515511: I tensorflow/core/common_runtime/bfc_allocator.cc:1089] InUse at 7f8cc0242100 of size 1179648 next 24\n",
      "2023-05-07 07:56:19.515515: I tensorflow/core/common_runtime/bfc_allocator.cc:1089] InUse at 7f8cc0362100 of size 3930624 next 9\n",
      "2023-05-07 07:56:19.515519: I tensorflow/core/common_runtime/bfc_allocator.cc:1089] InUse at 7f8cc0721b00 of size 3737600 next 10\n",
      "2023-05-07 07:56:19.515523: I tensorflow/core/common_runtime/bfc_allocator.cc:1089] InUse at 7f8cc0ab2300 of size 6553600 next 11\n",
      "2023-05-07 07:56:19.515527: I tensorflow/core/common_runtime/bfc_allocator.cc:1089] InUse at 7f8cc10f2300 of size 8631746816 next 54\n",
      "2023-05-07 07:56:19.515531: I tensorflow/core/common_runtime/bfc_allocator.cc:1089] InUse at 7f8ec38d2400 of size 118243328 next 55\n",
      "2023-05-07 07:56:19.515535: I tensorflow/core/common_runtime/bfc_allocator.cc:1089] InUse at 7f8eca996400 of size 6553600 next 63\n",
      "2023-05-07 07:56:19.515540: I tensorflow/core/common_runtime/bfc_allocator.cc:1089] InUse at 7f8ecafd6400 of size 589824 next 66\n",
      "2023-05-07 07:56:19.515546: I tensorflow/core/common_runtime/bfc_allocator.cc:1089] InUse at 7f8ecb066400 of size 65536 next 70\n",
      "2023-05-07 07:56:19.515551: I tensorflow/core/common_runtime/bfc_allocator.cc:1089] InUse at 7f8ecb076400 of size 3737600 next 79\n",
      "2023-05-07 07:56:19.515557: I tensorflow/core/common_runtime/bfc_allocator.cc:1089] InUse at 7f8ecb406c00 of size 6553600 next 80\n",
      "2023-05-07 07:56:19.515561: I tensorflow/core/common_runtime/bfc_allocator.cc:1089] InUse at 7f8ecba46c00 of size 1179648 next 84\n",
      "2023-05-07 07:56:19.515566: I tensorflow/core/common_runtime/bfc_allocator.cc:1089] InUse at 7f8ecbb66c00 of size 589824 next 85\n",
      "2023-05-07 07:56:19.515571: I tensorflow/core/common_runtime/bfc_allocator.cc:1089] InUse at 7f8ecbbf6c00 of size 131072 next 89\n",
      "2023-05-07 07:56:19.515577: I tensorflow/core/common_runtime/bfc_allocator.cc:1089] InUse at 7f8ecbc16c00 of size 65536 next 90\n",
      "2023-05-07 07:56:19.515583: I tensorflow/core/common_runtime/bfc_allocator.cc:1089] InUse at 7f8ecbc26c00 of size 4096 next 94\n",
      "2023-05-07 07:56:19.515589: I tensorflow/core/common_runtime/bfc_allocator.cc:1089] InUse at 7f8ecbc27c00 of size 256 next 95\n",
      "2023-05-07 07:56:19.515593: I tensorflow/core/common_runtime/bfc_allocator.cc:1089] InUse at 7f8ecbc27d00 of size 1792 next 96\n",
      "2023-05-07 07:56:19.515597: I tensorflow/core/common_runtime/bfc_allocator.cc:1089] InUse at 7f8ecbc28400 of size 256 next 97\n",
      "2023-05-07 07:56:19.515600: I tensorflow/core/common_runtime/bfc_allocator.cc:1089] InUse at 7f8ecbc28500 of size 256 next 98\n",
      "2023-05-07 07:56:19.515604: I tensorflow/core/common_runtime/bfc_allocator.cc:1089] InUse at 7f8ecbc28600 of size 256 next 99\n",
      "2023-05-07 07:56:19.515608: I tensorflow/core/common_runtime/bfc_allocator.cc:1089] InUse at 7f8ecbc28700 of size 256 next 100\n",
      "2023-05-07 07:56:19.515612: I tensorflow/core/common_runtime/bfc_allocator.cc:1089] InUse at 7f8ecbc28800 of size 256 next 101\n",
      "2023-05-07 07:56:19.515615: I tensorflow/core/common_runtime/bfc_allocator.cc:1089] InUse at 7f8ecbc28900 of size 256 next 102\n",
      "2023-05-07 07:56:19.515619: I tensorflow/core/common_runtime/bfc_allocator.cc:1089] InUse at 7f8ecbc28a00 of size 256 next 103\n",
      "2023-05-07 07:56:19.515623: I tensorflow/core/common_runtime/bfc_allocator.cc:1089] InUse at 7f8ecbc28b00 of size 2048 next 104\n",
      "2023-05-07 07:56:19.515627: I tensorflow/core/common_runtime/bfc_allocator.cc:1089] InUse at 7f8ecbc29300 of size 32768 next 105\n",
      "2023-05-07 07:56:19.515631: I tensorflow/core/common_runtime/bfc_allocator.cc:1089] InUse at 7f8ecbc31300 of size 294912 next 106\n",
      "2023-05-07 07:56:19.515635: I tensorflow/core/common_runtime/bfc_allocator.cc:1089] InUse at 7f8ecbc79300 of size 934400 next 107\n",
      "2023-05-07 07:56:19.515641: I tensorflow/core/common_runtime/bfc_allocator.cc:1089] InUse at 7f8ecbd5d500 of size 256 next 108\n",
      "2023-05-07 07:56:19.515647: I tensorflow/core/common_runtime/bfc_allocator.cc:1089] InUse at 7f8ecbd5d600 of size 256 next 109\n",
      "2023-05-07 07:56:19.515652: I tensorflow/core/common_runtime/bfc_allocator.cc:1089] InUse at 7f8ecbd5d700 of size 256 next 110\n",
      "2023-05-07 07:56:19.515657: I tensorflow/core/common_runtime/bfc_allocator.cc:1089] InUse at 7f8ecbd5d800 of size 256 next 111\n",
      "2023-05-07 07:56:19.515662: I tensorflow/core/common_runtime/bfc_allocator.cc:1089] InUse at 7f8ecbd5d900 of size 256 next 112\n",
      "2023-05-07 07:56:19.515667: I tensorflow/core/common_runtime/bfc_allocator.cc:1089] InUse at 7f8ecbd5da00 of size 256 next 113\n",
      "2023-05-07 07:56:19.515672: I tensorflow/core/common_runtime/bfc_allocator.cc:1089] InUse at 7f8ecbd5db00 of size 256 next 114\n",
      "2023-05-07 07:56:19.515679: I tensorflow/core/common_runtime/bfc_allocator.cc:1089] InUse at 7f8ecbd5dc00 of size 256 next 115\n",
      "2023-05-07 07:56:19.515684: I tensorflow/core/common_runtime/bfc_allocator.cc:1089] InUse at 7f8ecbd5dd00 of size 256 next 116\n",
      "2023-05-07 07:56:19.515690: I tensorflow/core/common_runtime/bfc_allocator.cc:1089] InUse at 7f8ecbd5de00 of size 256 next 117\n",
      "2023-05-07 07:56:19.515694: I tensorflow/core/common_runtime/bfc_allocator.cc:1089] InUse at 7f8ecbd5df00 of size 256 next 118\n",
      "2023-05-07 07:56:19.515698: I tensorflow/core/common_runtime/bfc_allocator.cc:1089] InUse at 7f8ecbd5e000 of size 256 next 119\n",
      "2023-05-07 07:56:19.515701: I tensorflow/core/common_runtime/bfc_allocator.cc:1089] InUse at 7f8ecbd5e100 of size 256 next 120\n",
      "2023-05-07 07:56:19.515707: I tensorflow/core/common_runtime/bfc_allocator.cc:1089] InUse at 7f8ecbd5e200 of size 256 next 121\n",
      "2023-05-07 07:56:19.515712: I tensorflow/core/common_runtime/bfc_allocator.cc:1089] InUse at 7f8ecbd5e300 of size 256 next 122\n",
      "2023-05-07 07:56:19.515718: I tensorflow/core/common_runtime/bfc_allocator.cc:1089] InUse at 7f8ecbd5e400 of size 256 next 123\n",
      "2023-05-07 07:56:19.515723: I tensorflow/core/common_runtime/bfc_allocator.cc:1089] InUse at 7f8ecbd5e500 of size 256 next 124\n",
      "2023-05-07 07:56:19.515729: I tensorflow/core/common_runtime/bfc_allocator.cc:1089] InUse at 7f8ecbd5e600 of size 256 next 125\n",
      "2023-05-07 07:56:19.515733: I tensorflow/core/common_runtime/bfc_allocator.cc:1089] InUse at 7f8ecbd5e700 of size 256 next 126\n",
      "2023-05-07 07:56:19.515737: I tensorflow/core/common_runtime/bfc_allocator.cc:1089] InUse at 7f8ecbd5e800 of size 256 next 127\n",
      "2023-05-07 07:56:19.515741: I tensorflow/core/common_runtime/bfc_allocator.cc:1089] InUse at 7f8ecbd5e900 of size 256 next 128\n",
      "2023-05-07 07:56:19.515746: I tensorflow/core/common_runtime/bfc_allocator.cc:1089] InUse at 7f8ecbd5ea00 of size 256 next 129\n",
      "2023-05-07 07:56:19.515752: I tensorflow/core/common_runtime/bfc_allocator.cc:1089] InUse at 7f8ecbd5eb00 of size 256 next 130\n",
      "2023-05-07 07:56:19.515758: I tensorflow/core/common_runtime/bfc_allocator.cc:1089] InUse at 7f8ecbd5ec00 of size 256 next 131\n",
      "2023-05-07 07:56:19.515763: I tensorflow/core/common_runtime/bfc_allocator.cc:1089] InUse at 7f8ecbd5ed00 of size 256 next 132\n",
      "2023-05-07 07:56:19.515769: I tensorflow/core/common_runtime/bfc_allocator.cc:1089] InUse at 7f8ecbd5ee00 of size 256 next 133\n",
      "2023-05-07 07:56:19.515773: I tensorflow/core/common_runtime/bfc_allocator.cc:1089] InUse at 7f8ecbd5ef00 of size 256 next 134\n",
      "2023-05-07 07:56:19.515784: I tensorflow/core/common_runtime/bfc_allocator.cc:1089] InUse at 7f8ecbd5f000 of size 256 next 135\n",
      "2023-05-07 07:56:19.515788: I tensorflow/core/common_runtime/bfc_allocator.cc:1089] InUse at 7f8ecbd5f100 of size 256 next 136\n",
      "2023-05-07 07:56:19.515794: I tensorflow/core/common_runtime/bfc_allocator.cc:1089] InUse at 7f8ecbd5f200 of size 256 next 137\n",
      "2023-05-07 07:56:19.515801: I tensorflow/core/common_runtime/bfc_allocator.cc:1089] InUse at 7f8ecbd5f300 of size 2048 next 138\n",
      "2023-05-07 07:56:19.515805: I tensorflow/core/common_runtime/bfc_allocator.cc:1089] InUse at 7f8ecbd5fb00 of size 1024 next 139\n",
      "2023-05-07 07:56:19.515809: I tensorflow/core/common_runtime/bfc_allocator.cc:1089] InUse at 7f8ecbd5ff00 of size 512 next 140\n",
      "2023-05-07 07:56:19.515814: I tensorflow/core/common_runtime/bfc_allocator.cc:1089] InUse at 7f8ecbd60100 of size 6553600 next 141\n",
      "2023-05-07 07:56:19.515819: I tensorflow/core/common_runtime/bfc_allocator.cc:1089] InUse at 7f8ecc3a0100 of size 3737600 next 142\n",
      "2023-05-07 07:56:19.515824: I tensorflow/core/common_runtime/bfc_allocator.cc:1089] InUse at 7f8ecc730900 of size 1179648 next 143\n",
      "2023-05-07 07:56:19.515830: I tensorflow/core/common_runtime/bfc_allocator.cc:1089] InUse at 7f8ecc850900 of size 589824 next 144\n",
      "2023-05-07 07:56:19.515833: I tensorflow/core/common_runtime/bfc_allocator.cc:1089] InUse at 7f8ecc8e0900 of size 8192 next 145\n",
      "2023-05-07 07:56:19.515837: I tensorflow/core/common_runtime/bfc_allocator.cc:1089] InUse at 7f8ecc8e2900 of size 256 next 146\n",
      "2023-05-07 07:56:19.515842: I tensorflow/core/common_runtime/bfc_allocator.cc:1089] InUse at 7f8ecc8e2a00 of size 4096 next 147\n",
      "2023-05-07 07:56:19.515848: I tensorflow/core/common_runtime/bfc_allocator.cc:1089] InUse at 7f8ecc8e3a00 of size 131072 next 148\n",
      "2023-05-07 07:56:19.515853: I tensorflow/core/common_runtime/bfc_allocator.cc:1089] InUse at 7f8ecc903a00 of size 256 next 149\n",
      "2023-05-07 07:56:19.515859: I tensorflow/core/common_runtime/bfc_allocator.cc:1089] InUse at 7f8ecc903b00 of size 256 next 150\n",
      "2023-05-07 07:56:19.515864: I tensorflow/core/common_runtime/bfc_allocator.cc:1089] InUse at 7f8ecc903c00 of size 65536 next 151\n",
      "2023-05-07 07:56:19.515869: I tensorflow/core/common_runtime/bfc_allocator.cc:1089] InUse at 7f8ecc913c00 of size 256 next 152\n",
      "2023-05-07 07:56:19.515875: I tensorflow/core/common_runtime/bfc_allocator.cc:1089] InUse at 7f8ecc913d00 of size 7567558656 next 160\n",
      "2023-05-07 07:56:19.515881: I tensorflow/core/common_runtime/bfc_allocator.cc:1089] InUse at 7f908fa10500 of size 934400 next 164\n",
      "2023-05-07 07:56:19.515886: I tensorflow/core/common_runtime/bfc_allocator.cc:1089] InUse at 7f908faf4700 of size 934400 next 165\n",
      "2023-05-07 07:56:19.515892: I tensorflow/core/common_runtime/bfc_allocator.cc:1089] InUse at 7f908fbd8900 of size 934400 next 166\n",
      "2023-05-07 07:56:19.515896: I tensorflow/core/common_runtime/bfc_allocator.cc:1089] InUse at 7f908fcbcb00 of size 934400 next 167\n",
      "2023-05-07 07:56:19.515900: I tensorflow/core/common_runtime/bfc_allocator.cc:1089] InUse at 7f908fda0d00 of size 934400 next 168\n",
      "2023-05-07 07:56:19.515905: I tensorflow/core/common_runtime/bfc_allocator.cc:1089] InUse at 7f908fe84f00 of size 1638400 next 169\n",
      "2023-05-07 07:56:19.515911: I tensorflow/core/common_runtime/bfc_allocator.cc:1089] InUse at 7f9090014f00 of size 1638400 next 170\n",
      "2023-05-07 07:56:19.515916: I tensorflow/core/common_runtime/bfc_allocator.cc:1089] InUse at 7f90901a4f00 of size 1638400 next 171\n",
      "2023-05-07 07:56:19.515921: I tensorflow/core/common_runtime/bfc_allocator.cc:1089] InUse at 7f9090334f00 of size 1638400 next 172\n",
      "2023-05-07 07:56:19.515926: I tensorflow/core/common_runtime/bfc_allocator.cc:1089] InUse at 7f90904c4f00 of size 934400 next 175\n",
      "2023-05-07 07:56:19.515931: I tensorflow/core/common_runtime/bfc_allocator.cc:1089] InUse at 7f90905a9100 of size 934400 next 176\n",
      "2023-05-07 07:56:19.515937: I tensorflow/core/common_runtime/bfc_allocator.cc:1089] InUse at 7f909068d300 of size 934400 next 174\n",
      "2023-05-07 07:56:19.515943: I tensorflow/core/common_runtime/bfc_allocator.cc:1089] InUse at 7f9090771500 of size 1638400 next 179\n",
      "2023-05-07 07:56:19.515948: I tensorflow/core/common_runtime/bfc_allocator.cc:1089] InUse at 7f9090901500 of size 1638400 next 162\n",
      "2023-05-07 07:56:19.515954: I tensorflow/core/common_runtime/bfc_allocator.cc:1089] InUse at 7f9090a91500 of size 1638400 next 183\n",
      "2023-05-07 07:56:19.515959: I tensorflow/core/common_runtime/bfc_allocator.cc:1089] InUse at 7f9090c21500 of size 1638400 next 184\n",
      "2023-05-07 07:56:19.515965: I tensorflow/core/common_runtime/bfc_allocator.cc:1089] Free  at 7f9090db1500 of size 1043605760 next 153\n",
      "2023-05-07 07:56:19.515969: I tensorflow/core/common_runtime/bfc_allocator.cc:1089] InUse at 7f90cf0f3e00 of size 118243328 next 154\n",
      "2023-05-07 07:56:19.515973: I tensorflow/core/common_runtime/bfc_allocator.cc:1089] InUse at 7f90d61b7e00 of size 118243328 next 155\n",
      "2023-05-07 07:56:19.515977: I tensorflow/core/common_runtime/bfc_allocator.cc:1089] InUse at 7f90dd27be00 of size 256 next 156\n",
      "2023-05-07 07:56:19.515983: I tensorflow/core/common_runtime/bfc_allocator.cc:1089] InUse at 7f90dd27bf00 of size 256 next 157\n",
      "2023-05-07 07:56:19.515988: I tensorflow/core/common_runtime/bfc_allocator.cc:1089] InUse at 7f90dd27c000 of size 4315873536 next 177\n",
      "2023-05-07 07:56:19.515994: I tensorflow/core/common_runtime/bfc_allocator.cc:1089] InUse at 7f91de66c100 of size 7567558656 next 158\n",
      "2023-05-07 07:56:19.515999: I tensorflow/core/common_runtime/bfc_allocator.cc:1089] Free  at 7f93a1768900 of size 5380061440 next 159\n",
      "2023-05-07 07:56:19.516005: I tensorflow/core/common_runtime/bfc_allocator.cc:1089] InUse at 7f94e223c200 of size 4315873536 next 161\n",
      "2023-05-07 07:56:19.516011: I tensorflow/core/common_runtime/bfc_allocator.cc:1089] InUse at 7f95e362c300 of size 4315873536 next 163\n",
      "2023-05-07 07:56:19.516016: I tensorflow/core/common_runtime/bfc_allocator.cc:1089] InUse at 7f96e4a1c400 of size 7567558656 next 178\n",
      "2023-05-07 07:56:19.516022: I tensorflow/core/common_runtime/bfc_allocator.cc:1089] InUse at 7f98a7b18c00 of size 7567558656 next 180\n",
      "2023-05-07 07:56:19.516027: I tensorflow/core/common_runtime/bfc_allocator.cc:1089] InUse at 7f9a6ac15400 of size 7567558656 next 182\n",
      "2023-05-07 07:56:19.516032: I tensorflow/core/common_runtime/bfc_allocator.cc:1089] InUse at 7f9c2dd11c00 of size 7567558656 next 181\n",
      "2023-05-07 07:56:19.516037: I tensorflow/core/common_runtime/bfc_allocator.cc:1089] InUse at 7f9df0e0e400 of size 7567558656 next 173\n",
      "2023-05-07 07:56:19.516041: I tensorflow/core/common_runtime/bfc_allocator.cc:1089] Free  at 7f9fb3f0ac00 of size 1297372160 next 18446744073709551615\n",
      "2023-05-07 07:56:19.516045: I tensorflow/core/common_runtime/bfc_allocator.cc:1094]      Summary of in-use Chunks by size: \n",
      "2023-05-07 07:56:19.516050: I tensorflow/core/common_runtime/bfc_allocator.cc:1097] 92 Chunks of size 256 totalling 23.0KiB\n",
      "2023-05-07 07:56:19.516055: I tensorflow/core/common_runtime/bfc_allocator.cc:1097] 12 Chunks of size 512 totalling 6.0KiB\n",
      "2023-05-07 07:56:19.516059: I tensorflow/core/common_runtime/bfc_allocator.cc:1097] 4 Chunks of size 1024 totalling 4.0KiB\n",
      "2023-05-07 07:56:19.516063: I tensorflow/core/common_runtime/bfc_allocator.cc:1097] 1 Chunks of size 1280 totalling 1.2KiB\n",
      "2023-05-07 07:56:19.516068: I tensorflow/core/common_runtime/bfc_allocator.cc:1097] 3 Chunks of size 1792 totalling 5.2KiB\n",
      "2023-05-07 07:56:19.516072: I tensorflow/core/common_runtime/bfc_allocator.cc:1097] 4 Chunks of size 2048 totalling 8.0KiB\n",
      "2023-05-07 07:56:19.516076: I tensorflow/core/common_runtime/bfc_allocator.cc:1097] 1 Chunks of size 3584 totalling 3.5KiB\n",
      "2023-05-07 07:56:19.516081: I tensorflow/core/common_runtime/bfc_allocator.cc:1097] 3 Chunks of size 4096 totalling 12.0KiB\n",
      "2023-05-07 07:56:19.516085: I tensorflow/core/common_runtime/bfc_allocator.cc:1097] 1 Chunks of size 7424 totalling 7.2KiB\n",
      "2023-05-07 07:56:19.516089: I tensorflow/core/common_runtime/bfc_allocator.cc:1097] 3 Chunks of size 8192 totalling 24.0KiB\n",
      "2023-05-07 07:56:19.516093: I tensorflow/core/common_runtime/bfc_allocator.cc:1097] 1 Chunks of size 14848 totalling 14.5KiB\n",
      "2023-05-07 07:56:19.516098: I tensorflow/core/common_runtime/bfc_allocator.cc:1097] 1 Chunks of size 32768 totalling 32.0KiB\n",
      "2023-05-07 07:56:19.516102: I tensorflow/core/common_runtime/bfc_allocator.cc:1097] 4 Chunks of size 65536 totalling 256.0KiB\n",
      "2023-05-07 07:56:19.516106: I tensorflow/core/common_runtime/bfc_allocator.cc:1097] 3 Chunks of size 131072 totalling 384.0KiB\n",
      "2023-05-07 07:56:19.516111: I tensorflow/core/common_runtime/bfc_allocator.cc:1097] 1 Chunks of size 131328 totalling 128.2KiB\n",
      "2023-05-07 07:56:19.516115: I tensorflow/core/common_runtime/bfc_allocator.cc:1097] 1 Chunks of size 294912 totalling 288.0KiB\n",
      "2023-05-07 07:56:19.516119: I tensorflow/core/common_runtime/bfc_allocator.cc:1097] 3 Chunks of size 589824 totalling 1.69MiB\n",
      "2023-05-07 07:56:19.516124: I tensorflow/core/common_runtime/bfc_allocator.cc:1097] 1 Chunks of size 590080 totalling 576.2KiB\n",
      "2023-05-07 07:56:19.516128: I tensorflow/core/common_runtime/bfc_allocator.cc:1097] 9 Chunks of size 934400 totalling 8.02MiB\n",
      "2023-05-07 07:56:19.516132: I tensorflow/core/common_runtime/bfc_allocator.cc:1097] 3 Chunks of size 1179648 totalling 3.38MiB\n",
      "2023-05-07 07:56:19.516136: I tensorflow/core/common_runtime/bfc_allocator.cc:1097] 1 Chunks of size 1373440 totalling 1.31MiB\n",
      "2023-05-07 07:56:19.516141: I tensorflow/core/common_runtime/bfc_allocator.cc:1097] 8 Chunks of size 1638400 totalling 12.50MiB\n",
      "2023-05-07 07:56:19.516145: I tensorflow/core/common_runtime/bfc_allocator.cc:1097] 3 Chunks of size 3737600 totalling 10.69MiB\n",
      "2023-05-07 07:56:19.516149: I tensorflow/core/common_runtime/bfc_allocator.cc:1097] 1 Chunks of size 3930624 totalling 3.75MiB\n",
      "2023-05-07 07:56:19.516153: I tensorflow/core/common_runtime/bfc_allocator.cc:1097] 4 Chunks of size 6553600 totalling 25.00MiB\n",
      "2023-05-07 07:56:19.516158: I tensorflow/core/common_runtime/bfc_allocator.cc:1097] 3 Chunks of size 118243328 totalling 338.30MiB\n",
      "2023-05-07 07:56:19.516165: I tensorflow/core/common_runtime/bfc_allocator.cc:1097] 3 Chunks of size 4315873536 totalling 12.06GiB\n",
      "2023-05-07 07:56:19.516171: I tensorflow/core/common_runtime/bfc_allocator.cc:1097] 7 Chunks of size 7567558656 totalling 49.33GiB\n",
      "2023-05-07 07:56:19.516177: I tensorflow/core/common_runtime/bfc_allocator.cc:1097] 1 Chunks of size 8631746816 totalling 8.04GiB\n",
      "2023-05-07 07:56:19.516182: I tensorflow/core/common_runtime/bfc_allocator.cc:1101] Sum Total of in-use chunks: 69.83GiB\n",
      "2023-05-07 07:56:19.516186: I tensorflow/core/common_runtime/bfc_allocator.cc:1103] total_region_allocated_bytes_: 82699419648 memory_limit_: 82699419648 available bytes: 0 curr_region_allocation_bytes_: 165398839296\n",
      "2023-05-07 07:56:19.516192: I tensorflow/core/common_runtime/bfc_allocator.cc:1109] Stats: \n",
      "Limit:                     82699419648\n",
      "InUse:                     74978380288\n",
      "MaxInUse:                  74978380288\n",
      "NumAllocs:                         294\n",
      "MaxAllocSize:               8631746816\n",
      "Reserved:                            0\n",
      "PeakReserved:                        0\n",
      "LargestFreeBlock:                    0\n",
      "\n",
      "2023-05-07 07:56:19.516201: W tensorflow/core/common_runtime/bfc_allocator.cc:491] ********************_***************______*********************************************************_\n",
      "2023-05-07 07:56:19.516212: W tensorflow/core/framework/op_kernel.cc:1780] OP_REQUIRES failed at conv_ops.cc:686 : RESOURCE_EXHAUSTED: OOM when allocating tensor with shape[12,128,1253,983] and type float on /job:localhost/replica:0/task:0/device:GPU:0 by allocator GPU_0_bfc\n"
     ]
    },
    {
     "name": "stderr",
     "output_type": "stream",
     "text": [
      "2023-05-07 07:56:28.233887: W tensorflow/core/common_runtime/bfc_allocator.cc:479] Allocator (GPU_0_bfc) ran out of memory trying to allocate 7.05GiB (rounded to 7567558656)requested by op sequential/conv_lstm2d/while/body/_1/sequential/conv_lstm2d/while/convolution_1\n",
      "If the cause is memory fragmentation maybe the environment variable 'TF_GPU_ALLOCATOR=cuda_malloc_async' will improve the situation. \n",
      "Current allocation summary follows.\n",
      "Current allocation summary follows.\n",
      "2023-05-07 07:56:28.233928: I tensorflow/core/common_runtime/bfc_allocator.cc:1033] BFCAllocator dump for GPU_0_bfc\n",
      "2023-05-07 07:56:28.233935: I tensorflow/core/common_runtime/bfc_allocator.cc:1040] Bin (256): \tTotal Chunks: 92, Chunks in use: 92. 23.0KiB allocated for chunks. 23.0KiB in use in bin. 4.3KiB client-requested in use in bin.\n",
      "2023-05-07 07:56:28.233941: I tensorflow/core/common_runtime/bfc_allocator.cc:1040] Bin (512): \tTotal Chunks: 12, Chunks in use: 12. 6.0KiB allocated for chunks. 6.0KiB in use in bin. 6.0KiB client-requested in use in bin.\n",
      "2023-05-07 07:56:28.233947: I tensorflow/core/common_runtime/bfc_allocator.cc:1040] Bin (1024): \tTotal Chunks: 8, Chunks in use: 8. 10.5KiB allocated for chunks. 10.5KiB in use in bin. 10.1KiB client-requested in use in bin.\n",
      "2023-05-07 07:56:28.233953: I tensorflow/core/common_runtime/bfc_allocator.cc:1040] Bin (2048): \tTotal Chunks: 5, Chunks in use: 5. 11.5KiB allocated for chunks. 11.5KiB in use in bin. 10.0KiB client-requested in use in bin.\n",
      "2023-05-07 07:56:28.233959: I tensorflow/core/common_runtime/bfc_allocator.cc:1040] Bin (4096): \tTotal Chunks: 4, Chunks in use: 4. 19.2KiB allocated for chunks. 19.2KiB in use in bin. 16.0KiB client-requested in use in bin.\n",
      "2023-05-07 07:56:28.233965: I tensorflow/core/common_runtime/bfc_allocator.cc:1040] Bin (8192): \tTotal Chunks: 4, Chunks in use: 4. 38.5KiB allocated for chunks. 38.5KiB in use in bin. 32.0KiB client-requested in use in bin.\n",
      "2023-05-07 07:56:28.233971: I tensorflow/core/common_runtime/bfc_allocator.cc:1040] Bin (16384): \tTotal Chunks: 0, Chunks in use: 0. 0B allocated for chunks. 0B in use in bin. 0B client-requested in use in bin.\n",
      "2023-05-07 07:56:28.233977: I tensorflow/core/common_runtime/bfc_allocator.cc:1040] Bin (32768): \tTotal Chunks: 1, Chunks in use: 1. 32.0KiB allocated for chunks. 32.0KiB in use in bin. 32.0KiB client-requested in use in bin.\n",
      "2023-05-07 07:56:28.233983: I tensorflow/core/common_runtime/bfc_allocator.cc:1040] Bin (65536): \tTotal Chunks: 4, Chunks in use: 4. 256.0KiB allocated for chunks. 256.0KiB in use in bin. 256.0KiB client-requested in use in bin.\n",
      "2023-05-07 07:56:28.233989: I tensorflow/core/common_runtime/bfc_allocator.cc:1040] Bin (131072): \tTotal Chunks: 4, Chunks in use: 4. 512.2KiB allocated for chunks. 512.2KiB in use in bin. 512.0KiB client-requested in use in bin.\n",
      "2023-05-07 07:56:28.233995: I tensorflow/core/common_runtime/bfc_allocator.cc:1040] Bin (262144): \tTotal Chunks: 1, Chunks in use: 1. 288.0KiB allocated for chunks. 288.0KiB in use in bin. 288.0KiB client-requested in use in bin.\n",
      "2023-05-07 07:56:28.234001: I tensorflow/core/common_runtime/bfc_allocator.cc:1040] Bin (524288): \tTotal Chunks: 13, Chunks in use: 13. 10.27MiB allocated for chunks. 10.27MiB in use in bin. 10.27MiB client-requested in use in bin.\n",
      "2023-05-07 07:56:28.234007: I tensorflow/core/common_runtime/bfc_allocator.cc:1040] Bin (1048576): \tTotal Chunks: 12, Chunks in use: 12. 17.18MiB allocated for chunks. 17.18MiB in use in bin. 17.00MiB client-requested in use in bin.\n",
      "2023-05-07 07:56:28.234013: I tensorflow/core/common_runtime/bfc_allocator.cc:1040] Bin (2097152): \tTotal Chunks: 4, Chunks in use: 4. 14.44MiB allocated for chunks. 14.44MiB in use in bin. 14.26MiB client-requested in use in bin.\n",
      "2023-05-07 07:56:28.234019: I tensorflow/core/common_runtime/bfc_allocator.cc:1040] Bin (4194304): \tTotal Chunks: 4, Chunks in use: 4. 25.00MiB allocated for chunks. 25.00MiB in use in bin. 25.00MiB client-requested in use in bin.\n",
      "2023-05-07 07:56:28.234024: I tensorflow/core/common_runtime/bfc_allocator.cc:1040] Bin (8388608): \tTotal Chunks: 0, Chunks in use: 0. 0B allocated for chunks. 0B in use in bin. 0B client-requested in use in bin.\n",
      "2023-05-07 07:56:28.234029: I tensorflow/core/common_runtime/bfc_allocator.cc:1040] Bin (16777216): \tTotal Chunks: 0, Chunks in use: 0. 0B allocated for chunks. 0B in use in bin. 0B client-requested in use in bin.\n",
      "2023-05-07 07:56:28.234034: I tensorflow/core/common_runtime/bfc_allocator.cc:1040] Bin (33554432): \tTotal Chunks: 0, Chunks in use: 0. 0B allocated for chunks. 0B in use in bin. 0B client-requested in use in bin.\n",
      "2023-05-07 07:56:28.234046: I tensorflow/core/common_runtime/bfc_allocator.cc:1040] Bin (67108864): \tTotal Chunks: 3, Chunks in use: 3. 338.30MiB allocated for chunks. 338.30MiB in use in bin. 338.30MiB client-requested in use in bin.\n",
      "2023-05-07 07:56:28.234052: I tensorflow/core/common_runtime/bfc_allocator.cc:1040] Bin (134217728): \tTotal Chunks: 0, Chunks in use: 0. 0B allocated for chunks. 0B in use in bin. 0B client-requested in use in bin.\n",
      "2023-05-07 07:56:28.234058: I tensorflow/core/common_runtime/bfc_allocator.cc:1040] Bin (268435456): \tTotal Chunks: 14, Chunks in use: 11. 76.62GiB allocated for chunks. 69.43GiB in use in bin. 69.43GiB client-requested in use in bin.\n",
      "2023-05-07 07:56:28.234063: I tensorflow/core/common_runtime/bfc_allocator.cc:1056] Bin for 7.05GiB was 256.00MiB, Chunk State: \n",
      "2023-05-07 07:56:28.234072: I tensorflow/core/common_runtime/bfc_allocator.cc:1062]   Size: 995.26MiB | Requested Size: 0B | in_use: 0 | bin_num: 20, prev:   Size: 1.56MiB | Requested Size: 1.56MiB | in_use: 1 | bin_num: -1, next:   Size: 112.77MiB | Requested Size: 112.76MiB | in_use: 1 | bin_num: -1\n",
      "2023-05-07 07:56:28.234078: I tensorflow/core/common_runtime/bfc_allocator.cc:1062]   Size: 1.21GiB | Requested Size: 512B | in_use: 0 | bin_num: 20, prev:   Size: 7.05GiB | Requested Size: 7.05GiB | in_use: 1 | bin_num: -1\n",
      "2023-05-07 07:56:28.234085: I tensorflow/core/common_runtime/bfc_allocator.cc:1062]   Size: 5.01GiB | Requested Size: 4.02GiB | in_use: 0 | bin_num: 20, prev:   Size: 7.05GiB | Requested Size: 7.05GiB | in_use: 1 | bin_num: -1, next:   Size: 4.02GiB | Requested Size: 4.02GiB | in_use: 1 | bin_num: -1\n",
      "2023-05-07 07:56:28.234089: I tensorflow/core/common_runtime/bfc_allocator.cc:1069] Next region of size 82699419648\n",
      "2023-05-07 07:56:28.234095: I tensorflow/core/common_runtime/bfc_allocator.cc:1089] InUse at 7f8cc0000000 of size 256 next 1\n",
      "2023-05-07 07:56:28.234099: I tensorflow/core/common_runtime/bfc_allocator.cc:1089] InUse at 7f8cc0000100 of size 1280 next 2\n",
      "2023-05-07 07:56:28.234104: I tensorflow/core/common_runtime/bfc_allocator.cc:1089] InUse at 7f8cc0000600 of size 256 next 3\n",
      "2023-05-07 07:56:28.234108: I tensorflow/core/common_runtime/bfc_allocator.cc:1089] InUse at 7f8cc0000700 of size 256 next 4\n",
      "2023-05-07 07:56:28.234112: I tensorflow/core/common_runtime/bfc_allocator.cc:1089] InUse at 7f8cc0000800 of size 256 next 6\n",
      "2023-05-07 07:56:28.234116: I tensorflow/core/common_runtime/bfc_allocator.cc:1089] InUse at 7f8cc0000900 of size 256 next 7\n",
      "2023-05-07 07:56:28.234120: I tensorflow/core/common_runtime/bfc_allocator.cc:1089] InUse at 7f8cc0000a00 of size 256 next 8\n",
      "2023-05-07 07:56:28.234125: I tensorflow/core/common_runtime/bfc_allocator.cc:1089] InUse at 7f8cc0000b00 of size 512 next 5\n",
      "2023-05-07 07:56:28.234129: I tensorflow/core/common_runtime/bfc_allocator.cc:1089] InUse at 7f8cc0000d00 of size 256 next 12\n",
      "2023-05-07 07:56:28.234133: I tensorflow/core/common_runtime/bfc_allocator.cc:1089] InUse at 7f8cc0000e00 of size 512 next 14\n",
      "2023-05-07 07:56:28.234138: I tensorflow/core/common_runtime/bfc_allocator.cc:1089] InUse at 7f8cc0001000 of size 512 next 16\n",
      "2023-05-07 07:56:28.234142: I tensorflow/core/common_runtime/bfc_allocator.cc:1089] InUse at 7f8cc0001200 of size 512 next 13\n",
      "2023-05-07 07:56:28.234146: I tensorflow/core/common_runtime/bfc_allocator.cc:1089] InUse at 7f8cc0001400 of size 2048 next 15\n",
      "2023-05-07 07:56:28.234150: I tensorflow/core/common_runtime/bfc_allocator.cc:1089] InUse at 7f8cc0001c00 of size 256 next 17\n",
      "2023-05-07 07:56:28.234154: I tensorflow/core/common_runtime/bfc_allocator.cc:1089] InUse at 7f8cc0001d00 of size 256 next 18\n",
      "2023-05-07 07:56:28.234159: I tensorflow/core/common_runtime/bfc_allocator.cc:1089] InUse at 7f8cc0001e00 of size 256 next 21\n",
      "2023-05-07 07:56:28.234163: I tensorflow/core/common_runtime/bfc_allocator.cc:1089] InUse at 7f8cc0001f00 of size 256 next 19\n",
      "2023-05-07 07:56:28.234168: I tensorflow/core/common_runtime/bfc_allocator.cc:1089] InUse at 7f8cc0002000 of size 256 next 26\n",
      "2023-05-07 07:56:28.234172: I tensorflow/core/common_runtime/bfc_allocator.cc:1089] InUse at 7f8cc0002100 of size 256 next 20\n",
      "2023-05-07 07:56:28.234176: I tensorflow/core/common_runtime/bfc_allocator.cc:1089] InUse at 7f8cc0002200 of size 1024 next 22\n",
      "2023-05-07 07:56:28.234180: I tensorflow/core/common_runtime/bfc_allocator.cc:1089] InUse at 7f8cc0002600 of size 256 next 27\n",
      "2023-05-07 07:56:28.234184: I tensorflow/core/common_runtime/bfc_allocator.cc:1089] InUse at 7f8cc0002700 of size 256 next 28\n",
      "2023-05-07 07:56:28.234189: I tensorflow/core/common_runtime/bfc_allocator.cc:1089] InUse at 7f8cc0002800 of size 256 next 31\n",
      "2023-05-07 07:56:28.234193: I tensorflow/core/common_runtime/bfc_allocator.cc:1089] InUse at 7f8cc0002900 of size 256 next 36\n",
      "2023-05-07 07:56:28.234197: I tensorflow/core/common_runtime/bfc_allocator.cc:1089] InUse at 7f8cc0002a00 of size 256 next 35\n",
      "2023-05-07 07:56:28.234201: I tensorflow/core/common_runtime/bfc_allocator.cc:1089] InUse at 7f8cc0002b00 of size 512 next 30\n",
      "2023-05-07 07:56:28.234205: I tensorflow/core/common_runtime/bfc_allocator.cc:1089] InUse at 7f8cc0002d00 of size 256 next 37\n",
      "2023-05-07 07:56:28.234209: I tensorflow/core/common_runtime/bfc_allocator.cc:1089] InUse at 7f8cc0002e00 of size 256 next 38\n",
      "2023-05-07 07:56:28.234213: I tensorflow/core/common_runtime/bfc_allocator.cc:1089] InUse at 7f8cc0002f00 of size 256 next 39\n",
      "2023-05-07 07:56:28.234218: I tensorflow/core/common_runtime/bfc_allocator.cc:1089] InUse at 7f8cc0003000 of size 256 next 42\n",
      "2023-05-07 07:56:28.234222: I tensorflow/core/common_runtime/bfc_allocator.cc:1089] InUse at 7f8cc0003100 of size 256 next 48\n",
      "2023-05-07 07:56:28.234226: I tensorflow/core/common_runtime/bfc_allocator.cc:1089] InUse at 7f8cc0003200 of size 256 next 41\n",
      "2023-05-07 07:56:28.234230: I tensorflow/core/common_runtime/bfc_allocator.cc:1089] InUse at 7f8cc0003300 of size 256 next 47\n",
      "2023-05-07 07:56:28.234234: I tensorflow/core/common_runtime/bfc_allocator.cc:1089] InUse at 7f8cc0003400 of size 256 next 40\n",
      "2023-05-07 07:56:28.234238: I tensorflow/core/common_runtime/bfc_allocator.cc:1089] InUse at 7f8cc0003500 of size 7424 next 43\n",
      "2023-05-07 07:56:28.234243: I tensorflow/core/common_runtime/bfc_allocator.cc:1089] InUse at 7f8cc0005200 of size 256 next 62\n",
      "2023-05-07 07:56:28.234247: I tensorflow/core/common_runtime/bfc_allocator.cc:1089] InUse at 7f8cc0005300 of size 3584 next 50\n",
      "2023-05-07 07:56:28.234251: I tensorflow/core/common_runtime/bfc_allocator.cc:1089] InUse at 7f8cc0006100 of size 1792 next 51\n",
      "2023-05-07 07:56:28.234256: I tensorflow/core/common_runtime/bfc_allocator.cc:1089] InUse at 7f8cc0006800 of size 256 next 46\n",
      "2023-05-07 07:56:28.234260: I tensorflow/core/common_runtime/bfc_allocator.cc:1089] InUse at 7f8cc0006900 of size 256 next 49\n",
      "2023-05-07 07:56:28.234264: I tensorflow/core/common_runtime/bfc_allocator.cc:1089] InUse at 7f8cc0006a00 of size 256 next 52\n",
      "2023-05-07 07:56:28.234268: I tensorflow/core/common_runtime/bfc_allocator.cc:1089] InUse at 7f8cc0006b00 of size 256 next 53\n",
      "2023-05-07 07:56:28.234272: I tensorflow/core/common_runtime/bfc_allocator.cc:1089] InUse at 7f8cc0006c00 of size 256 next 56\n",
      "2023-05-07 07:56:28.234276: I tensorflow/core/common_runtime/bfc_allocator.cc:1089] InUse at 7f8cc0006d00 of size 256 next 57\n",
      "2023-05-07 07:56:28.234280: I tensorflow/core/common_runtime/bfc_allocator.cc:1089] InUse at 7f8cc0006e00 of size 256 next 58\n",
      "2023-05-07 07:56:28.234285: I tensorflow/core/common_runtime/bfc_allocator.cc:1089] InUse at 7f8cc0006f00 of size 256 next 59\n",
      "2023-05-07 07:56:28.234289: I tensorflow/core/common_runtime/bfc_allocator.cc:1089] InUse at 7f8cc0007000 of size 256 next 60\n",
      "2023-05-07 07:56:28.234293: I tensorflow/core/common_runtime/bfc_allocator.cc:1089] InUse at 7f8cc0007100 of size 256 next 61\n",
      "2023-05-07 07:56:28.234297: I tensorflow/core/common_runtime/bfc_allocator.cc:1089] InUse at 7f8cc0007200 of size 256 next 44\n",
      "2023-05-07 07:56:28.234301: I tensorflow/core/common_runtime/bfc_allocator.cc:1089] InUse at 7f8cc0007300 of size 8192 next 45\n",
      "2023-05-07 07:56:28.234306: I tensorflow/core/common_runtime/bfc_allocator.cc:1089] InUse at 7f8cc0009300 of size 512 next 64\n",
      "2023-05-07 07:56:28.234310: I tensorflow/core/common_runtime/bfc_allocator.cc:1089] InUse at 7f8cc0009500 of size 512 next 65\n",
      "2023-05-07 07:56:28.234314: I tensorflow/core/common_runtime/bfc_allocator.cc:1089] InUse at 7f8cc0009700 of size 1024 next 67\n",
      "2023-05-07 07:56:28.234318: I tensorflow/core/common_runtime/bfc_allocator.cc:1089] InUse at 7f8cc0009b00 of size 256 next 68\n",
      "2023-05-07 07:56:28.234323: I tensorflow/core/common_runtime/bfc_allocator.cc:1089] InUse at 7f8cc0009c00 of size 256 next 69\n",
      "2023-05-07 07:56:28.234327: I tensorflow/core/common_runtime/bfc_allocator.cc:1089] InUse at 7f8cc0009d00 of size 512 next 71\n",
      "2023-05-07 07:56:28.234331: I tensorflow/core/common_runtime/bfc_allocator.cc:1089] InUse at 7f8cc0009f00 of size 256 next 72\n",
      "2023-05-07 07:56:28.234335: I tensorflow/core/common_runtime/bfc_allocator.cc:1089] InUse at 7f8cc000a000 of size 256 next 73\n",
      "2023-05-07 07:56:28.234339: I tensorflow/core/common_runtime/bfc_allocator.cc:1089] InUse at 7f8cc000a100 of size 8192 next 74\n",
      "2023-05-07 07:56:28.234354: I tensorflow/core/common_runtime/bfc_allocator.cc:1089] InUse at 7f8cc000c100 of size 4096 next 75\n",
      "2023-05-07 07:56:28.234359: I tensorflow/core/common_runtime/bfc_allocator.cc:1089] InUse at 7f8cc000d100 of size 256 next 76\n",
      "2023-05-07 07:56:28.234363: I tensorflow/core/common_runtime/bfc_allocator.cc:1089] InUse at 7f8cc000d200 of size 1792 next 77\n",
      "2023-05-07 07:56:28.234368: I tensorflow/core/common_runtime/bfc_allocator.cc:1089] InUse at 7f8cc000d900 of size 256 next 78\n",
      "2023-05-07 07:56:28.234372: I tensorflow/core/common_runtime/bfc_allocator.cc:1089] InUse at 7f8cc000da00 of size 2048 next 81\n",
      "2023-05-07 07:56:28.234376: I tensorflow/core/common_runtime/bfc_allocator.cc:1089] InUse at 7f8cc000e200 of size 512 next 82\n",
      "2023-05-07 07:56:28.234380: I tensorflow/core/common_runtime/bfc_allocator.cc:1089] InUse at 7f8cc000e400 of size 512 next 83\n",
      "2023-05-07 07:56:28.234384: I tensorflow/core/common_runtime/bfc_allocator.cc:1089] InUse at 7f8cc000e600 of size 1024 next 86\n",
      "2023-05-07 07:56:28.234388: I tensorflow/core/common_runtime/bfc_allocator.cc:1089] InUse at 7f8cc000ea00 of size 256 next 87\n",
      "2023-05-07 07:56:28.234393: I tensorflow/core/common_runtime/bfc_allocator.cc:1089] InUse at 7f8cc000eb00 of size 256 next 88\n",
      "2023-05-07 07:56:28.234397: I tensorflow/core/common_runtime/bfc_allocator.cc:1089] InUse at 7f8cc000ec00 of size 512 next 91\n",
      "2023-05-07 07:56:28.234401: I tensorflow/core/common_runtime/bfc_allocator.cc:1089] InUse at 7f8cc000ee00 of size 256 next 92\n",
      "2023-05-07 07:56:28.234405: I tensorflow/core/common_runtime/bfc_allocator.cc:1089] InUse at 7f8cc000ef00 of size 256 next 93\n",
      "2023-05-07 07:56:28.234409: I tensorflow/core/common_runtime/bfc_allocator.cc:1089] InUse at 7f8cc000f000 of size 14848 next 29\n",
      "2023-05-07 07:56:28.234414: I tensorflow/core/common_runtime/bfc_allocator.cc:1089] InUse at 7f8cc0012a00 of size 65536 next 32\n",
      "2023-05-07 07:56:28.234418: I tensorflow/core/common_runtime/bfc_allocator.cc:1089] InUse at 7f8cc0022a00 of size 131328 next 33\n",
      "2023-05-07 07:56:28.234422: I tensorflow/core/common_runtime/bfc_allocator.cc:1089] InUse at 7f8cc0042b00 of size 131072 next 34\n",
      "2023-05-07 07:56:28.234427: I tensorflow/core/common_runtime/bfc_allocator.cc:1089] InUse at 7f8cc0062b00 of size 1373440 next 25\n",
      "2023-05-07 07:56:28.234431: I tensorflow/core/common_runtime/bfc_allocator.cc:1089] InUse at 7f8cc01b2000 of size 590080 next 23\n",
      "2023-05-07 07:56:28.234435: I tensorflow/core/common_runtime/bfc_allocator.cc:1089] InUse at 7f8cc0242100 of size 1179648 next 24\n",
      "2023-05-07 07:56:28.234440: I tensorflow/core/common_runtime/bfc_allocator.cc:1089] InUse at 7f8cc0362100 of size 3930624 next 9\n",
      "2023-05-07 07:56:28.234444: I tensorflow/core/common_runtime/bfc_allocator.cc:1089] InUse at 7f8cc0721b00 of size 3737600 next 10\n",
      "2023-05-07 07:56:28.234448: I tensorflow/core/common_runtime/bfc_allocator.cc:1089] InUse at 7f8cc0ab2300 of size 6553600 next 11\n",
      "2023-05-07 07:56:28.234453: I tensorflow/core/common_runtime/bfc_allocator.cc:1089] InUse at 7f8cc10f2300 of size 8631746816 next 54\n",
      "2023-05-07 07:56:28.234457: I tensorflow/core/common_runtime/bfc_allocator.cc:1089] InUse at 7f8ec38d2400 of size 118243328 next 55\n",
      "2023-05-07 07:56:28.234461: I tensorflow/core/common_runtime/bfc_allocator.cc:1089] InUse at 7f8eca996400 of size 6553600 next 63\n",
      "2023-05-07 07:56:28.234466: I tensorflow/core/common_runtime/bfc_allocator.cc:1089] InUse at 7f8ecafd6400 of size 589824 next 66\n",
      "2023-05-07 07:56:28.234470: I tensorflow/core/common_runtime/bfc_allocator.cc:1089] InUse at 7f8ecb066400 of size 65536 next 70\n",
      "2023-05-07 07:56:28.234474: I tensorflow/core/common_runtime/bfc_allocator.cc:1089] InUse at 7f8ecb076400 of size 3737600 next 79\n",
      "2023-05-07 07:56:28.234478: I tensorflow/core/common_runtime/bfc_allocator.cc:1089] InUse at 7f8ecb406c00 of size 6553600 next 80\n",
      "2023-05-07 07:56:28.234482: I tensorflow/core/common_runtime/bfc_allocator.cc:1089] InUse at 7f8ecba46c00 of size 1179648 next 84\n",
      "2023-05-07 07:56:28.234487: I tensorflow/core/common_runtime/bfc_allocator.cc:1089] InUse at 7f8ecbb66c00 of size 589824 next 85\n",
      "2023-05-07 07:56:28.234491: I tensorflow/core/common_runtime/bfc_allocator.cc:1089] InUse at 7f8ecbbf6c00 of size 131072 next 89\n",
      "2023-05-07 07:56:28.234495: I tensorflow/core/common_runtime/bfc_allocator.cc:1089] InUse at 7f8ecbc16c00 of size 65536 next 90\n",
      "2023-05-07 07:56:28.234499: I tensorflow/core/common_runtime/bfc_allocator.cc:1089] InUse at 7f8ecbc26c00 of size 4096 next 94\n",
      "2023-05-07 07:56:28.234503: I tensorflow/core/common_runtime/bfc_allocator.cc:1089] InUse at 7f8ecbc27c00 of size 256 next 95\n",
      "2023-05-07 07:56:28.234508: I tensorflow/core/common_runtime/bfc_allocator.cc:1089] InUse at 7f8ecbc27d00 of size 1792 next 96\n",
      "2023-05-07 07:56:28.234512: I tensorflow/core/common_runtime/bfc_allocator.cc:1089] InUse at 7f8ecbc28400 of size 256 next 97\n",
      "2023-05-07 07:56:28.234516: I tensorflow/core/common_runtime/bfc_allocator.cc:1089] InUse at 7f8ecbc28500 of size 256 next 98\n",
      "2023-05-07 07:56:28.234520: I tensorflow/core/common_runtime/bfc_allocator.cc:1089] InUse at 7f8ecbc28600 of size 256 next 99\n",
      "2023-05-07 07:56:28.234524: I tensorflow/core/common_runtime/bfc_allocator.cc:1089] InUse at 7f8ecbc28700 of size 256 next 100\n",
      "2023-05-07 07:56:28.234528: I tensorflow/core/common_runtime/bfc_allocator.cc:1089] InUse at 7f8ecbc28800 of size 256 next 101\n",
      "2023-05-07 07:56:28.234533: I tensorflow/core/common_runtime/bfc_allocator.cc:1089] InUse at 7f8ecbc28900 of size 256 next 102\n",
      "2023-05-07 07:56:28.234537: I tensorflow/core/common_runtime/bfc_allocator.cc:1089] InUse at 7f8ecbc28a00 of size 256 next 103\n",
      "2023-05-07 07:56:28.234541: I tensorflow/core/common_runtime/bfc_allocator.cc:1089] InUse at 7f8ecbc28b00 of size 2048 next 104\n",
      "2023-05-07 07:56:28.234545: I tensorflow/core/common_runtime/bfc_allocator.cc:1089] InUse at 7f8ecbc29300 of size 32768 next 105\n",
      "2023-05-07 07:56:28.234550: I tensorflow/core/common_runtime/bfc_allocator.cc:1089] InUse at 7f8ecbc31300 of size 294912 next 106\n",
      "2023-05-07 07:56:28.234554: I tensorflow/core/common_runtime/bfc_allocator.cc:1089] InUse at 7f8ecbc79300 of size 934400 next 107\n",
      "2023-05-07 07:56:28.234558: I tensorflow/core/common_runtime/bfc_allocator.cc:1089] InUse at 7f8ecbd5d500 of size 256 next 108\n",
      "2023-05-07 07:56:28.234562: I tensorflow/core/common_runtime/bfc_allocator.cc:1089] InUse at 7f8ecbd5d600 of size 256 next 109\n",
      "2023-05-07 07:56:28.234566: I tensorflow/core/common_runtime/bfc_allocator.cc:1089] InUse at 7f8ecbd5d700 of size 256 next 110\n",
      "2023-05-07 07:56:28.234571: I tensorflow/core/common_runtime/bfc_allocator.cc:1089] InUse at 7f8ecbd5d800 of size 256 next 111\n",
      "2023-05-07 07:56:28.234575: I tensorflow/core/common_runtime/bfc_allocator.cc:1089] InUse at 7f8ecbd5d900 of size 256 next 112\n",
      "2023-05-07 07:56:28.234579: I tensorflow/core/common_runtime/bfc_allocator.cc:1089] InUse at 7f8ecbd5da00 of size 256 next 113\n",
      "2023-05-07 07:56:28.234583: I tensorflow/core/common_runtime/bfc_allocator.cc:1089] InUse at 7f8ecbd5db00 of size 256 next 114\n",
      "2023-05-07 07:56:28.234587: I tensorflow/core/common_runtime/bfc_allocator.cc:1089] InUse at 7f8ecbd5dc00 of size 256 next 115\n",
      "2023-05-07 07:56:28.234591: I tensorflow/core/common_runtime/bfc_allocator.cc:1089] InUse at 7f8ecbd5dd00 of size 256 next 116\n",
      "2023-05-07 07:56:28.234596: I tensorflow/core/common_runtime/bfc_allocator.cc:1089] InUse at 7f8ecbd5de00 of size 256 next 117\n",
      "2023-05-07 07:56:28.234600: I tensorflow/core/common_runtime/bfc_allocator.cc:1089] InUse at 7f8ecbd5df00 of size 256 next 118\n",
      "2023-05-07 07:56:28.234604: I tensorflow/core/common_runtime/bfc_allocator.cc:1089] InUse at 7f8ecbd5e000 of size 256 next 119\n",
      "2023-05-07 07:56:28.234608: I tensorflow/core/common_runtime/bfc_allocator.cc:1089] InUse at 7f8ecbd5e100 of size 256 next 120\n",
      "2023-05-07 07:56:28.234612: I tensorflow/core/common_runtime/bfc_allocator.cc:1089] InUse at 7f8ecbd5e200 of size 256 next 121\n",
      "2023-05-07 07:56:28.234616: I tensorflow/core/common_runtime/bfc_allocator.cc:1089] InUse at 7f8ecbd5e300 of size 256 next 122\n",
      "2023-05-07 07:56:28.234621: I tensorflow/core/common_runtime/bfc_allocator.cc:1089] InUse at 7f8ecbd5e400 of size 256 next 123\n",
      "2023-05-07 07:56:28.234625: I tensorflow/core/common_runtime/bfc_allocator.cc:1089] InUse at 7f8ecbd5e500 of size 256 next 124\n",
      "2023-05-07 07:56:28.234629: I tensorflow/core/common_runtime/bfc_allocator.cc:1089] InUse at 7f8ecbd5e600 of size 256 next 125\n",
      "2023-05-07 07:56:28.234633: I tensorflow/core/common_runtime/bfc_allocator.cc:1089] InUse at 7f8ecbd5e700 of size 256 next 126\n",
      "2023-05-07 07:56:28.234637: I tensorflow/core/common_runtime/bfc_allocator.cc:1089] InUse at 7f8ecbd5e800 of size 256 next 127\n",
      "2023-05-07 07:56:28.234641: I tensorflow/core/common_runtime/bfc_allocator.cc:1089] InUse at 7f8ecbd5e900 of size 256 next 128\n",
      "2023-05-07 07:56:28.234646: I tensorflow/core/common_runtime/bfc_allocator.cc:1089] InUse at 7f8ecbd5ea00 of size 256 next 129\n",
      "2023-05-07 07:56:28.234650: I tensorflow/core/common_runtime/bfc_allocator.cc:1089] InUse at 7f8ecbd5eb00 of size 256 next 130\n",
      "2023-05-07 07:56:28.234654: I tensorflow/core/common_runtime/bfc_allocator.cc:1089] InUse at 7f8ecbd5ec00 of size 256 next 131\n",
      "2023-05-07 07:56:28.234658: I tensorflow/core/common_runtime/bfc_allocator.cc:1089] InUse at 7f8ecbd5ed00 of size 256 next 132\n",
      "2023-05-07 07:56:28.234662: I tensorflow/core/common_runtime/bfc_allocator.cc:1089] InUse at 7f8ecbd5ee00 of size 256 next 133\n",
      "2023-05-07 07:56:28.234666: I tensorflow/core/common_runtime/bfc_allocator.cc:1089] InUse at 7f8ecbd5ef00 of size 256 next 134\n",
      "2023-05-07 07:56:28.234670: I tensorflow/core/common_runtime/bfc_allocator.cc:1089] InUse at 7f8ecbd5f000 of size 256 next 135\n",
      "2023-05-07 07:56:28.234675: I tensorflow/core/common_runtime/bfc_allocator.cc:1089] InUse at 7f8ecbd5f100 of size 256 next 136\n",
      "2023-05-07 07:56:28.234679: I tensorflow/core/common_runtime/bfc_allocator.cc:1089] InUse at 7f8ecbd5f200 of size 256 next 137\n",
      "2023-05-07 07:56:28.234683: I tensorflow/core/common_runtime/bfc_allocator.cc:1089] InUse at 7f8ecbd5f300 of size 2048 next 138\n",
      "2023-05-07 07:56:28.234687: I tensorflow/core/common_runtime/bfc_allocator.cc:1089] InUse at 7f8ecbd5fb00 of size 1024 next 139\n",
      "2023-05-07 07:56:28.234691: I tensorflow/core/common_runtime/bfc_allocator.cc:1089] InUse at 7f8ecbd5ff00 of size 512 next 140\n",
      "2023-05-07 07:56:28.234696: I tensorflow/core/common_runtime/bfc_allocator.cc:1089] InUse at 7f8ecbd60100 of size 6553600 next 141\n",
      "2023-05-07 07:56:28.234700: I tensorflow/core/common_runtime/bfc_allocator.cc:1089] InUse at 7f8ecc3a0100 of size 3737600 next 142\n",
      "2023-05-07 07:56:28.234704: I tensorflow/core/common_runtime/bfc_allocator.cc:1089] InUse at 7f8ecc730900 of size 1179648 next 143\n",
      "2023-05-07 07:56:28.234708: I tensorflow/core/common_runtime/bfc_allocator.cc:1089] InUse at 7f8ecc850900 of size 589824 next 144\n",
      "2023-05-07 07:56:28.234712: I tensorflow/core/common_runtime/bfc_allocator.cc:1089] InUse at 7f8ecc8e0900 of size 8192 next 145\n",
      "2023-05-07 07:56:28.234717: I tensorflow/core/common_runtime/bfc_allocator.cc:1089] InUse at 7f8ecc8e2900 of size 256 next 146\n",
      "2023-05-07 07:56:28.234721: I tensorflow/core/common_runtime/bfc_allocator.cc:1089] InUse at 7f8ecc8e2a00 of size 4096 next 147\n",
      "2023-05-07 07:56:28.234725: I tensorflow/core/common_runtime/bfc_allocator.cc:1089] InUse at 7f8ecc8e3a00 of size 131072 next 148\n",
      "2023-05-07 07:56:28.234729: I tensorflow/core/common_runtime/bfc_allocator.cc:1089] InUse at 7f8ecc903a00 of size 256 next 149\n",
      "2023-05-07 07:56:28.234733: I tensorflow/core/common_runtime/bfc_allocator.cc:1089] InUse at 7f8ecc903b00 of size 256 next 150\n",
      "2023-05-07 07:56:28.234737: I tensorflow/core/common_runtime/bfc_allocator.cc:1089] InUse at 7f8ecc903c00 of size 65536 next 151\n",
      "2023-05-07 07:56:28.234742: I tensorflow/core/common_runtime/bfc_allocator.cc:1089] InUse at 7f8ecc913c00 of size 256 next 152\n",
      "2023-05-07 07:56:28.234746: I tensorflow/core/common_runtime/bfc_allocator.cc:1089] InUse at 7f8ecc913d00 of size 7567558656 next 160\n",
      "2023-05-07 07:56:28.234750: I tensorflow/core/common_runtime/bfc_allocator.cc:1089] InUse at 7f908fa10500 of size 934400 next 164\n",
      "2023-05-07 07:56:28.234754: I tensorflow/core/common_runtime/bfc_allocator.cc:1089] InUse at 7f908faf4700 of size 934400 next 165\n",
      "2023-05-07 07:56:28.234759: I tensorflow/core/common_runtime/bfc_allocator.cc:1089] InUse at 7f908fbd8900 of size 934400 next 166\n",
      "2023-05-07 07:56:28.234763: I tensorflow/core/common_runtime/bfc_allocator.cc:1089] InUse at 7f908fcbcb00 of size 934400 next 167\n",
      "2023-05-07 07:56:28.234767: I tensorflow/core/common_runtime/bfc_allocator.cc:1089] InUse at 7f908fda0d00 of size 934400 next 168\n",
      "2023-05-07 07:56:28.234771: I tensorflow/core/common_runtime/bfc_allocator.cc:1089] InUse at 7f908fe84f00 of size 1638400 next 169\n",
      "2023-05-07 07:56:28.234775: I tensorflow/core/common_runtime/bfc_allocator.cc:1089] InUse at 7f9090014f00 of size 1638400 next 170\n",
      "2023-05-07 07:56:28.234779: I tensorflow/core/common_runtime/bfc_allocator.cc:1089] InUse at 7f90901a4f00 of size 1638400 next 171\n",
      "2023-05-07 07:56:28.234784: I tensorflow/core/common_runtime/bfc_allocator.cc:1089] InUse at 7f9090334f00 of size 1638400 next 172\n",
      "2023-05-07 07:56:28.234788: I tensorflow/core/common_runtime/bfc_allocator.cc:1089] InUse at 7f90904c4f00 of size 934400 next 175\n",
      "2023-05-07 07:56:28.234792: I tensorflow/core/common_runtime/bfc_allocator.cc:1089] InUse at 7f90905a9100 of size 934400 next 176\n",
      "2023-05-07 07:56:28.234796: I tensorflow/core/common_runtime/bfc_allocator.cc:1089] InUse at 7f909068d300 of size 934400 next 174\n",
      "2023-05-07 07:56:28.234800: I tensorflow/core/common_runtime/bfc_allocator.cc:1089] InUse at 7f9090771500 of size 1638400 next 179\n",
      "2023-05-07 07:56:28.234804: I tensorflow/core/common_runtime/bfc_allocator.cc:1089] InUse at 7f9090901500 of size 1638400 next 162\n",
      "2023-05-07 07:56:28.234809: I tensorflow/core/common_runtime/bfc_allocator.cc:1089] InUse at 7f9090a91500 of size 1638400 next 183\n",
      "2023-05-07 07:56:28.234813: I tensorflow/core/common_runtime/bfc_allocator.cc:1089] InUse at 7f9090c21500 of size 1638400 next 184\n",
      "2023-05-07 07:56:28.234817: I tensorflow/core/common_runtime/bfc_allocator.cc:1089] Free  at 7f9090db1500 of size 1043605760 next 153\n",
      "2023-05-07 07:56:28.234821: I tensorflow/core/common_runtime/bfc_allocator.cc:1089] InUse at 7f90cf0f3e00 of size 118243328 next 154\n",
      "2023-05-07 07:56:28.234825: I tensorflow/core/common_runtime/bfc_allocator.cc:1089] InUse at 7f90d61b7e00 of size 118243328 next 155\n",
      "2023-05-07 07:56:28.234829: I tensorflow/core/common_runtime/bfc_allocator.cc:1089] InUse at 7f90dd27be00 of size 256 next 156\n",
      "2023-05-07 07:56:28.234834: I tensorflow/core/common_runtime/bfc_allocator.cc:1089] InUse at 7f90dd27bf00 of size 256 next 157\n",
      "2023-05-07 07:56:28.234838: I tensorflow/core/common_runtime/bfc_allocator.cc:1089] InUse at 7f90dd27c000 of size 4315873536 next 177\n",
      "2023-05-07 07:56:28.234842: I tensorflow/core/common_runtime/bfc_allocator.cc:1089] InUse at 7f91de66c100 of size 7567558656 next 158\n",
      "2023-05-07 07:56:28.234846: I tensorflow/core/common_runtime/bfc_allocator.cc:1089] Free  at 7f93a1768900 of size 5380061440 next 159\n",
      "2023-05-07 07:56:28.234851: I tensorflow/core/common_runtime/bfc_allocator.cc:1089] InUse at 7f94e223c200 of size 4315873536 next 161\n",
      "2023-05-07 07:56:28.234856: I tensorflow/core/common_runtime/bfc_allocator.cc:1089] InUse at 7f95e362c300 of size 4315873536 next 163\n",
      "2023-05-07 07:56:28.234860: I tensorflow/core/common_runtime/bfc_allocator.cc:1089] InUse at 7f96e4a1c400 of size 7567558656 next 178\n",
      "2023-05-07 07:56:28.234864: I tensorflow/core/common_runtime/bfc_allocator.cc:1089] InUse at 7f98a7b18c00 of size 7567558656 next 180\n",
      "2023-05-07 07:56:28.234868: I tensorflow/core/common_runtime/bfc_allocator.cc:1089] InUse at 7f9a6ac15400 of size 7567558656 next 182\n",
      "2023-05-07 07:56:28.234872: I tensorflow/core/common_runtime/bfc_allocator.cc:1089] InUse at 7f9c2dd11c00 of size 7567558656 next 181\n",
      "2023-05-07 07:56:28.234877: I tensorflow/core/common_runtime/bfc_allocator.cc:1089] InUse at 7f9df0e0e400 of size 7567558656 next 173\n",
      "2023-05-07 07:56:28.234881: I tensorflow/core/common_runtime/bfc_allocator.cc:1089] Free  at 7f9fb3f0ac00 of size 1297372160 next 18446744073709551615\n",
      "2023-05-07 07:56:28.234885: I tensorflow/core/common_runtime/bfc_allocator.cc:1094]      Summary of in-use Chunks by size: \n",
      "2023-05-07 07:56:28.234890: I tensorflow/core/common_runtime/bfc_allocator.cc:1097] 92 Chunks of size 256 totalling 23.0KiB\n",
      "2023-05-07 07:56:28.234895: I tensorflow/core/common_runtime/bfc_allocator.cc:1097] 12 Chunks of size 512 totalling 6.0KiB\n",
      "2023-05-07 07:56:28.234900: I tensorflow/core/common_runtime/bfc_allocator.cc:1097] 4 Chunks of size 1024 totalling 4.0KiB\n",
      "2023-05-07 07:56:28.234905: I tensorflow/core/common_runtime/bfc_allocator.cc:1097] 1 Chunks of size 1280 totalling 1.2KiB\n",
      "2023-05-07 07:56:28.234909: I tensorflow/core/common_runtime/bfc_allocator.cc:1097] 3 Chunks of size 1792 totalling 5.2KiB\n",
      "2023-05-07 07:56:28.234914: I tensorflow/core/common_runtime/bfc_allocator.cc:1097] 4 Chunks of size 2048 totalling 8.0KiB\n",
      "2023-05-07 07:56:28.234919: I tensorflow/core/common_runtime/bfc_allocator.cc:1097] 1 Chunks of size 3584 totalling 3.5KiB\n",
      "2023-05-07 07:56:28.234924: I tensorflow/core/common_runtime/bfc_allocator.cc:1097] 3 Chunks of size 4096 totalling 12.0KiB\n",
      "2023-05-07 07:56:28.234928: I tensorflow/core/common_runtime/bfc_allocator.cc:1097] 1 Chunks of size 7424 totalling 7.2KiB\n",
      "2023-05-07 07:56:28.234933: I tensorflow/core/common_runtime/bfc_allocator.cc:1097] 3 Chunks of size 8192 totalling 24.0KiB\n",
      "2023-05-07 07:56:28.234939: I tensorflow/core/common_runtime/bfc_allocator.cc:1097] 1 Chunks of size 14848 totalling 14.5KiB\n",
      "2023-05-07 07:56:28.234944: I tensorflow/core/common_runtime/bfc_allocator.cc:1097] 1 Chunks of size 32768 totalling 32.0KiB\n",
      "2023-05-07 07:56:28.234949: I tensorflow/core/common_runtime/bfc_allocator.cc:1097] 4 Chunks of size 65536 totalling 256.0KiB\n",
      "2023-05-07 07:56:28.234954: I tensorflow/core/common_runtime/bfc_allocator.cc:1097] 3 Chunks of size 131072 totalling 384.0KiB\n",
      "2023-05-07 07:56:28.234959: I tensorflow/core/common_runtime/bfc_allocator.cc:1097] 1 Chunks of size 131328 totalling 128.2KiB\n",
      "2023-05-07 07:56:28.234963: I tensorflow/core/common_runtime/bfc_allocator.cc:1097] 1 Chunks of size 294912 totalling 288.0KiB\n",
      "2023-05-07 07:56:28.234968: I tensorflow/core/common_runtime/bfc_allocator.cc:1097] 3 Chunks of size 589824 totalling 1.69MiB\n",
      "2023-05-07 07:56:28.234973: I tensorflow/core/common_runtime/bfc_allocator.cc:1097] 1 Chunks of size 590080 totalling 576.2KiB\n",
      "2023-05-07 07:56:28.234977: I tensorflow/core/common_runtime/bfc_allocator.cc:1097] 9 Chunks of size 934400 totalling 8.02MiB\n",
      "2023-05-07 07:56:28.234983: I tensorflow/core/common_runtime/bfc_allocator.cc:1097] 3 Chunks of size 1179648 totalling 3.38MiB\n",
      "2023-05-07 07:56:28.234987: I tensorflow/core/common_runtime/bfc_allocator.cc:1097] 1 Chunks of size 1373440 totalling 1.31MiB\n",
      "2023-05-07 07:56:28.234992: I tensorflow/core/common_runtime/bfc_allocator.cc:1097] 8 Chunks of size 1638400 totalling 12.50MiB\n",
      "2023-05-07 07:56:28.234997: I tensorflow/core/common_runtime/bfc_allocator.cc:1097] 3 Chunks of size 3737600 totalling 10.69MiB\n",
      "2023-05-07 07:56:28.235002: I tensorflow/core/common_runtime/bfc_allocator.cc:1097] 1 Chunks of size 3930624 totalling 3.75MiB\n",
      "2023-05-07 07:56:28.235006: I tensorflow/core/common_runtime/bfc_allocator.cc:1097] 4 Chunks of size 6553600 totalling 25.00MiB\n",
      "2023-05-07 07:56:28.235011: I tensorflow/core/common_runtime/bfc_allocator.cc:1097] 3 Chunks of size 118243328 totalling 338.30MiB\n",
      "2023-05-07 07:56:28.235017: I tensorflow/core/common_runtime/bfc_allocator.cc:1097] 3 Chunks of size 4315873536 totalling 12.06GiB\n",
      "2023-05-07 07:56:28.235023: I tensorflow/core/common_runtime/bfc_allocator.cc:1097] 7 Chunks of size 7567558656 totalling 49.33GiB\n",
      "2023-05-07 07:56:28.235028: I tensorflow/core/common_runtime/bfc_allocator.cc:1097] 1 Chunks of size 8631746816 totalling 8.04GiB\n",
      "2023-05-07 07:56:28.235033: I tensorflow/core/common_runtime/bfc_allocator.cc:1101] Sum Total of in-use chunks: 69.83GiB\n",
      "2023-05-07 07:56:28.235039: I tensorflow/core/common_runtime/bfc_allocator.cc:1103] total_region_allocated_bytes_: 82699419648 memory_limit_: 82699419648 available bytes: 0 curr_region_allocation_bytes_: 165398839296\n",
      "2023-05-07 07:56:28.235046: I tensorflow/core/common_runtime/bfc_allocator.cc:1109] Stats: \n",
      "Limit:                     82699419648\n",
      "InUse:                     74978380288\n",
      "MaxInUse:                  74978380288\n",
      "NumAllocs:                         294\n",
      "MaxAllocSize:               8631746816\n",
      "Reserved:                            0\n",
      "PeakReserved:                        0\n",
      "LargestFreeBlock:                    0\n",
      "\n",
      "2023-05-07 07:56:28.235055: W tensorflow/core/common_runtime/bfc_allocator.cc:491] ********************_***************______*********************************************************_\n",
      "2023-05-07 07:56:28.235066: W tensorflow/core/framework/op_kernel.cc:1780] OP_REQUIRES failed at conv_ops.cc:686 : RESOURCE_EXHAUSTED: OOM when allocating tensor with shape[12,128,1253,983] and type float on /job:localhost/replica:0/task:0/device:GPU:0 by allocator GPU_0_bfc\n"
     ]
    },
    {
     "name": "stderr",
     "output_type": "stream",
     "text": [
      "2023-05-07 07:56:29.516388: W tensorflow/core/common_runtime/bfc_allocator.cc:479] Allocator (GPU_0_bfc) ran out of memory trying to allocate 7.05GiB (rounded to 7567558656)requested by op Func/sequential/conv_lstm2d/while/body/_1/input/_2988-0-0-TransposeNCHWToNHWC-LayoutOptimizer\n",
      "If the cause is memory fragmentation maybe the environment variable 'TF_GPU_ALLOCATOR=cuda_malloc_async' will improve the situation. \n",
      "Current allocation summary follows.\n",
      "Current allocation summary follows.\n",
      "2023-05-07 07:56:29.516431: I tensorflow/core/common_runtime/bfc_allocator.cc:1033] BFCAllocator dump for GPU_0_bfc\n",
      "2023-05-07 07:56:29.516439: I tensorflow/core/common_runtime/bfc_allocator.cc:1040] Bin (256): \tTotal Chunks: 92, Chunks in use: 92. 23.0KiB allocated for chunks. 23.0KiB in use in bin. 4.3KiB client-requested in use in bin.\n",
      "2023-05-07 07:56:29.516445: I tensorflow/core/common_runtime/bfc_allocator.cc:1040] Bin (512): \tTotal Chunks: 12, Chunks in use: 12. 6.0KiB allocated for chunks. 6.0KiB in use in bin. 6.0KiB client-requested in use in bin.\n",
      "2023-05-07 07:56:29.516452: I tensorflow/core/common_runtime/bfc_allocator.cc:1040] Bin (1024): \tTotal Chunks: 8, Chunks in use: 8. 10.5KiB allocated for chunks. 10.5KiB in use in bin. 10.1KiB client-requested in use in bin.\n",
      "2023-05-07 07:56:29.516458: I tensorflow/core/common_runtime/bfc_allocator.cc:1040] Bin (2048): \tTotal Chunks: 5, Chunks in use: 5. 11.5KiB allocated for chunks. 11.5KiB in use in bin. 10.0KiB client-requested in use in bin.\n",
      "2023-05-07 07:56:29.516464: I tensorflow/core/common_runtime/bfc_allocator.cc:1040] Bin (4096): \tTotal Chunks: 4, Chunks in use: 4. 19.2KiB allocated for chunks. 19.2KiB in use in bin. 16.0KiB client-requested in use in bin.\n",
      "2023-05-07 07:56:29.516469: I tensorflow/core/common_runtime/bfc_allocator.cc:1040] Bin (8192): \tTotal Chunks: 4, Chunks in use: 4. 38.5KiB allocated for chunks. 38.5KiB in use in bin. 32.0KiB client-requested in use in bin.\n",
      "2023-05-07 07:56:29.516474: I tensorflow/core/common_runtime/bfc_allocator.cc:1040] Bin (16384): \tTotal Chunks: 0, Chunks in use: 0. 0B allocated for chunks. 0B in use in bin. 0B client-requested in use in bin.\n",
      "2023-05-07 07:56:29.516480: I tensorflow/core/common_runtime/bfc_allocator.cc:1040] Bin (32768): \tTotal Chunks: 1, Chunks in use: 1. 32.0KiB allocated for chunks. 32.0KiB in use in bin. 32.0KiB client-requested in use in bin.\n",
      "2023-05-07 07:56:29.516485: I tensorflow/core/common_runtime/bfc_allocator.cc:1040] Bin (65536): \tTotal Chunks: 4, Chunks in use: 4. 256.0KiB allocated for chunks. 256.0KiB in use in bin. 256.0KiB client-requested in use in bin.\n",
      "2023-05-07 07:56:29.516491: I tensorflow/core/common_runtime/bfc_allocator.cc:1040] Bin (131072): \tTotal Chunks: 4, Chunks in use: 4. 512.2KiB allocated for chunks. 512.2KiB in use in bin. 512.0KiB client-requested in use in bin.\n",
      "2023-05-07 07:56:29.516499: I tensorflow/core/common_runtime/bfc_allocator.cc:1040] Bin (262144): \tTotal Chunks: 1, Chunks in use: 1. 288.0KiB allocated for chunks. 288.0KiB in use in bin. 288.0KiB client-requested in use in bin.\n",
      "2023-05-07 07:56:29.516507: I tensorflow/core/common_runtime/bfc_allocator.cc:1040] Bin (524288): \tTotal Chunks: 13, Chunks in use: 13. 10.27MiB allocated for chunks. 10.27MiB in use in bin. 10.27MiB client-requested in use in bin.\n",
      "2023-05-07 07:56:29.516514: I tensorflow/core/common_runtime/bfc_allocator.cc:1040] Bin (1048576): \tTotal Chunks: 12, Chunks in use: 12. 17.18MiB allocated for chunks. 17.18MiB in use in bin. 17.00MiB client-requested in use in bin.\n",
      "2023-05-07 07:56:29.516519: I tensorflow/core/common_runtime/bfc_allocator.cc:1040] Bin (2097152): \tTotal Chunks: 4, Chunks in use: 4. 14.44MiB allocated for chunks. 14.44MiB in use in bin. 14.26MiB client-requested in use in bin.\n",
      "2023-05-07 07:56:29.516524: I tensorflow/core/common_runtime/bfc_allocator.cc:1040] Bin (4194304): \tTotal Chunks: 4, Chunks in use: 4. 25.00MiB allocated for chunks. 25.00MiB in use in bin. 25.00MiB client-requested in use in bin.\n",
      "2023-05-07 07:56:29.516529: I tensorflow/core/common_runtime/bfc_allocator.cc:1040] Bin (8388608): \tTotal Chunks: 0, Chunks in use: 0. 0B allocated for chunks. 0B in use in bin. 0B client-requested in use in bin.\n",
      "2023-05-07 07:56:29.516534: I tensorflow/core/common_runtime/bfc_allocator.cc:1040] Bin (16777216): \tTotal Chunks: 0, Chunks in use: 0. 0B allocated for chunks. 0B in use in bin. 0B client-requested in use in bin.\n",
      "2023-05-07 07:56:29.516538: I tensorflow/core/common_runtime/bfc_allocator.cc:1040] Bin (33554432): \tTotal Chunks: 0, Chunks in use: 0. 0B allocated for chunks. 0B in use in bin. 0B client-requested in use in bin.\n",
      "2023-05-07 07:56:29.516551: I tensorflow/core/common_runtime/bfc_allocator.cc:1040] Bin (67108864): \tTotal Chunks: 3, Chunks in use: 3. 338.30MiB allocated for chunks. 338.30MiB in use in bin. 338.30MiB client-requested in use in bin.\n",
      "2023-05-07 07:56:29.516555: I tensorflow/core/common_runtime/bfc_allocator.cc:1040] Bin (134217728): \tTotal Chunks: 0, Chunks in use: 0. 0B allocated for chunks. 0B in use in bin. 0B client-requested in use in bin.\n",
      "2023-05-07 07:56:29.516561: I tensorflow/core/common_runtime/bfc_allocator.cc:1040] Bin (268435456): \tTotal Chunks: 14, Chunks in use: 11. 76.62GiB allocated for chunks. 69.43GiB in use in bin. 69.43GiB client-requested in use in bin.\n",
      "2023-05-07 07:56:29.516565: I tensorflow/core/common_runtime/bfc_allocator.cc:1056] Bin for 7.05GiB was 256.00MiB, Chunk State: \n",
      "2023-05-07 07:56:29.516573: I tensorflow/core/common_runtime/bfc_allocator.cc:1062]   Size: 995.26MiB | Requested Size: 0B | in_use: 0 | bin_num: 20, prev:   Size: 1.56MiB | Requested Size: 1.56MiB | in_use: 1 | bin_num: -1, next:   Size: 112.77MiB | Requested Size: 112.76MiB | in_use: 1 | bin_num: -1\n",
      "2023-05-07 07:56:29.516579: I tensorflow/core/common_runtime/bfc_allocator.cc:1062]   Size: 1.21GiB | Requested Size: 512B | in_use: 0 | bin_num: 20, prev:   Size: 7.05GiB | Requested Size: 7.05GiB | in_use: 1 | bin_num: -1\n",
      "2023-05-07 07:56:29.516585: I tensorflow/core/common_runtime/bfc_allocator.cc:1062]   Size: 5.01GiB | Requested Size: 4.02GiB | in_use: 0 | bin_num: 20, prev:   Size: 7.05GiB | Requested Size: 7.05GiB | in_use: 1 | bin_num: -1, next:   Size: 4.02GiB | Requested Size: 4.02GiB | in_use: 1 | bin_num: -1\n",
      "2023-05-07 07:56:29.516589: I tensorflow/core/common_runtime/bfc_allocator.cc:1069] Next region of size 82699419648\n",
      "2023-05-07 07:56:29.516594: I tensorflow/core/common_runtime/bfc_allocator.cc:1089] InUse at 7f8cc0000000 of size 256 next 1\n",
      "2023-05-07 07:56:29.516598: I tensorflow/core/common_runtime/bfc_allocator.cc:1089] InUse at 7f8cc0000100 of size 1280 next 2\n",
      "2023-05-07 07:56:29.516602: I tensorflow/core/common_runtime/bfc_allocator.cc:1089] InUse at 7f8cc0000600 of size 256 next 3\n",
      "2023-05-07 07:56:29.516605: I tensorflow/core/common_runtime/bfc_allocator.cc:1089] InUse at 7f8cc0000700 of size 256 next 4\n",
      "2023-05-07 07:56:29.516609: I tensorflow/core/common_runtime/bfc_allocator.cc:1089] InUse at 7f8cc0000800 of size 256 next 6\n",
      "2023-05-07 07:56:29.516613: I tensorflow/core/common_runtime/bfc_allocator.cc:1089] InUse at 7f8cc0000900 of size 256 next 7\n",
      "2023-05-07 07:56:29.516617: I tensorflow/core/common_runtime/bfc_allocator.cc:1089] InUse at 7f8cc0000a00 of size 256 next 8\n",
      "2023-05-07 07:56:29.516621: I tensorflow/core/common_runtime/bfc_allocator.cc:1089] InUse at 7f8cc0000b00 of size 512 next 5\n",
      "2023-05-07 07:56:29.516625: I tensorflow/core/common_runtime/bfc_allocator.cc:1089] InUse at 7f8cc0000d00 of size 256 next 12\n",
      "2023-05-07 07:56:29.516629: I tensorflow/core/common_runtime/bfc_allocator.cc:1089] InUse at 7f8cc0000e00 of size 512 next 14\n",
      "2023-05-07 07:56:29.516632: I tensorflow/core/common_runtime/bfc_allocator.cc:1089] InUse at 7f8cc0001000 of size 512 next 16\n",
      "2023-05-07 07:56:29.516636: I tensorflow/core/common_runtime/bfc_allocator.cc:1089] InUse at 7f8cc0001200 of size 512 next 13\n",
      "2023-05-07 07:56:29.516640: I tensorflow/core/common_runtime/bfc_allocator.cc:1089] InUse at 7f8cc0001400 of size 2048 next 15\n",
      "2023-05-07 07:56:29.516644: I tensorflow/core/common_runtime/bfc_allocator.cc:1089] InUse at 7f8cc0001c00 of size 256 next 17\n",
      "2023-05-07 07:56:29.516647: I tensorflow/core/common_runtime/bfc_allocator.cc:1089] InUse at 7f8cc0001d00 of size 256 next 18\n",
      "2023-05-07 07:56:29.516651: I tensorflow/core/common_runtime/bfc_allocator.cc:1089] InUse at 7f8cc0001e00 of size 256 next 21\n",
      "2023-05-07 07:56:29.516657: I tensorflow/core/common_runtime/bfc_allocator.cc:1089] InUse at 7f8cc0001f00 of size 256 next 19\n",
      "2023-05-07 07:56:29.516663: I tensorflow/core/common_runtime/bfc_allocator.cc:1089] InUse at 7f8cc0002000 of size 256 next 26\n",
      "2023-05-07 07:56:29.516668: I tensorflow/core/common_runtime/bfc_allocator.cc:1089] InUse at 7f8cc0002100 of size 256 next 20\n",
      "2023-05-07 07:56:29.516672: I tensorflow/core/common_runtime/bfc_allocator.cc:1089] InUse at 7f8cc0002200 of size 1024 next 22\n",
      "2023-05-07 07:56:29.516676: I tensorflow/core/common_runtime/bfc_allocator.cc:1089] InUse at 7f8cc0002600 of size 256 next 27\n",
      "2023-05-07 07:56:29.516680: I tensorflow/core/common_runtime/bfc_allocator.cc:1089] InUse at 7f8cc0002700 of size 256 next 28\n",
      "2023-05-07 07:56:29.516685: I tensorflow/core/common_runtime/bfc_allocator.cc:1089] InUse at 7f8cc0002800 of size 256 next 31\n",
      "2023-05-07 07:56:29.516690: I tensorflow/core/common_runtime/bfc_allocator.cc:1089] InUse at 7f8cc0002900 of size 256 next 36\n",
      "2023-05-07 07:56:29.516695: I tensorflow/core/common_runtime/bfc_allocator.cc:1089] InUse at 7f8cc0002a00 of size 256 next 35\n",
      "2023-05-07 07:56:29.516700: I tensorflow/core/common_runtime/bfc_allocator.cc:1089] InUse at 7f8cc0002b00 of size 512 next 30\n",
      "2023-05-07 07:56:29.516704: I tensorflow/core/common_runtime/bfc_allocator.cc:1089] InUse at 7f8cc0002d00 of size 256 next 37\n",
      "2023-05-07 07:56:29.516708: I tensorflow/core/common_runtime/bfc_allocator.cc:1089] InUse at 7f8cc0002e00 of size 256 next 38\n",
      "2023-05-07 07:56:29.516714: I tensorflow/core/common_runtime/bfc_allocator.cc:1089] InUse at 7f8cc0002f00 of size 256 next 39\n",
      "2023-05-07 07:56:29.516719: I tensorflow/core/common_runtime/bfc_allocator.cc:1089] InUse at 7f8cc0003000 of size 256 next 42\n",
      "2023-05-07 07:56:29.516724: I tensorflow/core/common_runtime/bfc_allocator.cc:1089] InUse at 7f8cc0003100 of size 256 next 48\n",
      "2023-05-07 07:56:29.516728: I tensorflow/core/common_runtime/bfc_allocator.cc:1089] InUse at 7f8cc0003200 of size 256 next 41\n",
      "2023-05-07 07:56:29.516732: I tensorflow/core/common_runtime/bfc_allocator.cc:1089] InUse at 7f8cc0003300 of size 256 next 47\n",
      "2023-05-07 07:56:29.516736: I tensorflow/core/common_runtime/bfc_allocator.cc:1089] InUse at 7f8cc0003400 of size 256 next 40\n",
      "2023-05-07 07:56:29.516740: I tensorflow/core/common_runtime/bfc_allocator.cc:1089] InUse at 7f8cc0003500 of size 7424 next 43\n",
      "2023-05-07 07:56:29.516745: I tensorflow/core/common_runtime/bfc_allocator.cc:1089] InUse at 7f8cc0005200 of size 256 next 62\n",
      "2023-05-07 07:56:29.516751: I tensorflow/core/common_runtime/bfc_allocator.cc:1089] InUse at 7f8cc0005300 of size 3584 next 50\n",
      "2023-05-07 07:56:29.516755: I tensorflow/core/common_runtime/bfc_allocator.cc:1089] InUse at 7f8cc0006100 of size 1792 next 51\n",
      "2023-05-07 07:56:29.516759: I tensorflow/core/common_runtime/bfc_allocator.cc:1089] InUse at 7f8cc0006800 of size 256 next 46\n",
      "2023-05-07 07:56:29.516763: I tensorflow/core/common_runtime/bfc_allocator.cc:1089] InUse at 7f8cc0006900 of size 256 next 49\n",
      "2023-05-07 07:56:29.516767: I tensorflow/core/common_runtime/bfc_allocator.cc:1089] InUse at 7f8cc0006a00 of size 256 next 52\n",
      "2023-05-07 07:56:29.516771: I tensorflow/core/common_runtime/bfc_allocator.cc:1089] InUse at 7f8cc0006b00 of size 256 next 53\n",
      "2023-05-07 07:56:29.516776: I tensorflow/core/common_runtime/bfc_allocator.cc:1089] InUse at 7f8cc0006c00 of size 256 next 56\n",
      "2023-05-07 07:56:29.516781: I tensorflow/core/common_runtime/bfc_allocator.cc:1089] InUse at 7f8cc0006d00 of size 256 next 57\n",
      "2023-05-07 07:56:29.516786: I tensorflow/core/common_runtime/bfc_allocator.cc:1089] InUse at 7f8cc0006e00 of size 256 next 58\n",
      "2023-05-07 07:56:29.516791: I tensorflow/core/common_runtime/bfc_allocator.cc:1089] InUse at 7f8cc0006f00 of size 256 next 59\n",
      "2023-05-07 07:56:29.516795: I tensorflow/core/common_runtime/bfc_allocator.cc:1089] InUse at 7f8cc0007000 of size 256 next 60\n",
      "2023-05-07 07:56:29.516800: I tensorflow/core/common_runtime/bfc_allocator.cc:1089] InUse at 7f8cc0007100 of size 256 next 61\n",
      "2023-05-07 07:56:29.516805: I tensorflow/core/common_runtime/bfc_allocator.cc:1089] InUse at 7f8cc0007200 of size 256 next 44\n",
      "2023-05-07 07:56:29.516810: I tensorflow/core/common_runtime/bfc_allocator.cc:1089] InUse at 7f8cc0007300 of size 8192 next 45\n",
      "2023-05-07 07:56:29.516815: I tensorflow/core/common_runtime/bfc_allocator.cc:1089] InUse at 7f8cc0009300 of size 512 next 64\n",
      "2023-05-07 07:56:29.516819: I tensorflow/core/common_runtime/bfc_allocator.cc:1089] InUse at 7f8cc0009500 of size 512 next 65\n",
      "2023-05-07 07:56:29.516823: I tensorflow/core/common_runtime/bfc_allocator.cc:1089] InUse at 7f8cc0009700 of size 1024 next 67\n",
      "2023-05-07 07:56:29.516828: I tensorflow/core/common_runtime/bfc_allocator.cc:1089] InUse at 7f8cc0009b00 of size 256 next 68\n",
      "2023-05-07 07:56:29.516833: I tensorflow/core/common_runtime/bfc_allocator.cc:1089] InUse at 7f8cc0009c00 of size 256 next 69\n",
      "2023-05-07 07:56:29.516836: I tensorflow/core/common_runtime/bfc_allocator.cc:1089] InUse at 7f8cc0009d00 of size 512 next 71\n",
      "2023-05-07 07:56:29.516840: I tensorflow/core/common_runtime/bfc_allocator.cc:1089] InUse at 7f8cc0009f00 of size 256 next 72\n",
      "2023-05-07 07:56:29.516844: I tensorflow/core/common_runtime/bfc_allocator.cc:1089] InUse at 7f8cc000a000 of size 256 next 73\n",
      "2023-05-07 07:56:29.516848: I tensorflow/core/common_runtime/bfc_allocator.cc:1089] InUse at 7f8cc000a100 of size 8192 next 74\n",
      "2023-05-07 07:56:29.516852: I tensorflow/core/common_runtime/bfc_allocator.cc:1089] InUse at 7f8cc000c100 of size 4096 next 75\n",
      "2023-05-07 07:56:29.516856: I tensorflow/core/common_runtime/bfc_allocator.cc:1089] InUse at 7f8cc000d100 of size 256 next 76\n",
      "2023-05-07 07:56:29.516862: I tensorflow/core/common_runtime/bfc_allocator.cc:1089] InUse at 7f8cc000d200 of size 1792 next 77\n",
      "2023-05-07 07:56:29.516867: I tensorflow/core/common_runtime/bfc_allocator.cc:1089] InUse at 7f8cc000d900 of size 256 next 78\n",
      "2023-05-07 07:56:29.516872: I tensorflow/core/common_runtime/bfc_allocator.cc:1089] InUse at 7f8cc000da00 of size 2048 next 81\n",
      "2023-05-07 07:56:29.516877: I tensorflow/core/common_runtime/bfc_allocator.cc:1089] InUse at 7f8cc000e200 of size 512 next 82\n",
      "2023-05-07 07:56:29.516881: I tensorflow/core/common_runtime/bfc_allocator.cc:1089] InUse at 7f8cc000e400 of size 512 next 83\n",
      "2023-05-07 07:56:29.516885: I tensorflow/core/common_runtime/bfc_allocator.cc:1089] InUse at 7f8cc000e600 of size 1024 next 86\n",
      "2023-05-07 07:56:29.516888: I tensorflow/core/common_runtime/bfc_allocator.cc:1089] InUse at 7f8cc000ea00 of size 256 next 87\n",
      "2023-05-07 07:56:29.516894: I tensorflow/core/common_runtime/bfc_allocator.cc:1089] InUse at 7f8cc000eb00 of size 256 next 88\n",
      "2023-05-07 07:56:29.516899: I tensorflow/core/common_runtime/bfc_allocator.cc:1089] InUse at 7f8cc000ec00 of size 512 next 91\n",
      "2023-05-07 07:56:29.516904: I tensorflow/core/common_runtime/bfc_allocator.cc:1089] InUse at 7f8cc000ee00 of size 256 next 92\n",
      "2023-05-07 07:56:29.516909: I tensorflow/core/common_runtime/bfc_allocator.cc:1089] InUse at 7f8cc000ef00 of size 256 next 93\n",
      "2023-05-07 07:56:29.516913: I tensorflow/core/common_runtime/bfc_allocator.cc:1089] InUse at 7f8cc000f000 of size 14848 next 29\n",
      "2023-05-07 07:56:29.516918: I tensorflow/core/common_runtime/bfc_allocator.cc:1089] InUse at 7f8cc0012a00 of size 65536 next 32\n",
      "2023-05-07 07:56:29.516923: I tensorflow/core/common_runtime/bfc_allocator.cc:1089] InUse at 7f8cc0022a00 of size 131328 next 33\n",
      "2023-05-07 07:56:29.516929: I tensorflow/core/common_runtime/bfc_allocator.cc:1089] InUse at 7f8cc0042b00 of size 131072 next 34\n",
      "2023-05-07 07:56:29.516934: I tensorflow/core/common_runtime/bfc_allocator.cc:1089] InUse at 7f8cc0062b00 of size 1373440 next 25\n",
      "2023-05-07 07:56:29.516939: I tensorflow/core/common_runtime/bfc_allocator.cc:1089] InUse at 7f8cc01b2000 of size 590080 next 23\n",
      "2023-05-07 07:56:29.516943: I tensorflow/core/common_runtime/bfc_allocator.cc:1089] InUse at 7f8cc0242100 of size 1179648 next 24\n",
      "2023-05-07 07:56:29.516946: I tensorflow/core/common_runtime/bfc_allocator.cc:1089] InUse at 7f8cc0362100 of size 3930624 next 9\n",
      "2023-05-07 07:56:29.516951: I tensorflow/core/common_runtime/bfc_allocator.cc:1089] InUse at 7f8cc0721b00 of size 3737600 next 10\n",
      "2023-05-07 07:56:29.516957: I tensorflow/core/common_runtime/bfc_allocator.cc:1089] InUse at 7f8cc0ab2300 of size 6553600 next 11\n",
      "2023-05-07 07:56:29.516962: I tensorflow/core/common_runtime/bfc_allocator.cc:1089] InUse at 7f8cc10f2300 of size 8631746816 next 54\n",
      "2023-05-07 07:56:29.516967: I tensorflow/core/common_runtime/bfc_allocator.cc:1089] InUse at 7f8ec38d2400 of size 118243328 next 55\n",
      "2023-05-07 07:56:29.516971: I tensorflow/core/common_runtime/bfc_allocator.cc:1089] InUse at 7f8eca996400 of size 6553600 next 63\n",
      "2023-05-07 07:56:29.516975: I tensorflow/core/common_runtime/bfc_allocator.cc:1089] InUse at 7f8ecafd6400 of size 589824 next 66\n",
      "2023-05-07 07:56:29.516979: I tensorflow/core/common_runtime/bfc_allocator.cc:1089] InUse at 7f8ecb066400 of size 65536 next 70\n",
      "2023-05-07 07:56:29.516983: I tensorflow/core/common_runtime/bfc_allocator.cc:1089] InUse at 7f8ecb076400 of size 3737600 next 79\n",
      "2023-05-07 07:56:29.516988: I tensorflow/core/common_runtime/bfc_allocator.cc:1089] InUse at 7f8ecb406c00 of size 6553600 next 80\n",
      "2023-05-07 07:56:29.516993: I tensorflow/core/common_runtime/bfc_allocator.cc:1089] InUse at 7f8ecba46c00 of size 1179648 next 84\n",
      "2023-05-07 07:56:29.516998: I tensorflow/core/common_runtime/bfc_allocator.cc:1089] InUse at 7f8ecbb66c00 of size 589824 next 85\n",
      "2023-05-07 07:56:29.517003: I tensorflow/core/common_runtime/bfc_allocator.cc:1089] InUse at 7f8ecbbf6c00 of size 131072 next 89\n",
      "2023-05-07 07:56:29.517007: I tensorflow/core/common_runtime/bfc_allocator.cc:1089] InUse at 7f8ecbc16c00 of size 65536 next 90\n",
      "2023-05-07 07:56:29.517012: I tensorflow/core/common_runtime/bfc_allocator.cc:1089] InUse at 7f8ecbc26c00 of size 4096 next 94\n",
      "2023-05-07 07:56:29.517017: I tensorflow/core/common_runtime/bfc_allocator.cc:1089] InUse at 7f8ecbc27c00 of size 256 next 95\n",
      "2023-05-07 07:56:29.517022: I tensorflow/core/common_runtime/bfc_allocator.cc:1089] InUse at 7f8ecbc27d00 of size 1792 next 96\n",
      "2023-05-07 07:56:29.517027: I tensorflow/core/common_runtime/bfc_allocator.cc:1089] InUse at 7f8ecbc28400 of size 256 next 97\n",
      "2023-05-07 07:56:29.517031: I tensorflow/core/common_runtime/bfc_allocator.cc:1089] InUse at 7f8ecbc28500 of size 256 next 98\n",
      "2023-05-07 07:56:29.517035: I tensorflow/core/common_runtime/bfc_allocator.cc:1089] InUse at 7f8ecbc28600 of size 256 next 99\n",
      "2023-05-07 07:56:29.517039: I tensorflow/core/common_runtime/bfc_allocator.cc:1089] InUse at 7f8ecbc28700 of size 256 next 100\n",
      "2023-05-07 07:56:29.517042: I tensorflow/core/common_runtime/bfc_allocator.cc:1089] InUse at 7f8ecbc28800 of size 256 next 101\n",
      "2023-05-07 07:56:29.517047: I tensorflow/core/common_runtime/bfc_allocator.cc:1089] InUse at 7f8ecbc28900 of size 256 next 102\n",
      "2023-05-07 07:56:29.517052: I tensorflow/core/common_runtime/bfc_allocator.cc:1089] InUse at 7f8ecbc28a00 of size 256 next 103\n",
      "2023-05-07 07:56:29.517057: I tensorflow/core/common_runtime/bfc_allocator.cc:1089] InUse at 7f8ecbc28b00 of size 2048 next 104\n",
      "2023-05-07 07:56:29.517062: I tensorflow/core/common_runtime/bfc_allocator.cc:1089] InUse at 7f8ecbc29300 of size 32768 next 105\n",
      "2023-05-07 07:56:29.517067: I tensorflow/core/common_runtime/bfc_allocator.cc:1089] InUse at 7f8ecbc31300 of size 294912 next 106\n",
      "2023-05-07 07:56:29.517071: I tensorflow/core/common_runtime/bfc_allocator.cc:1089] InUse at 7f8ecbc79300 of size 934400 next 107\n",
      "2023-05-07 07:56:29.517076: I tensorflow/core/common_runtime/bfc_allocator.cc:1089] InUse at 7f8ecbd5d500 of size 256 next 108\n",
      "2023-05-07 07:56:29.517081: I tensorflow/core/common_runtime/bfc_allocator.cc:1089] InUse at 7f8ecbd5d600 of size 256 next 109\n",
      "2023-05-07 07:56:29.517086: I tensorflow/core/common_runtime/bfc_allocator.cc:1089] InUse at 7f8ecbd5d700 of size 256 next 110\n",
      "2023-05-07 07:56:29.517091: I tensorflow/core/common_runtime/bfc_allocator.cc:1089] InUse at 7f8ecbd5d800 of size 256 next 111\n",
      "2023-05-07 07:56:29.517096: I tensorflow/core/common_runtime/bfc_allocator.cc:1089] InUse at 7f8ecbd5d900 of size 256 next 112\n",
      "2023-05-07 07:56:29.517100: I tensorflow/core/common_runtime/bfc_allocator.cc:1089] InUse at 7f8ecbd5da00 of size 256 next 113\n",
      "2023-05-07 07:56:29.517104: I tensorflow/core/common_runtime/bfc_allocator.cc:1089] InUse at 7f8ecbd5db00 of size 256 next 114\n",
      "2023-05-07 07:56:29.517109: I tensorflow/core/common_runtime/bfc_allocator.cc:1089] InUse at 7f8ecbd5dc00 of size 256 next 115\n",
      "2023-05-07 07:56:29.517115: I tensorflow/core/common_runtime/bfc_allocator.cc:1089] InUse at 7f8ecbd5dd00 of size 256 next 116\n",
      "2023-05-07 07:56:29.517120: I tensorflow/core/common_runtime/bfc_allocator.cc:1089] InUse at 7f8ecbd5de00 of size 256 next 117\n",
      "2023-05-07 07:56:29.517124: I tensorflow/core/common_runtime/bfc_allocator.cc:1089] InUse at 7f8ecbd5df00 of size 256 next 118\n",
      "2023-05-07 07:56:29.517128: I tensorflow/core/common_runtime/bfc_allocator.cc:1089] InUse at 7f8ecbd5e000 of size 256 next 119\n",
      "2023-05-07 07:56:29.517132: I tensorflow/core/common_runtime/bfc_allocator.cc:1089] InUse at 7f8ecbd5e100 of size 256 next 120\n",
      "2023-05-07 07:56:29.517137: I tensorflow/core/common_runtime/bfc_allocator.cc:1089] InUse at 7f8ecbd5e200 of size 256 next 121\n",
      "2023-05-07 07:56:29.517142: I tensorflow/core/common_runtime/bfc_allocator.cc:1089] InUse at 7f8ecbd5e300 of size 256 next 122\n",
      "2023-05-07 07:56:29.517147: I tensorflow/core/common_runtime/bfc_allocator.cc:1089] InUse at 7f8ecbd5e400 of size 256 next 123\n",
      "2023-05-07 07:56:29.517152: I tensorflow/core/common_runtime/bfc_allocator.cc:1089] InUse at 7f8ecbd5e500 of size 256 next 124\n",
      "2023-05-07 07:56:29.517157: I tensorflow/core/common_runtime/bfc_allocator.cc:1089] InUse at 7f8ecbd5e600 of size 256 next 125\n",
      "2023-05-07 07:56:29.517161: I tensorflow/core/common_runtime/bfc_allocator.cc:1089] InUse at 7f8ecbd5e700 of size 256 next 126\n",
      "2023-05-07 07:56:29.517166: I tensorflow/core/common_runtime/bfc_allocator.cc:1089] InUse at 7f8ecbd5e800 of size 256 next 127\n",
      "2023-05-07 07:56:29.517171: I tensorflow/core/common_runtime/bfc_allocator.cc:1089] InUse at 7f8ecbd5e900 of size 256 next 128\n",
      "2023-05-07 07:56:29.517176: I tensorflow/core/common_runtime/bfc_allocator.cc:1089] InUse at 7f8ecbd5ea00 of size 256 next 129\n",
      "2023-05-07 07:56:29.517181: I tensorflow/core/common_runtime/bfc_allocator.cc:1089] InUse at 7f8ecbd5eb00 of size 256 next 130\n",
      "2023-05-07 07:56:29.517186: I tensorflow/core/common_runtime/bfc_allocator.cc:1089] InUse at 7f8ecbd5ec00 of size 256 next 131\n",
      "2023-05-07 07:56:29.517190: I tensorflow/core/common_runtime/bfc_allocator.cc:1089] InUse at 7f8ecbd5ed00 of size 256 next 132\n",
      "2023-05-07 07:56:29.517194: I tensorflow/core/common_runtime/bfc_allocator.cc:1089] InUse at 7f8ecbd5ee00 of size 256 next 133\n",
      "2023-05-07 07:56:29.517199: I tensorflow/core/common_runtime/bfc_allocator.cc:1089] InUse at 7f8ecbd5ef00 of size 256 next 134\n",
      "2023-05-07 07:56:29.517204: I tensorflow/core/common_runtime/bfc_allocator.cc:1089] InUse at 7f8ecbd5f000 of size 256 next 135\n",
      "2023-05-07 07:56:29.517208: I tensorflow/core/common_runtime/bfc_allocator.cc:1089] InUse at 7f8ecbd5f100 of size 256 next 136\n",
      "2023-05-07 07:56:29.517213: I tensorflow/core/common_runtime/bfc_allocator.cc:1089] InUse at 7f8ecbd5f200 of size 256 next 137\n",
      "2023-05-07 07:56:29.517218: I tensorflow/core/common_runtime/bfc_allocator.cc:1089] InUse at 7f8ecbd5f300 of size 2048 next 138\n",
      "2023-05-07 07:56:29.517222: I tensorflow/core/common_runtime/bfc_allocator.cc:1089] InUse at 7f8ecbd5fb00 of size 1024 next 139\n",
      "2023-05-07 07:56:29.517227: I tensorflow/core/common_runtime/bfc_allocator.cc:1089] InUse at 7f8ecbd5ff00 of size 512 next 140\n",
      "2023-05-07 07:56:29.517232: I tensorflow/core/common_runtime/bfc_allocator.cc:1089] InUse at 7f8ecbd60100 of size 6553600 next 141\n",
      "2023-05-07 07:56:29.517237: I tensorflow/core/common_runtime/bfc_allocator.cc:1089] InUse at 7f8ecc3a0100 of size 3737600 next 142\n",
      "2023-05-07 07:56:29.517242: I tensorflow/core/common_runtime/bfc_allocator.cc:1089] InUse at 7f8ecc730900 of size 1179648 next 143\n",
      "2023-05-07 07:56:29.517248: I tensorflow/core/common_runtime/bfc_allocator.cc:1089] InUse at 7f8ecc850900 of size 589824 next 144\n",
      "2023-05-07 07:56:29.517252: I tensorflow/core/common_runtime/bfc_allocator.cc:1089] InUse at 7f8ecc8e0900 of size 8192 next 145\n",
      "2023-05-07 07:56:29.517256: I tensorflow/core/common_runtime/bfc_allocator.cc:1089] InUse at 7f8ecc8e2900 of size 256 next 146\n",
      "2023-05-07 07:56:29.517260: I tensorflow/core/common_runtime/bfc_allocator.cc:1089] InUse at 7f8ecc8e2a00 of size 4096 next 147\n",
      "2023-05-07 07:56:29.517265: I tensorflow/core/common_runtime/bfc_allocator.cc:1089] InUse at 7f8ecc8e3a00 of size 131072 next 148\n",
      "2023-05-07 07:56:29.517270: I tensorflow/core/common_runtime/bfc_allocator.cc:1089] InUse at 7f8ecc903a00 of size 256 next 149\n",
      "2023-05-07 07:56:29.517275: I tensorflow/core/common_runtime/bfc_allocator.cc:1089] InUse at 7f8ecc903b00 of size 256 next 150\n",
      "2023-05-07 07:56:29.517279: I tensorflow/core/common_runtime/bfc_allocator.cc:1089] InUse at 7f8ecc903c00 of size 65536 next 151\n",
      "2023-05-07 07:56:29.517283: I tensorflow/core/common_runtime/bfc_allocator.cc:1089] InUse at 7f8ecc913c00 of size 256 next 152\n",
      "2023-05-07 07:56:29.517287: I tensorflow/core/common_runtime/bfc_allocator.cc:1089] InUse at 7f8ecc913d00 of size 7567558656 next 160\n",
      "2023-05-07 07:56:29.517292: I tensorflow/core/common_runtime/bfc_allocator.cc:1089] InUse at 7f908fa10500 of size 934400 next 164\n",
      "2023-05-07 07:56:29.517296: I tensorflow/core/common_runtime/bfc_allocator.cc:1089] InUse at 7f908faf4700 of size 934400 next 165\n",
      "2023-05-07 07:56:29.517301: I tensorflow/core/common_runtime/bfc_allocator.cc:1089] InUse at 7f908fbd8900 of size 934400 next 166\n",
      "2023-05-07 07:56:29.517307: I tensorflow/core/common_runtime/bfc_allocator.cc:1089] InUse at 7f908fcbcb00 of size 934400 next 167\n",
      "2023-05-07 07:56:29.517312: I tensorflow/core/common_runtime/bfc_allocator.cc:1089] InUse at 7f908fda0d00 of size 934400 next 168\n",
      "2023-05-07 07:56:29.517317: I tensorflow/core/common_runtime/bfc_allocator.cc:1089] InUse at 7f908fe84f00 of size 1638400 next 169\n",
      "2023-05-07 07:56:29.517321: I tensorflow/core/common_runtime/bfc_allocator.cc:1089] InUse at 7f9090014f00 of size 1638400 next 170\n",
      "2023-05-07 07:56:29.517326: I tensorflow/core/common_runtime/bfc_allocator.cc:1089] InUse at 7f90901a4f00 of size 1638400 next 171\n",
      "2023-05-07 07:56:29.517331: I tensorflow/core/common_runtime/bfc_allocator.cc:1089] InUse at 7f9090334f00 of size 1638400 next 172\n",
      "2023-05-07 07:56:29.517336: I tensorflow/core/common_runtime/bfc_allocator.cc:1089] InUse at 7f90904c4f00 of size 934400 next 175\n",
      "2023-05-07 07:56:29.517341: I tensorflow/core/common_runtime/bfc_allocator.cc:1089] InUse at 7f90905a9100 of size 934400 next 176\n",
      "2023-05-07 07:56:29.517346: I tensorflow/core/common_runtime/bfc_allocator.cc:1089] InUse at 7f909068d300 of size 934400 next 174\n",
      "2023-05-07 07:56:29.517350: I tensorflow/core/common_runtime/bfc_allocator.cc:1089] InUse at 7f9090771500 of size 1638400 next 179\n",
      "2023-05-07 07:56:29.517355: I tensorflow/core/common_runtime/bfc_allocator.cc:1089] InUse at 7f9090901500 of size 1638400 next 162\n",
      "2023-05-07 07:56:29.517360: I tensorflow/core/common_runtime/bfc_allocator.cc:1089] InUse at 7f9090a91500 of size 1638400 next 183\n",
      "2023-05-07 07:56:29.517365: I tensorflow/core/common_runtime/bfc_allocator.cc:1089] InUse at 7f9090c21500 of size 1638400 next 184\n",
      "2023-05-07 07:56:29.517370: I tensorflow/core/common_runtime/bfc_allocator.cc:1089] Free  at 7f9090db1500 of size 1043605760 next 153\n",
      "2023-05-07 07:56:29.517375: I tensorflow/core/common_runtime/bfc_allocator.cc:1089] InUse at 7f90cf0f3e00 of size 118243328 next 154\n",
      "2023-05-07 07:56:29.517380: I tensorflow/core/common_runtime/bfc_allocator.cc:1089] InUse at 7f90d61b7e00 of size 118243328 next 155\n",
      "2023-05-07 07:56:29.517383: I tensorflow/core/common_runtime/bfc_allocator.cc:1089] InUse at 7f90dd27be00 of size 256 next 156\n",
      "2023-05-07 07:56:29.517389: I tensorflow/core/common_runtime/bfc_allocator.cc:1089] InUse at 7f90dd27bf00 of size 256 next 157\n",
      "2023-05-07 07:56:29.517394: I tensorflow/core/common_runtime/bfc_allocator.cc:1089] InUse at 7f90dd27c000 of size 4315873536 next 177\n",
      "2023-05-07 07:56:29.517399: I tensorflow/core/common_runtime/bfc_allocator.cc:1089] InUse at 7f91de66c100 of size 7567558656 next 158\n",
      "2023-05-07 07:56:29.517404: I tensorflow/core/common_runtime/bfc_allocator.cc:1089] Free  at 7f93a1768900 of size 5380061440 next 159\n",
      "2023-05-07 07:56:29.517409: I tensorflow/core/common_runtime/bfc_allocator.cc:1089] InUse at 7f94e223c200 of size 4315873536 next 161\n",
      "2023-05-07 07:56:29.517414: I tensorflow/core/common_runtime/bfc_allocator.cc:1089] InUse at 7f95e362c300 of size 4315873536 next 163\n",
      "2023-05-07 07:56:29.517419: I tensorflow/core/common_runtime/bfc_allocator.cc:1089] InUse at 7f96e4a1c400 of size 7567558656 next 178\n",
      "2023-05-07 07:56:29.517424: I tensorflow/core/common_runtime/bfc_allocator.cc:1089] InUse at 7f98a7b18c00 of size 7567558656 next 180\n",
      "2023-05-07 07:56:29.517429: I tensorflow/core/common_runtime/bfc_allocator.cc:1089] InUse at 7f9a6ac15400 of size 7567558656 next 182\n",
      "2023-05-07 07:56:29.517434: I tensorflow/core/common_runtime/bfc_allocator.cc:1089] InUse at 7f9c2dd11c00 of size 7567558656 next 181\n",
      "2023-05-07 07:56:29.517439: I tensorflow/core/common_runtime/bfc_allocator.cc:1089] InUse at 7f9df0e0e400 of size 7567558656 next 173\n",
      "2023-05-07 07:56:29.517445: I tensorflow/core/common_runtime/bfc_allocator.cc:1089] Free  at 7f9fb3f0ac00 of size 1297372160 next 18446744073709551615\n",
      "2023-05-07 07:56:29.517448: I tensorflow/core/common_runtime/bfc_allocator.cc:1094]      Summary of in-use Chunks by size: \n",
      "2023-05-07 07:56:29.517454: I tensorflow/core/common_runtime/bfc_allocator.cc:1097] 92 Chunks of size 256 totalling 23.0KiB\n",
      "2023-05-07 07:56:29.517460: I tensorflow/core/common_runtime/bfc_allocator.cc:1097] 12 Chunks of size 512 totalling 6.0KiB\n",
      "2023-05-07 07:56:29.517466: I tensorflow/core/common_runtime/bfc_allocator.cc:1097] 4 Chunks of size 1024 totalling 4.0KiB\n",
      "2023-05-07 07:56:29.517472: I tensorflow/core/common_runtime/bfc_allocator.cc:1097] 1 Chunks of size 1280 totalling 1.2KiB\n",
      "2023-05-07 07:56:29.517479: I tensorflow/core/common_runtime/bfc_allocator.cc:1097] 3 Chunks of size 1792 totalling 5.2KiB\n",
      "2023-05-07 07:56:29.517486: I tensorflow/core/common_runtime/bfc_allocator.cc:1097] 4 Chunks of size 2048 totalling 8.0KiB\n",
      "2023-05-07 07:56:29.517491: I tensorflow/core/common_runtime/bfc_allocator.cc:1097] 1 Chunks of size 3584 totalling 3.5KiB\n",
      "2023-05-07 07:56:29.517499: I tensorflow/core/common_runtime/bfc_allocator.cc:1097] 3 Chunks of size 4096 totalling 12.0KiB\n",
      "2023-05-07 07:56:29.517506: I tensorflow/core/common_runtime/bfc_allocator.cc:1097] 1 Chunks of size 7424 totalling 7.2KiB\n",
      "2023-05-07 07:56:29.517512: I tensorflow/core/common_runtime/bfc_allocator.cc:1097] 3 Chunks of size 8192 totalling 24.0KiB\n",
      "2023-05-07 07:56:29.517518: I tensorflow/core/common_runtime/bfc_allocator.cc:1097] 1 Chunks of size 14848 totalling 14.5KiB\n",
      "2023-05-07 07:56:29.517523: I tensorflow/core/common_runtime/bfc_allocator.cc:1097] 1 Chunks of size 32768 totalling 32.0KiB\n",
      "2023-05-07 07:56:29.517529: I tensorflow/core/common_runtime/bfc_allocator.cc:1097] 4 Chunks of size 65536 totalling 256.0KiB\n",
      "2023-05-07 07:56:29.517535: I tensorflow/core/common_runtime/bfc_allocator.cc:1097] 3 Chunks of size 131072 totalling 384.0KiB\n",
      "2023-05-07 07:56:29.517539: I tensorflow/core/common_runtime/bfc_allocator.cc:1097] 1 Chunks of size 131328 totalling 128.2KiB\n",
      "2023-05-07 07:56:29.517545: I tensorflow/core/common_runtime/bfc_allocator.cc:1097] 1 Chunks of size 294912 totalling 288.0KiB\n",
      "2023-05-07 07:56:29.517551: I tensorflow/core/common_runtime/bfc_allocator.cc:1097] 3 Chunks of size 589824 totalling 1.69MiB\n",
      "2023-05-07 07:56:29.517556: I tensorflow/core/common_runtime/bfc_allocator.cc:1097] 1 Chunks of size 590080 totalling 576.2KiB\n",
      "2023-05-07 07:56:29.517561: I tensorflow/core/common_runtime/bfc_allocator.cc:1097] 9 Chunks of size 934400 totalling 8.02MiB\n",
      "2023-05-07 07:56:29.517567: I tensorflow/core/common_runtime/bfc_allocator.cc:1097] 3 Chunks of size 1179648 totalling 3.38MiB\n",
      "2023-05-07 07:56:29.517572: I tensorflow/core/common_runtime/bfc_allocator.cc:1097] 1 Chunks of size 1373440 totalling 1.31MiB\n",
      "2023-05-07 07:56:29.517578: I tensorflow/core/common_runtime/bfc_allocator.cc:1097] 8 Chunks of size 1638400 totalling 12.50MiB\n",
      "2023-05-07 07:56:29.517583: I tensorflow/core/common_runtime/bfc_allocator.cc:1097] 3 Chunks of size 3737600 totalling 10.69MiB\n",
      "2023-05-07 07:56:29.517589: I tensorflow/core/common_runtime/bfc_allocator.cc:1097] 1 Chunks of size 3930624 totalling 3.75MiB\n",
      "2023-05-07 07:56:29.517594: I tensorflow/core/common_runtime/bfc_allocator.cc:1097] 4 Chunks of size 6553600 totalling 25.00MiB\n",
      "2023-05-07 07:56:29.517598: I tensorflow/core/common_runtime/bfc_allocator.cc:1097] 3 Chunks of size 118243328 totalling 338.30MiB\n",
      "2023-05-07 07:56:29.517602: I tensorflow/core/common_runtime/bfc_allocator.cc:1097] 3 Chunks of size 4315873536 totalling 12.06GiB\n",
      "2023-05-07 07:56:29.517608: I tensorflow/core/common_runtime/bfc_allocator.cc:1097] 7 Chunks of size 7567558656 totalling 49.33GiB\n",
      "2023-05-07 07:56:29.517613: I tensorflow/core/common_runtime/bfc_allocator.cc:1097] 1 Chunks of size 8631746816 totalling 8.04GiB\n",
      "2023-05-07 07:56:29.517618: I tensorflow/core/common_runtime/bfc_allocator.cc:1101] Sum Total of in-use chunks: 69.83GiB\n",
      "2023-05-07 07:56:29.517624: I tensorflow/core/common_runtime/bfc_allocator.cc:1103] total_region_allocated_bytes_: 82699419648 memory_limit_: 82699419648 available bytes: 0 curr_region_allocation_bytes_: 165398839296\n",
      "2023-05-07 07:56:29.517631: I tensorflow/core/common_runtime/bfc_allocator.cc:1109] Stats: \n",
      "Limit:                     82699419648\n",
      "InUse:                     74978380288\n",
      "MaxInUse:                  74978380288\n",
      "NumAllocs:                         294\n",
      "MaxAllocSize:               8631746816\n",
      "Reserved:                            0\n",
      "PeakReserved:                        0\n",
      "LargestFreeBlock:                    0\n",
      "\n",
      "2023-05-07 07:56:29.517641: W tensorflow/core/common_runtime/bfc_allocator.cc:491] ********************_***************______*********************************************************_\n",
      "2023-05-07 07:56:29.517652: W tensorflow/core/framework/op_kernel.cc:1780] OP_REQUIRES failed at transpose_op.cc:183 : RESOURCE_EXHAUSTED: OOM when allocating tensor with shape[12,1253,983,128] and type float on /job:localhost/replica:0/task:0/device:GPU:0 by allocator GPU_0_bfc\n"
     ]
    }
   ],
   "source": [
    "history = model.fit(X_train, y_train, epochs=epochs, validation_data=(X_test,y_test), verbose=True)"
   ]
  },
  {
   "cell_type": "code",
   "execution_count": null,
   "id": "36686d95",
   "metadata": {},
   "outputs": [],
   "source": [
    "y_hat = model.predict(X_test)\n",
    "print(y_hat.shape)\n",
    "print(y_test.shape)\n",
    "y_hat_mod = np.argmax (y_hat, axis = 1)\n",
    "y_test_mod=np.argmax(y_test, axis=1)\n",
    "print(y_hat_mod.flatten().shape)\n",
    "print(y_test_mod.flatten().shape)\n",
    "\n",
    "conf_mat = confusion_matrix(y_test_mod.flatten(), y_hat_mod.flatten())\n",
    "disp = ConfusionMatrixDisplay(conf_mat)\n",
    "disp.plot()\n",
    "plt.savefig('conf_mat.png')\n",
    "plt.show()\n",
    "# plt.matshow(conf_mat)\n",
    "# plt.savefig('conf_mat.png')\n",
    "# plt.show()"
   ]
  },
  {
   "cell_type": "code",
   "execution_count": null,
   "id": "3b4ff69d",
   "metadata": {},
   "outputs": [],
   "source": [
    "# print model keys\n",
    "print(history.history.keys())"
   ]
  },
  {
   "cell_type": "code",
   "execution_count": null,
   "id": "b1242435",
   "metadata": {},
   "outputs": [],
   "source": [
    "# accuracy graph\n",
    "plt.plot(history.history['accuracy'])\n",
    "plt.plot(history.history['val_accuracy'])\n",
    "plt.title('model accuracy')\n",
    "plt.ylabel('accuracy')\n",
    "plt.xlabel('epoch')\n",
    "plt.legend(['train', 'validation'], loc='upper left')\n",
    "plt.savefig('acc.png')\n",
    "plt.show()"
   ]
  },
  {
   "cell_type": "code",
   "execution_count": null,
   "id": "5e98428a",
   "metadata": {},
   "outputs": [],
   "source": [
    "# loss graph\n",
    "plt.plot(history.history['loss'])\n",
    "plt.plot(history.history['val_loss'])\n",
    "plt.title('model loss')\n",
    "plt.ylabel('loss')\n",
    "plt.xlabel('epoch')\n",
    "plt.legend(['train', 'validation'], loc='upper left')\n",
    "plt.show()"
   ]
  },
  {
   "cell_type": "code",
   "execution_count": null,
   "id": "c6f58b19",
   "metadata": {},
   "outputs": [],
   "source": []
  }
 ],
 "metadata": {
  "kernelspec": {
   "display_name": "Python 3 (ipykernel)",
   "language": "python",
   "name": "python3"
  },
  "language_info": {
   "codemirror_mode": {
    "name": "ipython",
    "version": 3
   },
   "file_extension": ".py",
   "mimetype": "text/x-python",
   "name": "python",
   "nbconvert_exporter": "python",
   "pygments_lexer": "ipython3",
   "version": "3.8.10"
  }
 },
 "nbformat": 4,
 "nbformat_minor": 5
}
